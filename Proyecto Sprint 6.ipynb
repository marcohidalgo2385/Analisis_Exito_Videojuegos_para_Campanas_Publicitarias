{
 "cells": [
  {
   "cell_type": "markdown",
   "metadata": {},
   "source": [
    "¡Hola!\n",
    "\n",
    "Mi nombre es Tonatiuh Cruz. Me complace revisar tu proyecto hoy.\n",
    "\n",
    "Al identificar cualquier error inicialmente, simplemente los destacaré. Te animo a localizar y abordar los problemas de forma independiente como parte de tu preparación para un rol como data-scientist. En un entorno profesional, tu líder de equipo seguiría un enfoque similar. Si encuentras la tarea desafiante, proporcionaré una pista más específica en la próxima iteración.\n",
    "\n",
    "Encontrarás mis comentarios a continuación - **por favor no los muevas, modifiques o elimines**.\n",
    "\n",
    "Puedes encontrar mis comentarios en cajas verdes, amarillas o rojas como esta:\n",
    "\n",
    "<div class=\"alert alert-block alert-success\">\n",
    "<b>Comentario del revisor</b> <a class=\"tocSkip\"></a>\n",
    "\n",
    "Éxito. Todo está hecho correctamente.\n",
    "</div>\n",
    "\n",
    "<div class=\"alert alert-block alert-warning\">\n",
    "<b>Comentario del revisor</b> <a class=\"tocSkip\"></a>\n",
    "\n",
    "Observaciones. Algunas recomendaciones.\n",
    "</div>\n",
    "\n",
    "<div class=\"alert alert-block alert-danger\">\n",
    "<b>Comentario del revisor</b> <a class=\"tocSkip\"></a>\n",
    "\n",
    "Necesita corrección. El bloque requiere algunas correcciones. El trabajo no puede ser aceptado con comentarios en rojo.\n",
    "</div>\n",
    "\n",
    "Puedes responderme utilizando esto:\n",
    "\n",
    "<div class=\"alert alert-block alert-info\">\n",
    "<b>Respuesta del estudiante.</b> <a class=\"tocSkip\"></a>\n",
    "</div>"
   ]
  },
  {
   "cell_type": "markdown",
   "metadata": {},
   "source": [
    "<div class=\"alert alert-block alert-danger\">\n",
    "<b>Comentario del revisor</b> <a class=\"tocSkip\"></a>\n",
    "\n",
    "¡Hola, Marco! Recuerda que es importante agregar una introducción, objetivo y etapas de análisis. Esto es crucial para cualquier proyecto, ya que establece una guía clara sobre los pasos a seguir y un análisis inicial sobre los datos con los que contamos. Tener estos elementos bien definidos desde el principio nos permite trabajar de manera más organizada y eficiente. En un futuro lo podrías complementar con una tabla de contenido.\n",
    "</div>"
   ]
  },
  {
   "cell_type": "markdown",
   "metadata": {},
   "source": [
    "<div class=\"alert alert-block alert-info\">\n",
    "<b>Se agrega introducción, objetivo y etapas del análisis del proyecto de acuerdo con las recomendaciones del revisor, esto ayudará a trabajar de una manera más eficiente y organizada.</b> <a class=\"tocSkip\"></a>\n",
    "</div>"
   ]
  },
  {
   "cell_type": "markdown",
   "metadata": {},
   "source": [
    "# Proyecto Intregrado 1"
   ]
  },
  {
   "cell_type": "markdown",
   "metadata": {},
   "source": [
    "## Introducción\n",
    "\n",
    "En el emocionante mundo de los videojuegos, la tienda online Ice se enfrenta al desafío de identificar patrones que determinen el éxito de un juego. Con acceso a datos históricos sobre ventas, reseñas de usuarios y expertos, géneros y plataformas, nuestro objetivo es descubrir qué factores influyen en el rendimiento de los juegos. Imaginemos que estamos en diciembre de 2016, y estamos planeando una campaña para 2017. Este proyecto nos brinda la oportunidad de adquirir experiencia en el análisis de datos y tomar decisiones informadas."
   ]
  },
  {
   "cell_type": "markdown",
   "metadata": {},
   "source": [
    "## Objetivo\n",
    "\n",
    "El objetivo principal es predecir el éxito de los juegos en función de sus características. Queremos identificar proyectos prometedores y planificar campañas publicitarias efectivas. Para lograrlo, nos centraremos en las siguientes etapas:\n",
    "\n",
    "Limpieza y preparación de datos:\n",
    "\n",
    "* Trataremos los valores faltantes, duplicados y atípicos en el conjunto de datos.\n",
    "* Realizaremos transformaciones necesarias, como codificación de variables categóricas y normalización.\n",
    "\n",
    "Exploración de datos:\n",
    "\n",
    "* Comenzaremos por explorar el conjunto de datos disponible. Investigaremos las variables relevantes, como género, plataforma, reseñas y clasificación ESRB.\n",
    "* Identificaremos posibles relaciones entre estas variables y las ventas de los juegos.\n",
    "\n",
    "Análisis descriptivo:\n",
    "\n",
    "* Calcularemos estadísticas descriptivas para comprender la distribución de las ventas, reseñas y otras métricas.\n",
    "* Visualizaremos los datos utilizando gráficos para obtener una visión general.\n",
    "\n",
    "Prueba de hipótesis:\n",
    "\n",
    "* Evaluaremos las calificaciones promedio de los usuarios para las plataformas Xbox One y PC.\n",
    "\n",
    "* Evaluaremos calificaciones promedio de los usuarios para los géneros de Acción y Deportes.\n",
    "\n",
    "Conclusiones Generales"
   ]
  },
  {
   "cell_type": "markdown",
   "metadata": {},
   "source": [
    "## Información General del Proyecto"
   ]
  },
  {
   "cell_type": "markdown",
   "metadata": {},
   "source": [
    "### Carga de librerias"
   ]
  },
  {
   "cell_type": "code",
   "execution_count": 57,
   "metadata": {
    "scrolled": true,
    "tags": [
     "e5c1f0c2-db9f-43a0-99b9-4875c52427e8"
    ]
   },
   "outputs": [],
   "source": [
    "import pandas as pd\n",
    "import numpy as np\n",
    "import matplotlib.pyplot as plt\n",
    "from scipy import stats as st\n",
    "from scipy.stats import levene\n",
    "from scipy.stats import ttest_ind\n",
    "\n"
   ]
  },
  {
   "cell_type": "markdown",
   "metadata": {},
   "source": [
    "### Carga de base de datos"
   ]
  },
  {
   "cell_type": "code",
   "execution_count": 3,
   "metadata": {},
   "outputs": [
    {
     "data": {
      "text/html": [
       "<div>\n",
       "<style scoped>\n",
       "    .dataframe tbody tr th:only-of-type {\n",
       "        vertical-align: middle;\n",
       "    }\n",
       "\n",
       "    .dataframe tbody tr th {\n",
       "        vertical-align: top;\n",
       "    }\n",
       "\n",
       "    .dataframe thead th {\n",
       "        text-align: right;\n",
       "    }\n",
       "</style>\n",
       "<table border=\"1\" class=\"dataframe\">\n",
       "  <thead>\n",
       "    <tr style=\"text-align: right;\">\n",
       "      <th></th>\n",
       "      <th>Name</th>\n",
       "      <th>Platform</th>\n",
       "      <th>Year_of_Release</th>\n",
       "      <th>Genre</th>\n",
       "      <th>NA_sales</th>\n",
       "      <th>EU_sales</th>\n",
       "      <th>JP_sales</th>\n",
       "      <th>Other_sales</th>\n",
       "      <th>Critic_Score</th>\n",
       "      <th>User_Score</th>\n",
       "      <th>Rating</th>\n",
       "    </tr>\n",
       "  </thead>\n",
       "  <tbody>\n",
       "    <tr>\n",
       "      <th>0</th>\n",
       "      <td>Wii Sports</td>\n",
       "      <td>Wii</td>\n",
       "      <td>2006.0</td>\n",
       "      <td>Sports</td>\n",
       "      <td>41.36</td>\n",
       "      <td>28.96</td>\n",
       "      <td>3.77</td>\n",
       "      <td>8.45</td>\n",
       "      <td>76.0</td>\n",
       "      <td>8</td>\n",
       "      <td>E</td>\n",
       "    </tr>\n",
       "    <tr>\n",
       "      <th>1</th>\n",
       "      <td>Super Mario Bros.</td>\n",
       "      <td>NES</td>\n",
       "      <td>1985.0</td>\n",
       "      <td>Platform</td>\n",
       "      <td>29.08</td>\n",
       "      <td>3.58</td>\n",
       "      <td>6.81</td>\n",
       "      <td>0.77</td>\n",
       "      <td>NaN</td>\n",
       "      <td>NaN</td>\n",
       "      <td>NaN</td>\n",
       "    </tr>\n",
       "    <tr>\n",
       "      <th>2</th>\n",
       "      <td>Mario Kart Wii</td>\n",
       "      <td>Wii</td>\n",
       "      <td>2008.0</td>\n",
       "      <td>Racing</td>\n",
       "      <td>15.68</td>\n",
       "      <td>12.76</td>\n",
       "      <td>3.79</td>\n",
       "      <td>3.29</td>\n",
       "      <td>82.0</td>\n",
       "      <td>8.3</td>\n",
       "      <td>E</td>\n",
       "    </tr>\n",
       "    <tr>\n",
       "      <th>3</th>\n",
       "      <td>Wii Sports Resort</td>\n",
       "      <td>Wii</td>\n",
       "      <td>2009.0</td>\n",
       "      <td>Sports</td>\n",
       "      <td>15.61</td>\n",
       "      <td>10.93</td>\n",
       "      <td>3.28</td>\n",
       "      <td>2.95</td>\n",
       "      <td>80.0</td>\n",
       "      <td>8</td>\n",
       "      <td>E</td>\n",
       "    </tr>\n",
       "    <tr>\n",
       "      <th>4</th>\n",
       "      <td>Pokemon Red/Pokemon Blue</td>\n",
       "      <td>GB</td>\n",
       "      <td>1996.0</td>\n",
       "      <td>Role-Playing</td>\n",
       "      <td>11.27</td>\n",
       "      <td>8.89</td>\n",
       "      <td>10.22</td>\n",
       "      <td>1.00</td>\n",
       "      <td>NaN</td>\n",
       "      <td>NaN</td>\n",
       "      <td>NaN</td>\n",
       "    </tr>\n",
       "  </tbody>\n",
       "</table>\n",
       "</div>"
      ],
      "text/plain": [
       "                       Name Platform  Year_of_Release         Genre  NA_sales  \\\n",
       "0                Wii Sports      Wii           2006.0        Sports     41.36   \n",
       "1         Super Mario Bros.      NES           1985.0      Platform     29.08   \n",
       "2            Mario Kart Wii      Wii           2008.0        Racing     15.68   \n",
       "3         Wii Sports Resort      Wii           2009.0        Sports     15.61   \n",
       "4  Pokemon Red/Pokemon Blue       GB           1996.0  Role-Playing     11.27   \n",
       "\n",
       "   EU_sales  JP_sales  Other_sales  Critic_Score User_Score Rating  \n",
       "0     28.96      3.77         8.45          76.0          8      E  \n",
       "1      3.58      6.81         0.77           NaN        NaN    NaN  \n",
       "2     12.76      3.79         3.29          82.0        8.3      E  \n",
       "3     10.93      3.28         2.95          80.0          8      E  \n",
       "4      8.89     10.22         1.00           NaN        NaN    NaN  "
      ]
     },
     "execution_count": 3,
     "metadata": {},
     "output_type": "execute_result"
    }
   ],
   "source": [
    "df = pd.read_csv(\"/datasets/games.csv\")\n",
    "df.head()"
   ]
  },
  {
   "cell_type": "markdown",
   "metadata": {},
   "source": [
    "<div class=\"alert alert-block alert-warning\">\n",
    "<b>Comentario revisor</b> <a class=\"tocSkip\"></a>\n",
    "\n",
    "\n",
    "Te recomiendo que como buena práctica separes la carga de las librerías y la carga de las bases de datos. \n",
    "</div>"
   ]
  },
  {
   "cell_type": "markdown",
   "metadata": {},
   "source": [
    "<div class=\"alert alert-block alert-info\">\n",
    "<b>Para generar buen hábito en el trabajo, se ha separado en dos secciones la carga de las librerías necesarias para el proyecto y la carga de la base de datos que se usará durante todo el análisis posterior.</b> <a class=\"tocSkip\"></a>\n",
    "</div>"
   ]
  },
  {
   "cell_type": "markdown",
   "metadata": {},
   "source": [
    "<div class=\"alert alert-block alert-success\">\n",
    "<b>Comentario del revisor</b> <a class=\"tocSkip\"></a>\n",
    "\n",
    "Muy buen trabajo con los ajustes!\n",
    "</div>"
   ]
  },
  {
   "cell_type": "markdown",
   "metadata": {},
   "source": [
    "## Preparación de los Datos"
   ]
  },
  {
   "cell_type": "markdown",
   "metadata": {},
   "source": [
    "### Reemplazo de columnas"
   ]
  },
  {
   "cell_type": "code",
   "execution_count": 4,
   "metadata": {},
   "outputs": [
    {
     "name": "stdout",
     "output_type": "stream",
     "text": [
      "<class 'pandas.core.frame.DataFrame'>\n",
      "RangeIndex: 16715 entries, 0 to 16714\n",
      "Data columns (total 11 columns):\n",
      " #   Column           Non-Null Count  Dtype  \n",
      "---  ------           --------------  -----  \n",
      " 0   Name             16713 non-null  object \n",
      " 1   Platform         16715 non-null  object \n",
      " 2   Year_of_Release  16446 non-null  float64\n",
      " 3   Genre            16713 non-null  object \n",
      " 4   NA_sales         16715 non-null  float64\n",
      " 5   EU_sales         16715 non-null  float64\n",
      " 6   JP_sales         16715 non-null  float64\n",
      " 7   Other_sales      16715 non-null  float64\n",
      " 8   Critic_Score     8137 non-null   float64\n",
      " 9   User_Score       10014 non-null  object \n",
      " 10  Rating           9949 non-null   object \n",
      "dtypes: float64(6), object(5)\n",
      "memory usage: 1.4+ MB\n",
      "Muestra los nombres corregidos de columnas\n"
     ]
    },
    {
     "data": {
      "text/html": [
       "<div>\n",
       "<style scoped>\n",
       "    .dataframe tbody tr th:only-of-type {\n",
       "        vertical-align: middle;\n",
       "    }\n",
       "\n",
       "    .dataframe tbody tr th {\n",
       "        vertical-align: top;\n",
       "    }\n",
       "\n",
       "    .dataframe thead th {\n",
       "        text-align: right;\n",
       "    }\n",
       "</style>\n",
       "<table border=\"1\" class=\"dataframe\">\n",
       "  <thead>\n",
       "    <tr style=\"text-align: right;\">\n",
       "      <th></th>\n",
       "      <th>name</th>\n",
       "      <th>platform</th>\n",
       "      <th>year_of_release</th>\n",
       "      <th>genre</th>\n",
       "      <th>na_sales</th>\n",
       "      <th>eu_sales</th>\n",
       "      <th>jp_sales</th>\n",
       "      <th>other_sales</th>\n",
       "      <th>critic_score</th>\n",
       "      <th>user_score</th>\n",
       "      <th>rating</th>\n",
       "    </tr>\n",
       "  </thead>\n",
       "  <tbody>\n",
       "    <tr>\n",
       "      <th>0</th>\n",
       "      <td>Wii Sports</td>\n",
       "      <td>Wii</td>\n",
       "      <td>2006.0</td>\n",
       "      <td>Sports</td>\n",
       "      <td>41.36</td>\n",
       "      <td>28.96</td>\n",
       "      <td>3.77</td>\n",
       "      <td>8.45</td>\n",
       "      <td>76.0</td>\n",
       "      <td>8</td>\n",
       "      <td>E</td>\n",
       "    </tr>\n",
       "    <tr>\n",
       "      <th>1</th>\n",
       "      <td>Super Mario Bros.</td>\n",
       "      <td>NES</td>\n",
       "      <td>1985.0</td>\n",
       "      <td>Platform</td>\n",
       "      <td>29.08</td>\n",
       "      <td>3.58</td>\n",
       "      <td>6.81</td>\n",
       "      <td>0.77</td>\n",
       "      <td>NaN</td>\n",
       "      <td>NaN</td>\n",
       "      <td>NaN</td>\n",
       "    </tr>\n",
       "    <tr>\n",
       "      <th>2</th>\n",
       "      <td>Mario Kart Wii</td>\n",
       "      <td>Wii</td>\n",
       "      <td>2008.0</td>\n",
       "      <td>Racing</td>\n",
       "      <td>15.68</td>\n",
       "      <td>12.76</td>\n",
       "      <td>3.79</td>\n",
       "      <td>3.29</td>\n",
       "      <td>82.0</td>\n",
       "      <td>8.3</td>\n",
       "      <td>E</td>\n",
       "    </tr>\n",
       "    <tr>\n",
       "      <th>3</th>\n",
       "      <td>Wii Sports Resort</td>\n",
       "      <td>Wii</td>\n",
       "      <td>2009.0</td>\n",
       "      <td>Sports</td>\n",
       "      <td>15.61</td>\n",
       "      <td>10.93</td>\n",
       "      <td>3.28</td>\n",
       "      <td>2.95</td>\n",
       "      <td>80.0</td>\n",
       "      <td>8</td>\n",
       "      <td>E</td>\n",
       "    </tr>\n",
       "    <tr>\n",
       "      <th>4</th>\n",
       "      <td>Pokemon Red/Pokemon Blue</td>\n",
       "      <td>GB</td>\n",
       "      <td>1996.0</td>\n",
       "      <td>Role-Playing</td>\n",
       "      <td>11.27</td>\n",
       "      <td>8.89</td>\n",
       "      <td>10.22</td>\n",
       "      <td>1.00</td>\n",
       "      <td>NaN</td>\n",
       "      <td>NaN</td>\n",
       "      <td>NaN</td>\n",
       "    </tr>\n",
       "    <tr>\n",
       "      <th>...</th>\n",
       "      <td>...</td>\n",
       "      <td>...</td>\n",
       "      <td>...</td>\n",
       "      <td>...</td>\n",
       "      <td>...</td>\n",
       "      <td>...</td>\n",
       "      <td>...</td>\n",
       "      <td>...</td>\n",
       "      <td>...</td>\n",
       "      <td>...</td>\n",
       "      <td>...</td>\n",
       "    </tr>\n",
       "    <tr>\n",
       "      <th>16710</th>\n",
       "      <td>Samurai Warriors: Sanada Maru</td>\n",
       "      <td>PS3</td>\n",
       "      <td>2016.0</td>\n",
       "      <td>Action</td>\n",
       "      <td>0.00</td>\n",
       "      <td>0.00</td>\n",
       "      <td>0.01</td>\n",
       "      <td>0.00</td>\n",
       "      <td>NaN</td>\n",
       "      <td>NaN</td>\n",
       "      <td>NaN</td>\n",
       "    </tr>\n",
       "    <tr>\n",
       "      <th>16711</th>\n",
       "      <td>LMA Manager 2007</td>\n",
       "      <td>X360</td>\n",
       "      <td>2006.0</td>\n",
       "      <td>Sports</td>\n",
       "      <td>0.00</td>\n",
       "      <td>0.01</td>\n",
       "      <td>0.00</td>\n",
       "      <td>0.00</td>\n",
       "      <td>NaN</td>\n",
       "      <td>NaN</td>\n",
       "      <td>NaN</td>\n",
       "    </tr>\n",
       "    <tr>\n",
       "      <th>16712</th>\n",
       "      <td>Haitaka no Psychedelica</td>\n",
       "      <td>PSV</td>\n",
       "      <td>2016.0</td>\n",
       "      <td>Adventure</td>\n",
       "      <td>0.00</td>\n",
       "      <td>0.00</td>\n",
       "      <td>0.01</td>\n",
       "      <td>0.00</td>\n",
       "      <td>NaN</td>\n",
       "      <td>NaN</td>\n",
       "      <td>NaN</td>\n",
       "    </tr>\n",
       "    <tr>\n",
       "      <th>16713</th>\n",
       "      <td>Spirits &amp; Spells</td>\n",
       "      <td>GBA</td>\n",
       "      <td>2003.0</td>\n",
       "      <td>Platform</td>\n",
       "      <td>0.01</td>\n",
       "      <td>0.00</td>\n",
       "      <td>0.00</td>\n",
       "      <td>0.00</td>\n",
       "      <td>NaN</td>\n",
       "      <td>NaN</td>\n",
       "      <td>NaN</td>\n",
       "    </tr>\n",
       "    <tr>\n",
       "      <th>16714</th>\n",
       "      <td>Winning Post 8 2016</td>\n",
       "      <td>PSV</td>\n",
       "      <td>2016.0</td>\n",
       "      <td>Simulation</td>\n",
       "      <td>0.00</td>\n",
       "      <td>0.00</td>\n",
       "      <td>0.01</td>\n",
       "      <td>0.00</td>\n",
       "      <td>NaN</td>\n",
       "      <td>NaN</td>\n",
       "      <td>NaN</td>\n",
       "    </tr>\n",
       "  </tbody>\n",
       "</table>\n",
       "<p>16715 rows × 11 columns</p>\n",
       "</div>"
      ],
      "text/plain": [
       "                                name platform  year_of_release         genre  \\\n",
       "0                         Wii Sports      Wii           2006.0        Sports   \n",
       "1                  Super Mario Bros.      NES           1985.0      Platform   \n",
       "2                     Mario Kart Wii      Wii           2008.0        Racing   \n",
       "3                  Wii Sports Resort      Wii           2009.0        Sports   \n",
       "4           Pokemon Red/Pokemon Blue       GB           1996.0  Role-Playing   \n",
       "...                              ...      ...              ...           ...   \n",
       "16710  Samurai Warriors: Sanada Maru      PS3           2016.0        Action   \n",
       "16711               LMA Manager 2007     X360           2006.0        Sports   \n",
       "16712        Haitaka no Psychedelica      PSV           2016.0     Adventure   \n",
       "16713               Spirits & Spells      GBA           2003.0      Platform   \n",
       "16714            Winning Post 8 2016      PSV           2016.0    Simulation   \n",
       "\n",
       "       na_sales  eu_sales  jp_sales  other_sales  critic_score user_score  \\\n",
       "0         41.36     28.96      3.77         8.45          76.0          8   \n",
       "1         29.08      3.58      6.81         0.77           NaN        NaN   \n",
       "2         15.68     12.76      3.79         3.29          82.0        8.3   \n",
       "3         15.61     10.93      3.28         2.95          80.0          8   \n",
       "4         11.27      8.89     10.22         1.00           NaN        NaN   \n",
       "...         ...       ...       ...          ...           ...        ...   \n",
       "16710      0.00      0.00      0.01         0.00           NaN        NaN   \n",
       "16711      0.00      0.01      0.00         0.00           NaN        NaN   \n",
       "16712      0.00      0.00      0.01         0.00           NaN        NaN   \n",
       "16713      0.01      0.00      0.00         0.00           NaN        NaN   \n",
       "16714      0.00      0.00      0.01         0.00           NaN        NaN   \n",
       "\n",
       "      rating  \n",
       "0          E  \n",
       "1        NaN  \n",
       "2          E  \n",
       "3          E  \n",
       "4        NaN  \n",
       "...      ...  \n",
       "16710    NaN  \n",
       "16711    NaN  \n",
       "16712    NaN  \n",
       "16713    NaN  \n",
       "16714    NaN  \n",
       "\n",
       "[16715 rows x 11 columns]"
      ]
     },
     "execution_count": 4,
     "metadata": {},
     "output_type": "execute_result"
    }
   ],
   "source": [
    "df.info()\n",
    "\n",
    "#Correción de nombres de columnas\n",
    "\n",
    "new_names = {\"Name\":\"name\", \"Platform\":\"platform\", \"Year_of_Release\":\"year_of_release\", \"Genre\":\"genre\", \"NA_sales\": \"na_sales\", \"EU_sales\":\"eu_sales\", \"JP_sales\":\"jp_sales\", \"Other_sales\": \"other_sales\", \"Critic_Score\":\"critic_score\", \"User_Score\":\"user_score\", \"Rating\":\"rating\"}\n",
    "\n",
    "df = df.rename(columns = new_names) #reemplaza los nombres de las columnas\n",
    "\n",
    "print(\"Muestra los nombres corregidos de columnas\")\n",
    "\n",
    "df"
   ]
  },
  {
   "cell_type": "markdown",
   "metadata": {},
   "source": [
    "<div class=\"alert alert-block alert-success\">\n",
    "<b>Comentario del revisor:</b> <a class=\"tocSkip\"></a>\n",
    "    \n",
    "Has realizado un excelente trabajo presentando la información de la base de datos.\n",
    "\n",
    "</div>"
   ]
  },
  {
   "cell_type": "markdown",
   "metadata": {},
   "source": [
    "### Conversión de tipo de datos"
   ]
  },
  {
   "cell_type": "code",
   "execution_count": 5,
   "metadata": {},
   "outputs": [
    {
     "name": "stdout",
     "output_type": "stream",
     "text": [
      "<class 'pandas.core.frame.DataFrame'>\n",
      "RangeIndex: 16715 entries, 0 to 16714\n",
      "Data columns (total 11 columns):\n",
      " #   Column           Non-Null Count  Dtype  \n",
      "---  ------           --------------  -----  \n",
      " 0   name             16713 non-null  object \n",
      " 1   platform         16715 non-null  object \n",
      " 2   year_of_release  16446 non-null  float64\n",
      " 3   genre            16713 non-null  object \n",
      " 4   na_sales         16715 non-null  float64\n",
      " 5   eu_sales         16715 non-null  float64\n",
      " 6   jp_sales         16715 non-null  float64\n",
      " 7   other_sales      16715 non-null  float64\n",
      " 8   critic_score     8137 non-null   float64\n",
      " 9   user_score       10014 non-null  object \n",
      " 10  rating           9949 non-null   object \n",
      "dtypes: float64(6), object(5)\n",
      "memory usage: 1.4+ MB\n"
     ]
    }
   ],
   "source": [
    "#Convsersión de tipos de datos\n",
    "\n",
    "df.info()\n"
   ]
  },
  {
   "cell_type": "markdown",
   "metadata": {},
   "source": [
    "En la columna \"year_of release\" no se efectuarán cálculos pero si se usará para generar gráficas en lo posterior,\n",
    "por tanto, no se ha convertido al tipo de datos \"object\" ya que esto haría incompatible con los datos tipo float que son necesarios para mostar las ventas totales por año más adelante"
   ]
  },
  {
   "cell_type": "markdown",
   "metadata": {},
   "source": [
    "### Tratamiento de valores ausentes"
   ]
  },
  {
   "cell_type": "code",
   "execution_count": 6,
   "metadata": {},
   "outputs": [
    {
     "name": "stdout",
     "output_type": "stream",
     "text": [
      "<class 'pandas.core.frame.DataFrame'>\n",
      "RangeIndex: 16715 entries, 0 to 16714\n",
      "Data columns (total 11 columns):\n",
      " #   Column           Non-Null Count  Dtype  \n",
      "---  ------           --------------  -----  \n",
      " 0   name             16715 non-null  object \n",
      " 1   platform         16715 non-null  object \n",
      " 2   year_of_release  16446 non-null  float64\n",
      " 3   genre            16715 non-null  object \n",
      " 4   na_sales         16715 non-null  float64\n",
      " 5   eu_sales         16715 non-null  float64\n",
      " 6   jp_sales         16715 non-null  float64\n",
      " 7   other_sales      16715 non-null  float64\n",
      " 8   critic_score     8137 non-null   float64\n",
      " 9   user_score       10014 non-null  object \n",
      " 10  rating           16715 non-null  object \n",
      "dtypes: float64(6), object(5)\n",
      "memory usage: 1.4+ MB\n"
     ]
    }
   ],
   "source": [
    "#Tratamiento de valores ausentes\n",
    "\n",
    "df[\"name\"].fillna(\"unknown\", inplace = True) #reemplaza los ausentes con la palabra \"unknown\"\n",
    "df[\"genre\"].fillna(\"unknown\", inplace = True) #reemplaza los ausentes con la palabra \"unknown\"\n",
    "df[\"rating\"].fillna(\"unrated\", inplace = True) #reemplaza los ausentes con la palabra \"unrated\"\n",
    "\n",
    "df.info()"
   ]
  },
  {
   "cell_type": "code",
   "execution_count": 45,
   "metadata": {
    "scrolled": true
   },
   "outputs": [
    {
     "data": {
      "text/plain": [
       "Text(0.5, 1.0, 'Calificación de los usuarios por año')"
      ]
     },
     "execution_count": 45,
     "metadata": {},
     "output_type": "execute_result"
    },
    {
     "data": {
      "image/png": "[encoded data removed]",
      "text/plain": [
       "<Figure size 2000x600 with 2 Axes>"
      ]
     },
     "metadata": {},
     "output_type": "display_data"
    }
   ],
   "source": [
    "#analiza valores nulos de critic_score\n",
    "\n",
    "# Crear una figura y dos subplots\n",
    "fig, (ax1, ax2) = plt.subplots(1, 2, figsize=(20, 6))\n",
    "\n",
    "# Graficar los datos critic_score en el primer subplot\n",
    "\n",
    "df.groupby(\"year_of_release\")[\"critic_score\"].mean().plot(kind = \"line\",ax=ax1)\n",
    "ax1.set_title(\"Calificación de la crítica por año\")\n",
    "\n",
    "#analiza valores nulos y tbd de user_score\n",
    "\n",
    "df[\"user_score_tbd\"] = df[\"user_score\"].replace('tbd','20').astype(float)\n",
    "\n",
    "df.groupby(\"year_of_release\")[\"user_score_tbd\"].mean().plot(kind = \"line\",ax=ax2)\n",
    "ax2.set_title(\"Calificación de los usuarios por año\")"
   ]
  },
  {
   "cell_type": "markdown",
   "metadata": {},
   "source": [
    "<div class=\"alert alert-block alert-success\">\n",
    "    <b>Comentario del revisor:</b> <a class=\"tocSkip\"></a>\n",
    "    \n",
    "Realizaste un excelente trabajo al analizar los valores nulos que podrían sesgar nuestros resultados. Además, es una buena práctica no eliminarlos, sino reemplazarlos con un identificador que indique que carecen de valor en alguna de las variables.\n",
    "</div>"
   ]
  },
  {
   "cell_type": "markdown",
   "metadata": {},
   "source": [
    "* Para el campo \"name\" y \"genre\", se rellenaron con la palabra \"unknown\" para indicar que no se conocen los nombres de dichos campos.\n",
    "\n",
    "* Debido a que la columna \"year_of_release\" se usará más adelante para realizar gráficos, no se realizarán modificaciones\n",
    "\n",
    "* Por otro lado, para el campo \"rating\", los valores ausentes fueron reemplazados por la palabra \"unrated\" que indica que no tienen clasificación alguna\n",
    "\n",
    "* Para el caso de \"critic_score\" y \"user_score\", se ha decidido dejarlos en blanco ya que no se puede sustituir con una palabra ya que se trata de datos tipo float64 y no se los puede rellenar con ceros, ya que esto significaría que esos juegos tendrían cero calificación por parte de la crítica y/o users, lo cual tampoco es cierto y nuestro análisis sería incorrecto\n",
    "\n",
    "* Para la columna \"user_score\", existe una particularidad, ciertos datos fueron ingresados como \"tbd\" o \"to be determined\", lo que signica que estos valores estan pendientes de definición, por tanto no se los manipulará ya que se espera una actualización de estos valores por parte de la fuente que entregó el dataset original\n",
    "\n",
    "* Analizando las columnas de critic_score y user_score, se puede observar que antes de 1996 aparentemente el sistema de calificación de usuario y de la crítica aún no existía y esa es la razón de los valores ausentes durante ese periodo\n",
    "\n",
    "* Por otro lado, las gráficas no muestran un patron o una tendencia clara como para reemplazar estos valores ausentes, ya sea por la moda, mediana o media\n",
    "\n",
    "* Para el presente análsis no se reemplazarán los valores ausentes con otros valores ya que podrían afectar siginificativamente los resultados ya que representan aproximadamente el 13% del total de los valores analizados"
   ]
  },
  {
   "cell_type": "markdown",
   "metadata": {},
   "source": [
    "<div class=\"alert alert-block alert-danger\">\n",
    "    <b>Comentario del revisor:</b> <a class=\"tocSkip\"></a>\n",
    "    \n",
    "Solamente para terminar de complementar el análisis te recomiendo verificar si las variables de score de crititicos y ususarios  se deben de hacer algún ajuste. Por ejemplo completar los valores nulos\n",
    "</div>"
   ]
  },
  {
   "cell_type": "markdown",
   "metadata": {},
   "source": [
    "<div class=\"alert alert-block alert-info\">\n",
    "<b>Según recomendación del revisor se han analizado las columnas critic_score y user_score y se observó que las calificaciones no existían desde que las consolas nacieron y que las tendencias durante los años no tienen una tendencia clara por lo que se determinó no eliminar ni reemplazar estos valores.</b> <a class=\"tocSkip\"></a>\n",
    "</div>"
   ]
  },
  {
   "cell_type": "markdown",
   "metadata": {},
   "source": [
    "<div class=\"alert alert-block alert-success\">\n",
    "<b>Comentario del revisor</b> <a class=\"tocSkip\"></a>\n",
    "\n",
    "Muy buen trabajo con los ajustes!\n",
    "</div>"
   ]
  },
  {
   "cell_type": "markdown",
   "metadata": {},
   "source": [
    "### Cálculo de las ventas totales"
   ]
  },
  {
   "cell_type": "code",
   "execution_count": 8,
   "metadata": {
    "scrolled": true
   },
   "outputs": [
    {
     "data": {
      "text/html": [
       "<div>\n",
       "<style scoped>\n",
       "    .dataframe tbody tr th:only-of-type {\n",
       "        vertical-align: middle;\n",
       "    }\n",
       "\n",
       "    .dataframe tbody tr th {\n",
       "        vertical-align: top;\n",
       "    }\n",
       "\n",
       "    .dataframe thead th {\n",
       "        text-align: right;\n",
       "    }\n",
       "</style>\n",
       "<table border=\"1\" class=\"dataframe\">\n",
       "  <thead>\n",
       "    <tr style=\"text-align: right;\">\n",
       "      <th></th>\n",
       "      <th>name</th>\n",
       "      <th>platform</th>\n",
       "      <th>year_of_release</th>\n",
       "      <th>genre</th>\n",
       "      <th>na_sales</th>\n",
       "      <th>eu_sales</th>\n",
       "      <th>jp_sales</th>\n",
       "      <th>other_sales</th>\n",
       "      <th>critic_score</th>\n",
       "      <th>user_score</th>\n",
       "      <th>rating</th>\n",
       "      <th>total_sales</th>\n",
       "    </tr>\n",
       "  </thead>\n",
       "  <tbody>\n",
       "    <tr>\n",
       "      <th>0</th>\n",
       "      <td>Wii Sports</td>\n",
       "      <td>Wii</td>\n",
       "      <td>2006.0</td>\n",
       "      <td>Sports</td>\n",
       "      <td>41.36</td>\n",
       "      <td>28.96</td>\n",
       "      <td>3.77</td>\n",
       "      <td>8.45</td>\n",
       "      <td>76.0</td>\n",
       "      <td>8</td>\n",
       "      <td>E</td>\n",
       "      <td>82.54</td>\n",
       "    </tr>\n",
       "    <tr>\n",
       "      <th>1</th>\n",
       "      <td>Super Mario Bros.</td>\n",
       "      <td>NES</td>\n",
       "      <td>1985.0</td>\n",
       "      <td>Platform</td>\n",
       "      <td>29.08</td>\n",
       "      <td>3.58</td>\n",
       "      <td>6.81</td>\n",
       "      <td>0.77</td>\n",
       "      <td>NaN</td>\n",
       "      <td>NaN</td>\n",
       "      <td>unrated</td>\n",
       "      <td>40.24</td>\n",
       "    </tr>\n",
       "    <tr>\n",
       "      <th>2</th>\n",
       "      <td>Mario Kart Wii</td>\n",
       "      <td>Wii</td>\n",
       "      <td>2008.0</td>\n",
       "      <td>Racing</td>\n",
       "      <td>15.68</td>\n",
       "      <td>12.76</td>\n",
       "      <td>3.79</td>\n",
       "      <td>3.29</td>\n",
       "      <td>82.0</td>\n",
       "      <td>8.3</td>\n",
       "      <td>E</td>\n",
       "      <td>35.52</td>\n",
       "    </tr>\n",
       "    <tr>\n",
       "      <th>3</th>\n",
       "      <td>Wii Sports Resort</td>\n",
       "      <td>Wii</td>\n",
       "      <td>2009.0</td>\n",
       "      <td>Sports</td>\n",
       "      <td>15.61</td>\n",
       "      <td>10.93</td>\n",
       "      <td>3.28</td>\n",
       "      <td>2.95</td>\n",
       "      <td>80.0</td>\n",
       "      <td>8</td>\n",
       "      <td>E</td>\n",
       "      <td>32.77</td>\n",
       "    </tr>\n",
       "    <tr>\n",
       "      <th>4</th>\n",
       "      <td>Pokemon Red/Pokemon Blue</td>\n",
       "      <td>GB</td>\n",
       "      <td>1996.0</td>\n",
       "      <td>Role-Playing</td>\n",
       "      <td>11.27</td>\n",
       "      <td>8.89</td>\n",
       "      <td>10.22</td>\n",
       "      <td>1.00</td>\n",
       "      <td>NaN</td>\n",
       "      <td>NaN</td>\n",
       "      <td>unrated</td>\n",
       "      <td>31.38</td>\n",
       "    </tr>\n",
       "  </tbody>\n",
       "</table>\n",
       "</div>"
      ],
      "text/plain": [
       "                       name platform  year_of_release         genre  na_sales  \\\n",
       "0                Wii Sports      Wii           2006.0        Sports     41.36   \n",
       "1         Super Mario Bros.      NES           1985.0      Platform     29.08   \n",
       "2            Mario Kart Wii      Wii           2008.0        Racing     15.68   \n",
       "3         Wii Sports Resort      Wii           2009.0        Sports     15.61   \n",
       "4  Pokemon Red/Pokemon Blue       GB           1996.0  Role-Playing     11.27   \n",
       "\n",
       "   eu_sales  jp_sales  other_sales  critic_score user_score   rating  \\\n",
       "0     28.96      3.77         8.45          76.0          8        E   \n",
       "1      3.58      6.81         0.77           NaN        NaN  unrated   \n",
       "2     12.76      3.79         3.29          82.0        8.3        E   \n",
       "3     10.93      3.28         2.95          80.0          8        E   \n",
       "4      8.89     10.22         1.00           NaN        NaN  unrated   \n",
       "\n",
       "   total_sales  \n",
       "0        82.54  \n",
       "1        40.24  \n",
       "2        35.52  \n",
       "3        32.77  \n",
       "4        31.38  "
      ]
     },
     "execution_count": 8,
     "metadata": {},
     "output_type": "execute_result"
    }
   ],
   "source": [
    "#Cálculo de las ventas totales\n",
    "\n",
    "df[\"total_sales\"] = df[\"na_sales\"] + df[\"eu_sales\"] + df[\"jp_sales\"] + df[\"other_sales\"] # genera nueva columna con las ventas totales \n",
    "\n",
    "df.head()"
   ]
  },
  {
   "cell_type": "markdown",
   "metadata": {},
   "source": [
    "<div class=\"alert alert-block alert-success\">\n",
    "<b>Comentario del revisor:</b> <a class=\"tocSkip\"></a>\n",
    "    \n",
    "Hola! Muy buen trabajo en la sección, ajustaste los nombres de las columnas a minúsculas con el uso de la función str.lower(), cambiaste el tipo de variable de dos de las variables de la base de datos y muy buen trabajo con la suma de todas las ventas. \n",
    "    \n",
    "   \n",
    "\n",
    "</div>"
   ]
  },
  {
   "cell_type": "markdown",
   "metadata": {},
   "source": [
    "## Análisis de los Datos"
   ]
  },
  {
   "cell_type": "markdown",
   "metadata": {},
   "source": [
    "### Cantidad de juegos lanzados por año"
   ]
  },
  {
   "cell_type": "code",
   "execution_count": 9,
   "metadata": {},
   "outputs": [
    {
     "data": {
      "text/html": [
       "<div>\n",
       "<style scoped>\n",
       "    .dataframe tbody tr th:only-of-type {\n",
       "        vertical-align: middle;\n",
       "    }\n",
       "\n",
       "    .dataframe tbody tr th {\n",
       "        vertical-align: top;\n",
       "    }\n",
       "\n",
       "    .dataframe thead th {\n",
       "        text-align: right;\n",
       "    }\n",
       "</style>\n",
       "<table border=\"1\" class=\"dataframe\">\n",
       "  <thead>\n",
       "    <tr style=\"text-align: right;\">\n",
       "      <th></th>\n",
       "      <th>year_of_release</th>\n",
       "      <th>platform</th>\n",
       "    </tr>\n",
       "  </thead>\n",
       "  <tbody>\n",
       "    <tr>\n",
       "      <th>0</th>\n",
       "      <td>1980.0</td>\n",
       "      <td>9</td>\n",
       "    </tr>\n",
       "    <tr>\n",
       "      <th>1</th>\n",
       "      <td>1981.0</td>\n",
       "      <td>46</td>\n",
       "    </tr>\n",
       "    <tr>\n",
       "      <th>2</th>\n",
       "      <td>1982.0</td>\n",
       "      <td>36</td>\n",
       "    </tr>\n",
       "    <tr>\n",
       "      <th>3</th>\n",
       "      <td>1983.0</td>\n",
       "      <td>17</td>\n",
       "    </tr>\n",
       "    <tr>\n",
       "      <th>4</th>\n",
       "      <td>1984.0</td>\n",
       "      <td>14</td>\n",
       "    </tr>\n",
       "    <tr>\n",
       "      <th>5</th>\n",
       "      <td>1985.0</td>\n",
       "      <td>14</td>\n",
       "    </tr>\n",
       "    <tr>\n",
       "      <th>6</th>\n",
       "      <td>1986.0</td>\n",
       "      <td>21</td>\n",
       "    </tr>\n",
       "    <tr>\n",
       "      <th>7</th>\n",
       "      <td>1987.0</td>\n",
       "      <td>16</td>\n",
       "    </tr>\n",
       "    <tr>\n",
       "      <th>8</th>\n",
       "      <td>1988.0</td>\n",
       "      <td>15</td>\n",
       "    </tr>\n",
       "    <tr>\n",
       "      <th>9</th>\n",
       "      <td>1989.0</td>\n",
       "      <td>17</td>\n",
       "    </tr>\n",
       "    <tr>\n",
       "      <th>10</th>\n",
       "      <td>1990.0</td>\n",
       "      <td>16</td>\n",
       "    </tr>\n",
       "    <tr>\n",
       "      <th>11</th>\n",
       "      <td>1991.0</td>\n",
       "      <td>41</td>\n",
       "    </tr>\n",
       "    <tr>\n",
       "      <th>12</th>\n",
       "      <td>1992.0</td>\n",
       "      <td>43</td>\n",
       "    </tr>\n",
       "    <tr>\n",
       "      <th>13</th>\n",
       "      <td>1993.0</td>\n",
       "      <td>62</td>\n",
       "    </tr>\n",
       "    <tr>\n",
       "      <th>14</th>\n",
       "      <td>1994.0</td>\n",
       "      <td>121</td>\n",
       "    </tr>\n",
       "    <tr>\n",
       "      <th>15</th>\n",
       "      <td>1995.0</td>\n",
       "      <td>219</td>\n",
       "    </tr>\n",
       "    <tr>\n",
       "      <th>16</th>\n",
       "      <td>1996.0</td>\n",
       "      <td>263</td>\n",
       "    </tr>\n",
       "    <tr>\n",
       "      <th>17</th>\n",
       "      <td>1997.0</td>\n",
       "      <td>289</td>\n",
       "    </tr>\n",
       "    <tr>\n",
       "      <th>18</th>\n",
       "      <td>1998.0</td>\n",
       "      <td>379</td>\n",
       "    </tr>\n",
       "    <tr>\n",
       "      <th>19</th>\n",
       "      <td>1999.0</td>\n",
       "      <td>338</td>\n",
       "    </tr>\n",
       "    <tr>\n",
       "      <th>20</th>\n",
       "      <td>2000.0</td>\n",
       "      <td>350</td>\n",
       "    </tr>\n",
       "    <tr>\n",
       "      <th>21</th>\n",
       "      <td>2001.0</td>\n",
       "      <td>482</td>\n",
       "    </tr>\n",
       "    <tr>\n",
       "      <th>22</th>\n",
       "      <td>2002.0</td>\n",
       "      <td>829</td>\n",
       "    </tr>\n",
       "    <tr>\n",
       "      <th>23</th>\n",
       "      <td>2003.0</td>\n",
       "      <td>775</td>\n",
       "    </tr>\n",
       "    <tr>\n",
       "      <th>24</th>\n",
       "      <td>2004.0</td>\n",
       "      <td>762</td>\n",
       "    </tr>\n",
       "    <tr>\n",
       "      <th>25</th>\n",
       "      <td>2005.0</td>\n",
       "      <td>939</td>\n",
       "    </tr>\n",
       "    <tr>\n",
       "      <th>26</th>\n",
       "      <td>2006.0</td>\n",
       "      <td>1006</td>\n",
       "    </tr>\n",
       "    <tr>\n",
       "      <th>27</th>\n",
       "      <td>2007.0</td>\n",
       "      <td>1197</td>\n",
       "    </tr>\n",
       "    <tr>\n",
       "      <th>28</th>\n",
       "      <td>2008.0</td>\n",
       "      <td>1427</td>\n",
       "    </tr>\n",
       "    <tr>\n",
       "      <th>29</th>\n",
       "      <td>2009.0</td>\n",
       "      <td>1426</td>\n",
       "    </tr>\n",
       "    <tr>\n",
       "      <th>30</th>\n",
       "      <td>2010.0</td>\n",
       "      <td>1255</td>\n",
       "    </tr>\n",
       "    <tr>\n",
       "      <th>31</th>\n",
       "      <td>2011.0</td>\n",
       "      <td>1136</td>\n",
       "    </tr>\n",
       "    <tr>\n",
       "      <th>32</th>\n",
       "      <td>2012.0</td>\n",
       "      <td>653</td>\n",
       "    </tr>\n",
       "    <tr>\n",
       "      <th>33</th>\n",
       "      <td>2013.0</td>\n",
       "      <td>544</td>\n",
       "    </tr>\n",
       "    <tr>\n",
       "      <th>34</th>\n",
       "      <td>2014.0</td>\n",
       "      <td>581</td>\n",
       "    </tr>\n",
       "    <tr>\n",
       "      <th>35</th>\n",
       "      <td>2015.0</td>\n",
       "      <td>606</td>\n",
       "    </tr>\n",
       "    <tr>\n",
       "      <th>36</th>\n",
       "      <td>2016.0</td>\n",
       "      <td>502</td>\n",
       "    </tr>\n",
       "  </tbody>\n",
       "</table>\n",
       "</div>"
      ],
      "text/plain": [
       "    year_of_release  platform\n",
       "0            1980.0         9\n",
       "1            1981.0        46\n",
       "2            1982.0        36\n",
       "3            1983.0        17\n",
       "4            1984.0        14\n",
       "5            1985.0        14\n",
       "6            1986.0        21\n",
       "7            1987.0        16\n",
       "8            1988.0        15\n",
       "9            1989.0        17\n",
       "10           1990.0        16\n",
       "11           1991.0        41\n",
       "12           1992.0        43\n",
       "13           1993.0        62\n",
       "14           1994.0       121\n",
       "15           1995.0       219\n",
       "16           1996.0       263\n",
       "17           1997.0       289\n",
       "18           1998.0       379\n",
       "19           1999.0       338\n",
       "20           2000.0       350\n",
       "21           2001.0       482\n",
       "22           2002.0       829\n",
       "23           2003.0       775\n",
       "24           2004.0       762\n",
       "25           2005.0       939\n",
       "26           2006.0      1006\n",
       "27           2007.0      1197\n",
       "28           2008.0      1427\n",
       "29           2009.0      1426\n",
       "30           2010.0      1255\n",
       "31           2011.0      1136\n",
       "32           2012.0       653\n",
       "33           2013.0       544\n",
       "34           2014.0       581\n",
       "35           2015.0       606\n",
       "36           2016.0       502"
      ]
     },
     "execution_count": 9,
     "metadata": {},
     "output_type": "execute_result"
    }
   ],
   "source": [
    "df.groupby(\"year_of_release\")[\"platform\"].count().reset_index() #agrupa y cuenta por año de lanzamiento"
   ]
  },
  {
   "cell_type": "markdown",
   "metadata": {},
   "source": [
    "* Analizando los lanzamientos por cada año, podemos ver que no todos los años son representativos, en 8 años de la década de los 80's, hubieron menos de 20 juegos por año que fueron lanzados"
   ]
  },
  {
   "cell_type": "markdown",
   "metadata": {},
   "source": [
    "### Plataformas con mayores ventas totales"
   ]
  },
  {
   "cell_type": "code",
   "execution_count": 10,
   "metadata": {
    "scrolled": false
   },
   "outputs": [
    {
     "name": "stdout",
     "output_type": "stream",
     "text": [
      "Las plataformas más populares en ventas son: \n",
      "0     PS2\n",
      "1    X360\n",
      "2     PS3\n",
      "3     Wii\n",
      "4      DS\n",
      "5      PS\n",
      "6     PS4\n",
      "7     GBA\n",
      "8     PSP\n",
      "9     3DS\n",
      "Name: platform, dtype: object\n",
      "\n",
      "Top 10 plataformas más vendidas\n"
     ]
    },
    {
     "data": {
      "text/html": [
       "<div>\n",
       "<style scoped>\n",
       "    .dataframe tbody tr th:only-of-type {\n",
       "        vertical-align: middle;\n",
       "    }\n",
       "\n",
       "    .dataframe tbody tr th {\n",
       "        vertical-align: top;\n",
       "    }\n",
       "\n",
       "    .dataframe thead th {\n",
       "        text-align: right;\n",
       "    }\n",
       "</style>\n",
       "<table border=\"1\" class=\"dataframe\">\n",
       "  <thead>\n",
       "    <tr style=\"text-align: right;\">\n",
       "      <th></th>\n",
       "      <th>index</th>\n",
       "      <th>platform</th>\n",
       "      <th>total_sales</th>\n",
       "    </tr>\n",
       "  </thead>\n",
       "  <tbody>\n",
       "    <tr>\n",
       "      <th>0</th>\n",
       "      <td>16</td>\n",
       "      <td>PS2</td>\n",
       "      <td>1233.56</td>\n",
       "    </tr>\n",
       "    <tr>\n",
       "      <th>1</th>\n",
       "      <td>28</td>\n",
       "      <td>X360</td>\n",
       "      <td>961.24</td>\n",
       "    </tr>\n",
       "    <tr>\n",
       "      <th>2</th>\n",
       "      <td>17</td>\n",
       "      <td>PS3</td>\n",
       "      <td>931.34</td>\n",
       "    </tr>\n",
       "    <tr>\n",
       "      <th>3</th>\n",
       "      <td>26</td>\n",
       "      <td>Wii</td>\n",
       "      <td>891.18</td>\n",
       "    </tr>\n",
       "    <tr>\n",
       "      <th>4</th>\n",
       "      <td>4</td>\n",
       "      <td>DS</td>\n",
       "      <td>802.78</td>\n",
       "    </tr>\n",
       "    <tr>\n",
       "      <th>5</th>\n",
       "      <td>15</td>\n",
       "      <td>PS</td>\n",
       "      <td>727.58</td>\n",
       "    </tr>\n",
       "    <tr>\n",
       "      <th>6</th>\n",
       "      <td>18</td>\n",
       "      <td>PS4</td>\n",
       "      <td>314.14</td>\n",
       "    </tr>\n",
       "    <tr>\n",
       "      <th>7</th>\n",
       "      <td>6</td>\n",
       "      <td>GBA</td>\n",
       "      <td>312.88</td>\n",
       "    </tr>\n",
       "    <tr>\n",
       "      <th>8</th>\n",
       "      <td>19</td>\n",
       "      <td>PSP</td>\n",
       "      <td>289.53</td>\n",
       "    </tr>\n",
       "    <tr>\n",
       "      <th>9</th>\n",
       "      <td>2</td>\n",
       "      <td>3DS</td>\n",
       "      <td>257.81</td>\n",
       "    </tr>\n",
       "  </tbody>\n",
       "</table>\n",
       "</div>"
      ],
      "text/plain": [
       "   index platform  total_sales\n",
       "0     16      PS2      1233.56\n",
       "1     28     X360       961.24\n",
       "2     17      PS3       931.34\n",
       "3     26      Wii       891.18\n",
       "4      4       DS       802.78\n",
       "5     15       PS       727.58\n",
       "6     18      PS4       314.14\n",
       "7      6      GBA       312.88\n",
       "8     19      PSP       289.53\n",
       "9      2      3DS       257.81"
      ]
     },
     "execution_count": 10,
     "metadata": {},
     "output_type": "execute_result"
    }
   ],
   "source": [
    "# agrupa por año de lanzamiento y plataforma para obtener la suma de las ventas totales\n",
    "sales_by_platform = df.groupby([\"year_of_release\",\"platform\"])[\"total_sales\"].sum().reset_index()\n",
    "\n",
    "# agrupa por plataforma para obtener el total de las ventas\n",
    "top_list = sales_by_platform.groupby(\"platform\")[\"total_sales\"].sum().reset_index()\n",
    "\n",
    "#filtra para obtener las 10 plataformas con mayores ventas\n",
    "top10 = top_list.query(\"total_sales >= 256\")\n",
    "\n",
    "#ordena por total de ventas\n",
    "top10 = top10.sort_values(by=['total_sales'], ascending=[False]).reset_index()\n",
    "\n",
    "#muestra el top 10 en ventas por plataforma\n",
    "pop_platform = top10[\"platform\"]\n",
    "print(f\"Las plataformas más populares en ventas son: \\n{pop_platform}\")\n",
    "\n",
    "sales_per_year = sales_by_platform.query(\"platform == ['PS2','X360','PS3','Wii', 'DS', 'PS','PS4','GBA','PSP','3DS']\").reset_index()\n",
    "sales_per_year\n",
    "print()\n",
    "print(\"Top 10 plataformas más vendidas\")\n",
    "top10\n"
   ]
  },
  {
   "cell_type": "markdown",
   "metadata": {},
   "source": [
    "### Distribución de plataformas por año"
   ]
  },
  {
   "cell_type": "code",
   "execution_count": 11,
   "metadata": {
    "scrolled": true
   },
   "outputs": [
    {
     "data": {
      "text/plain": [
       "<AxesSubplot:xlabel='year_of_release'>"
      ]
     },
     "execution_count": 11,
     "metadata": {},
     "output_type": "execute_result"
    },
    {
     "data": {
      "image/png": "[encoded data removed]",
      "text/plain": [
       "<Figure size 640x480 with 1 Axes>"
      ]
     },
     "metadata": {},
     "output_type": "display_data"
    }
   ],
   "source": [
    "#genera lista con el top 10 por plataforma\n",
    "#genera gráfico de distribución del top 10 por plataforma\n",
    "top10_list = list(top10[\"platform\"])\n",
    "\n",
    "(\n",
    "    df[df[\"platform\"].isin(top10_list)]\n",
    "    .pivot_table(index = \"year_of_release\",\n",
    "                columns = \"platform\",\n",
    "                values = \"total_sales\",\n",
    "                aggfunc = \"sum\")\n",
    "    .plot(kind = \"line\")\n",
    ")"
   ]
  },
  {
   "cell_type": "markdown",
   "metadata": {},
   "source": [
    "### Análisis del tiempo de vida por plataforma (Play Station)"
   ]
  },
  {
   "cell_type": "code",
   "execution_count": 12,
   "metadata": {
    "scrolled": true
   },
   "outputs": [
    {
     "data": {
      "text/plain": [
       "<AxesSubplot:xlabel='year_of_release'>"
      ]
     },
     "execution_count": 12,
     "metadata": {},
     "output_type": "execute_result"
    },
    {
     "data": {
      "image/png": "[encoded data removed]",
      "text/plain": [
       "<Figure size 640x480 with 1 Axes>"
      ]
     },
     "metadata": {},
     "output_type": "display_data"
    }
   ],
   "source": [
    "#Analísis para determinar el tiempo de vida de una plataforma y cuando aparece una nueva, ejemplo Play Station\n",
    "\n",
    "psp_platforms = [\"PS\", \"PS2\", \"PS3\",\"PS4\", \"PSP\"] #genera lista de plataformas Play Station\n",
    "\n",
    "(\n",
    "    df[df[\"platform\"].isin(psp_platforms)]\n",
    "    .pivot_table(index = \"year_of_release\",\n",
    "                columns = \"platform\",\n",
    "                values = \"total_sales\",\n",
    "                aggfunc = \"sum\")\n",
    "    .plot(kind = \"line\")\n",
    ")"
   ]
  },
  {
   "cell_type": "code",
   "execution_count": 13,
   "metadata": {},
   "outputs": [
    {
     "data": {
      "image/png": "[encoded data removed]",
      "text/plain": [
       "<Figure size 1400x500 with 3 Axes>"
      ]
     },
     "metadata": {},
     "output_type": "display_data"
    }
   ],
   "source": [
    "# análisis de ventas por año de la Play Station (PS,PS2 y PS3)\n",
    "\n",
    "# Crear una figura y dos subplots\n",
    "fig, (ax1, ax2, ax3) = plt.subplots(1, 3, figsize=(14, 5))\n",
    "\n",
    "# Graficar los datos de la PS en el primer subplot\n",
    "df[df[\"platform\"] == 'PS'].groupby(\"year_of_release\")[\"total_sales\"].sum().plot(kind = \"bar\", ax=ax1)\n",
    "ax1.set_title(\"Ventas por Año de la PS\")\n",
    "\n",
    "# Graficar los datos de la PS2 en el primer subplot\n",
    "df[df[\"platform\"] == 'PS2'].groupby(\"year_of_release\")[\"total_sales\"].sum().plot(kind = \"bar\", ax=ax2)\n",
    "ax2.set_title(\"Ventas por Año de la PS2\")\n",
    "\n",
    "# Graficar los datos de la PS3 en el primer subplot\n",
    "df[df[\"platform\"] == 'PS3'].groupby(\"year_of_release\")[\"total_sales\"].sum().plot(kind = \"bar\", ax=ax3)\n",
    "ax3.set_title(\"Ventas por Año de la PS3\")\n",
    "\n",
    "# Ajustar los espacios entre los subplots\n",
    "plt.tight_layout()\n",
    "\n",
    "# Mostrar el gráfico combinado\n",
    "plt.show()"
   ]
  },
  {
   "cell_type": "markdown",
   "metadata": {},
   "source": [
    "* Para este análsis se han tomado los años donde se encuentra el top 10 de ventas por plataforma, este periodo es desde el año 1994 al 2016\n",
    "\n",
    "* La PS tuvo su hegemonía durante 6 años, desdel 1994 a 1999, aunque en los 4 años siguientes continuó teniendo una participación significativa del mercado\n",
    "\n",
    "* Dentro de este mismo marco, muchas plataformas como la PS, PS2, PSP, DS y la GBA, fueron populares en su periodo y al momento ya no tienen ventas\n",
    "\n",
    "* También se puede observar que las nuevas plataformas aparecen cada 5 o 6 años y tardan en desaparecer 10 años aproximadamente\n",
    "\n",
    "* En el top 3 de las plataformas más vendidas se encuentra el PS2 liderando la lista, seguido de la X360 y cerrando este grupo la PS3\n",
    "\n",
    "* Se puede observar que las plataforma que van en crecimiento son: 3DS, PS3, PS4, Wii y X360, por lo contrario, existen plataformas que han ido de reduciendo sus ventas como son: DS y PSP\n",
    "\n",
    "* Adicionalmente existen plataformas que se encuentran que están en pleno crecimiento y que podrían ser rentables en el futuro medio, tales como la nueva PS4, Wii y X360 donde se podrían incorporar nuevos títulos de juegos\n",
    "\n",
    "* En cuanto al análsis de las ventas por plataformas, se ha elegido la Play Station y sus consolas más vendidas (PS, PS2 y PS3) para tratar de descubrir como se han comportado las ventas a lo largo de los años\n",
    "\n",
    "* Se puede observar que en cuanto una nueva consola aparece, las ventas de la antigua plataforma comienzan a decaer y que el pico máximo de ventas de la nueva plataforma conicide con la desaparición total de la antigua"
   ]
  },
  {
   "cell_type": "markdown",
   "metadata": {},
   "source": [
    "<div class=\"alert alert-block alert-danger\">\n",
    "<b>Comentario del revisor:</b> <a class=\"tocSkip\"></a>\n",
    "    \n",
    "Te recomiendo completar este análisis con una gráfica de ventas por año  \n",
    "\n",
    "</div>"
   ]
  },
  {
   "cell_type": "markdown",
   "metadata": {},
   "source": [
    "<div class=\"alert alert-block alert-info\">\n",
    "<b>Siguiendo la recomendación del revisor, se ha comparado el comportamiento de las ventas de la plataform elegida con el pasar de los años, lo que ha ayudado a evidenciar nuevos hallazgos sobre como la aparición de las nuevas consolas afectan los ingresos de las plataformas salientes y las nuevas.</b> <a class=\"tocSkip\"></a>\n",
    "</div>"
   ]
  },
  {
   "cell_type": "markdown",
   "metadata": {},
   "source": [
    "<div class=\"alert alert-block alert-success\">\n",
    "<b>Comentario del revisor</b> <a class=\"tocSkip\"></a>\n",
    "\n",
    "Muy buen trabajo con los ajustes!\n",
    "</div>"
   ]
  },
  {
   "cell_type": "markdown",
   "metadata": {},
   "source": [
    "### Diagrama de caja para ventas globales por plataforma"
   ]
  },
  {
   "cell_type": "code",
   "execution_count": 14,
   "metadata": {},
   "outputs": [
    {
     "data": {
      "text/plain": [
       "<Figure size 1200x600 with 0 Axes>"
      ]
     },
     "metadata": {},
     "output_type": "display_data"
    },
    {
     "data": {
      "image/png": "[encoded data removed]",
      "text/plain": [
       "<Figure size 640x480 with 1 Axes>"
      ]
     },
     "metadata": {},
     "output_type": "display_data"
    }
   ],
   "source": [
    "# Crear un diagrama de caja para las ventas globales desglosadas por plataforma.\n",
    "plt.figure(figsize=(12,6))\n",
    "df.boxplot(column='total_sales', by='platform', rot=90)\n",
    "plt.title('Diagrama de Caja de las Ventas Globales por Plataforma')\n",
    "plt.suptitle('')\n",
    "plt.xlabel('Plataforma')\n",
    "plt.ylabel('Ventas Globales (Millones)')\n",
    "plt.ylim(0, 5)  # Por ejemplo, establecer un límite superior de 200 millones\n",
    "plt.show()"
   ]
  },
  {
   "cell_type": "markdown",
   "metadata": {},
   "source": [
    "<div class=\"alert alert-block alert-warning\">\n",
    "    <b>Comentario del revisor</b> <a class=\"tocSkip\"></a>\n",
    "    \n",
    "Recuerda que los graficos de box-plot nos ayudan a identificar outliers que posteriomente en el desarrollo de las pruebas de hipótesis nos servirían eliminar para que no puedan sesgar nuestros resultados. \n",
    "</div>"
   ]
  },
  {
   "cell_type": "markdown",
   "metadata": {},
   "source": [
    "* Respecto a la gráfica de bigotes realizada, se puede observar que existen diferencias notables entre las ventas globales de cada una de las plataformas analizadas, por ejemplo 3DO, GG, NG, PCFX, SCD y TG16 al parecer no tuvieron mucha acogida entre los fans de las consolas ya que no muestran mayores ventas durante el tiempo que estuvieron en el mercado\n",
    "\n",
    "* Analizando las ventas promedio, existen plataformas cuyas ventas globales tienden a cero, es decir que no fueron populares durante su tiempo de vida, por otro lado, nombres como GB y NES en promedio son las que mayores venta globales acumularon"
   ]
  },
  {
   "cell_type": "markdown",
   "metadata": {},
   "source": [
    "### Gráfico de dispersión - Reseñas vs. Ventas"
   ]
  },
  {
   "cell_type": "code",
   "execution_count": 15,
   "metadata": {},
   "outputs": [
    {
     "name": "stdout",
     "output_type": "stream",
     "text": [
      "<class 'pandas.core.frame.DataFrame'>\n",
      "RangeIndex: 2161 entries, 0 to 2160\n",
      "Data columns (total 4 columns):\n",
      " #   Column        Non-Null Count  Dtype  \n",
      "---  ------        --------------  -----  \n",
      " 0   platform      2161 non-null   object \n",
      " 1   user_score    1241 non-null   float64\n",
      " 2   critic_score  1298 non-null   float64\n",
      " 3   total_sales   2161 non-null   float64\n",
      "dtypes: float64(3), object(1)\n",
      "memory usage: 67.7+ KB\n",
      "None\n"
     ]
    }
   ],
   "source": [
    "#filtra por plataforma PS2 para ejemplificar\n",
    "\n",
    "ps2_sales = (df.query(\"platform == 'PS2'\")[[\"platform\",\"user_score\",\"critic_score\",\"total_sales\"]].reset_index()).drop(\"index\",axis = 1)\n",
    "\n",
    "ps2_sales\n",
    "\n",
    "#Reemplaza la palabra \"tbd\" por nan para facilitar el gráfico\n",
    "ps2_sales[\"user_score\"] = ps2_sales[\"user_score\"].replace('tbd', np.nan)\n",
    "\n",
    "#trasnforma la columna \"user_score\" a float\n",
    "ps2_sales[\"user_score\"] = ps2_sales[\"user_score\"].astype(float)\n",
    "\n",
    "print(ps2_sales.info())\n"
   ]
  },
  {
   "cell_type": "code",
   "execution_count": 16,
   "metadata": {},
   "outputs": [
    {
     "data": {
      "image/png": "[encoded data removed]",
      "text/plain": [
       "<Figure size 800x600 with 1 Axes>"
      ]
     },
     "metadata": {},
     "output_type": "display_data"
    }
   ],
   "source": [
    "#Genera gráfico de dispersión para la PS2\n",
    "\n",
    "# Crear el gráfico de dispersión\n",
    "plt.figure(figsize=(8, 6))\n",
    "plt.scatter(ps2_sales[\"user_score\"], ps2_sales[\"total_sales\"], label='User Score', color='blue', marker='o')\n",
    "plt.scatter(ps2_sales[\"critic_score\"], ps2_sales[\"total_sales\"], label='Critic Score', color='red', marker='x')\n",
    "\n",
    "# Personalizar el gráfico\n",
    "plt.title('Correlación entre Puntuaciones y Ventas Totales')\n",
    "plt.xlabel('Puntuaciones')\n",
    "plt.ylabel('Ventas Totales (millones)')\n",
    "plt.legend()\n",
    "\n",
    "# Mostrar el gráfico\n",
    "plt.tight_layout()\n",
    "plt.show()"
   ]
  },
  {
   "cell_type": "markdown",
   "metadata": {},
   "source": [
    "<div class=\"alert alert-block alert-success\">\n",
    "    <b>Comentario del revisor</b> <a class=\"tocSkip\"></a>\n",
    "    \n",
    "Muy buen trabajo con el análisis de la relación estre las scores y las ventas. \n",
    "</div>"
   ]
  },
  {
   "cell_type": "code",
   "execution_count": 17,
   "metadata": {},
   "outputs": [
    {
     "name": "stdout",
     "output_type": "stream",
     "text": [
      "             total_sales  user_score\n",
      "total_sales     1.000000    0.172866\n",
      "user_score      0.172866    1.000000\n"
     ]
    },
    {
     "data": {
      "text/html": [
       "<div>\n",
       "<style scoped>\n",
       "    .dataframe tbody tr th:only-of-type {\n",
       "        vertical-align: middle;\n",
       "    }\n",
       "\n",
       "    .dataframe tbody tr th {\n",
       "        vertical-align: top;\n",
       "    }\n",
       "\n",
       "    .dataframe thead th {\n",
       "        text-align: right;\n",
       "    }\n",
       "</style>\n",
       "<table border=\"1\" class=\"dataframe\">\n",
       "  <thead>\n",
       "    <tr style=\"text-align: right;\">\n",
       "      <th></th>\n",
       "      <th>total_sales</th>\n",
       "      <th>critic_score</th>\n",
       "    </tr>\n",
       "  </thead>\n",
       "  <tbody>\n",
       "    <tr>\n",
       "      <th>total_sales</th>\n",
       "      <td>1.000000</td>\n",
       "      <td>0.395435</td>\n",
       "    </tr>\n",
       "    <tr>\n",
       "      <th>critic_score</th>\n",
       "      <td>0.395435</td>\n",
       "      <td>1.000000</td>\n",
       "    </tr>\n",
       "  </tbody>\n",
       "</table>\n",
       "</div>"
      ],
      "text/plain": [
       "              total_sales  critic_score\n",
       "total_sales      1.000000      0.395435\n",
       "critic_score     0.395435      1.000000"
      ]
     },
     "execution_count": 17,
     "metadata": {},
     "output_type": "execute_result"
    }
   ],
   "source": [
    "#muestra las correlaciones entre las ventas totales y las puntiaciones de los usuarios y de la crítica\n",
    "\n",
    "print(ps2_sales[[\"total_sales\",\"user_score\"]].corr())\n",
    "\n",
    "\n",
    "ps2_sales[[\"total_sales\",\"critic_score\"]].corr()"
   ]
  },
  {
   "cell_type": "markdown",
   "metadata": {},
   "source": [
    "* De acuerdo con el digrama de dispersión creado, es claramente notable como se relaciona directamente la calificación de los usuarios y de la crítica con las ventas de las plataformas, que para el ejemplo se ha tomado la PS2\n",
    "\n",
    "* La calificación dada por el usuario (\"user_score\"), tiene una rango del 0 al 10, mientras que la crítica es dada en un rango del 0 al 100, sin embargo se puede observar que las tendencias son las mismas en cuanto a la relación puntaje - ventas\n",
    "\n",
    "* Además, podemos ver que tanto el \"user_score\" como el \"critic_score\" tienen similar comportamiento, es decir que cuando las calificaciones de los usuarios es baja, también las de la crítica es baja, y lo mismo pasa con todas las puntuaciones y su relación con las ventas"
   ]
  },
  {
   "cell_type": "markdown",
   "metadata": {},
   "source": [
    "### Comparación de juegos en otras plataformas (Need for Speed: Most Wanted)"
   ]
  },
  {
   "cell_type": "code",
   "execution_count": 18,
   "metadata": {},
   "outputs": [
    {
     "name": "stdout",
     "output_type": "stream",
     "text": [
      "Top 3 de plata\n",
      "name\n",
      "Need for Speed: Most Wanted    10\n",
      "Madden NFL 07                   9\n",
      "LEGO Marvel Super Heroes        9\n",
      "Name: platform, dtype: int64\n"
     ]
    },
    {
     "data": {
      "image/png": "[encoded data removed]",
      "text/plain": [
       "<Figure size 640x480 with 1 Axes>"
      ]
     },
     "metadata": {},
     "output_type": "display_data"
    }
   ],
   "source": [
    "# Agrupar por el nombre del juego y genera el top 3 de cantidad de plataformas donde aparecen los juegos\n",
    "games_by_platform = df.groupby(\"name\")[\"platform\"].nunique().sort_values(ascending = False).head(3)\n",
    "\n",
    "print(\"Top 3 de plata\" )\n",
    "print(games_by_platform) #muestra el top 3 de juegos que salieron para más plataformas\n",
    "\n",
    "#filtra por juego 'Need for Speed: Most Wanted' que se toma como referencia para el análisis\n",
    "NFS_filtered = df.query(\"name == 'Need for Speed: Most Wanted'\")\n",
    "\n",
    "#agrupa por total de ventas y suma sus valores\n",
    "NFS_platforms = NFS_filtered.groupby(\"platform\")[\"total_sales\"].sum().sort_values(ascending = False)\n",
    "\n",
    "# Crear el gráfico de barras\n",
    "NFS_platforms.plot(x='platform', y='total_sales', kind='bar', legend=False)\n",
    "plt.xlabel('Plataforma')\n",
    "plt.ylabel('Ventas Totales')\n",
    "plt.title('Ventas de juegos por cada Plataforma')\n",
    "plt.show()\n"
   ]
  },
  {
   "cell_type": "markdown",
   "metadata": {},
   "source": [
    "* Del análiis se desprende que NFS Most Wanted tuvo mayor cantidad de ventas en la PS2 que es una de la plataformas más populares y en segundo lugar la PS3 con un 25% menos en ventas"
   ]
  },
  {
   "cell_type": "markdown",
   "metadata": {},
   "source": [
    "### Distribución general de juegos por género"
   ]
  },
  {
   "cell_type": "code",
   "execution_count": 19,
   "metadata": {},
   "outputs": [
    {
     "data": {
      "image/png": "[encoded data removed]",
      "text/plain": [
       "<Figure size 640x480 with 1 Axes>"
      ]
     },
     "metadata": {},
     "output_type": "display_data"
    }
   ],
   "source": [
    "#grafica un diagrama de caja de ventas totales por género\n",
    "df.boxplot(\n",
    "column = \"total_sales\",\n",
    "by = \"genre\")\n",
    "plt.ylim(0,2)\n",
    "plt.xticks(rotation = 45)\n",
    "plt.show()"
   ]
  },
  {
   "cell_type": "markdown",
   "metadata": {},
   "source": [
    "* Del análiis de la gráfica de caja, podemos observar que los géneros más rentables son Platform, Shooter y Sports, esto basado en el promedio de ventas totales.\n",
    "\n",
    "* Por otro lado, los géneros menos vendidos son Adventure, Puzzle y Strategy.\n",
    "\n",
    "* Los géneros con ventas altas tienen medias bastantes parecidas, en cuanto a los géneros con ventas bajas, no se puede generalizar nada en particular"
   ]
  },
  {
   "cell_type": "markdown",
   "metadata": {},
   "source": [
    "## Crea un perfil de usuario para cada región (NA, EU, JP)"
   ]
  },
  {
   "cell_type": "markdown",
   "metadata": {},
   "source": [
    "### Cinco plataformas principales por región"
   ]
  },
  {
   "cell_type": "markdown",
   "metadata": {},
   "source": [
    "#### Variación de cuotas de mercado en NA"
   ]
  },
  {
   "cell_type": "code",
   "execution_count": 20,
   "metadata": {},
   "outputs": [
    {
     "name": "stdout",
     "output_type": "stream",
     "text": [
      "El promedio de ventas de NA es: 4402.35\n",
      "\n",
      "El top 5 de ventas en NA es:\n",
      "\n",
      "  platform  na_sales  market_share\n",
      "0     X360    602.47      0.136852\n",
      "1      PS2    583.84      0.132620\n",
      "2      Wii    496.90      0.112872\n",
      "3      PS3    393.49      0.089382\n",
      "4       DS    382.40      0.086863\n"
     ]
    },
    {
     "data": {
      "image/png": "[encoded data removed]",
      "text/plain": [
       "<Figure size 640x480 with 1 Axes>"
      ]
     },
     "metadata": {},
     "output_type": "display_data"
    }
   ],
   "source": [
    "#filtra por nombre, plataforma, género, ventas en la región y rating\n",
    "na_buyer = df[[\"name\",\"platform\",\"genre\",\"na_sales\",\"rating\"]]\n",
    "na_total_sales = df[\"na_sales\"].sum() # suma las ventas\n",
    "\n",
    "print(f\"El promedio de ventas de NA es: {na_total_sales}\")\n",
    "print()\n",
    "\n",
    "#agrupa por plataforma para obtener la suma de las ventas y obtiene el top 5\n",
    "na_top5 = na_buyer.groupby(\"platform\")[\"na_sales\"].sum().sort_values(ascending = False).head(5).reset_index()\n",
    "\n",
    "na_top5c = na_top5.copy() #genera una copia del top 5\n",
    "\n",
    "na_top5c[\"market_share\"] = na_top5c[\"na_sales\"] / na_total_sales #genera una nueva columna con la compartición del mercado\n",
    "\n",
    "print(\"El top 5 de ventas en NA es:\")\n",
    "print()\n",
    "print(na_top5c)\n",
    "\n",
    "# Crear el gráfico de barras\n",
    "na_top5c.plot(x='platform', y='market_share', kind='bar', legend=False)\n",
    "plt.xlabel('Plataforma')\n",
    "plt.ylabel('Cuota de mercado')\n",
    "plt.title('Cuota de mercado por plataforma NA')\n",
    "plt.show()\n"
   ]
  },
  {
   "cell_type": "markdown",
   "metadata": {},
   "source": [
    "#### Variación de cuotas de mercado en EU"
   ]
  },
  {
   "cell_type": "code",
   "execution_count": 21,
   "metadata": {},
   "outputs": [
    {
     "name": "stdout",
     "output_type": "stream",
     "text": [
      "El promedio de ventas de EU es: 2424.67\n",
      "\n",
      "El top 5 de ventas en EU es:\n",
      "\n",
      "  platform  eu_sales  market_share\n",
      "0      PS2    339.29      0.139932\n",
      "1      PS3    330.29      0.136221\n",
      "2     X360    270.76      0.111669\n",
      "3      Wii    262.21      0.108143\n",
      "4       PS    213.61      0.088099\n"
     ]
    },
    {
     "data": {
      "image/png": "[encoded data removed]",
      "text/plain": [
       "<Figure size 640x480 with 1 Axes>"
      ]
     },
     "metadata": {},
     "output_type": "display_data"
    }
   ],
   "source": [
    "#filtra por nombre, plataforma, género, ventas en la región y rating\n",
    "eu_buyer = df[[\"name\",\"platform\",\"genre\",\"eu_sales\",\"rating\"]]\n",
    "\n",
    "eu_total_sales = df[\"eu_sales\"].sum() #suma las ventas\n",
    "\n",
    "print(f\"El promedio de ventas de EU es: {eu_total_sales}\")\n",
    "print()\n",
    "\n",
    "#agrupa por plataforma para obtener la suma de las ventas y obtiene el top 5\n",
    "eu_top5 = eu_buyer.groupby(\"platform\")[\"eu_sales\"].sum().sort_values(ascending = False).head(5).reset_index()\n",
    "\n",
    "eu_top5c = eu_top5.copy() #genera una copia del top 5\n",
    "\n",
    "#genera una nueva columna con la compartición del mercado\n",
    "eu_top5c[\"market_share\"] = eu_top5c[\"eu_sales\"] / eu_total_sales\n",
    "\n",
    "print(\"El top 5 de ventas en EU es:\")\n",
    "print()\n",
    "print(eu_top5c)\n",
    "\n",
    "# Crear el gráfico de barras\n",
    "eu_top5c.plot(x='platform', y='market_share', kind='bar', legend=False)\n",
    "plt.xlabel('Plataforma')\n",
    "plt.ylabel('Cuota de mercado')\n",
    "plt.title('Cuota de mercado por plataforma EU')\n",
    "plt.show()"
   ]
  },
  {
   "cell_type": "markdown",
   "metadata": {},
   "source": [
    "#### Variación de cuotas de mercado en JP"
   ]
  },
  {
   "cell_type": "code",
   "execution_count": 22,
   "metadata": {},
   "outputs": [
    {
     "name": "stdout",
     "output_type": "stream",
     "text": [
      "El promedio de ventas de JP es: 1297.37\n",
      "\n",
      "El top 5 de ventas en JP es:\n",
      "\n",
      "  platform  jp_sales  market_share\n",
      "0       DS    175.57      0.135328\n",
      "1       PS    139.82      0.107772\n",
      "2      PS2    139.20      0.107294\n",
      "3     SNES    116.55      0.089836\n",
      "4      3DS    100.67      0.077595\n"
     ]
    },
    {
     "data": {
      "image/png": "[encoded data removed]",
      "text/plain": [
       "<Figure size 640x480 with 1 Axes>"
      ]
     },
     "metadata": {},
     "output_type": "display_data"
    }
   ],
   "source": [
    "#filtra por nombre, plataforma, género, ventas en la región y rating\n",
    "jp_buyer = df[[\"name\",\"platform\",\"genre\",\"jp_sales\",\"rating\"]]\n",
    "\n",
    "jp_total_sales = df[\"jp_sales\"].sum() #suma las ventas de la región\n",
    "\n",
    "print(f\"El promedio de ventas de JP es: {jp_total_sales}\")\n",
    "print()\n",
    "\n",
    "#agrupa por plataforma para obtener la suma de las ventas y obtiene el top 5\n",
    "jp_top5 = jp_buyer.groupby(\"platform\")[\"jp_sales\"].sum().sort_values(ascending = False).head(5).reset_index()\n",
    "\n",
    "jp_top5c = jp_top5.copy() #genera una copia del top 5\n",
    "\n",
    "#genera una nueva columna con la compartición del mercado\n",
    "jp_top5c[\"market_share\"] = jp_top5c[\"jp_sales\"] / jp_total_sales\n",
    "\n",
    "print(\"El top 5 de ventas en JP es:\")\n",
    "print()\n",
    "print(jp_top5c)\n",
    "\n",
    "# Crear el gráfico de barras\n",
    "jp_top5c.plot(x='platform', y='market_share', kind='bar', legend=False)\n",
    "plt.xlabel('Plataforma')\n",
    "plt.ylabel('Cuota de mercado')\n",
    "plt.title('Cuota de mercado por plataforma EU')\n",
    "plt.show()"
   ]
  },
  {
   "cell_type": "markdown",
   "metadata": {},
   "source": [
    "* De los gráficas y compartativos de los top 5 en ventas por región de puede ver, que tanto NA como EU tienen gustos bastantes semejantes en cuanto a plataformas, tanto es así que comparten 4/5 plataformas del top, que son: X360, PS2, PS3 y Wii\n",
    "\n",
    "* Por otro lado, la región de JP al parecer prefiere la portabilidad y lo clásico, ya que en su top de ventas se encuentran plataformas como la DS y 3DS, y en cuarto lugar la SNES\n",
    "\n",
    "* Analizando las variaciones según la compartición de mercado, de uno a otro, la única plataforma que se encuentra en el top de todas las regiones es la PS2, donde podemos ver que en NA la PS2 tiene el 13.2% de las ventas y tiene el segundo puesto del su top, en EU es número 1 de su región con el 13.99% y en JP la PS2 posee el 10.73% del mercado\n",
    "\n",
    "* Esto sitúa a la PS2 como líder absoluta en ventas totales en todas las regiones con un valor de aproximado de 1.000 millones de dólares"
   ]
  },
  {
   "cell_type": "markdown",
   "metadata": {},
   "source": [
    "### Cinco géneros principales por región"
   ]
  },
  {
   "cell_type": "markdown",
   "metadata": {},
   "source": [
    "#### Principales géneros en NA"
   ]
  },
  {
   "cell_type": "code",
   "execution_count": 23,
   "metadata": {},
   "outputs": [
    {
     "data": {
      "text/html": [
       "<div>\n",
       "<style scoped>\n",
       "    .dataframe tbody tr th:only-of-type {\n",
       "        vertical-align: middle;\n",
       "    }\n",
       "\n",
       "    .dataframe tbody tr th {\n",
       "        vertical-align: top;\n",
       "    }\n",
       "\n",
       "    .dataframe thead th {\n",
       "        text-align: right;\n",
       "    }\n",
       "</style>\n",
       "<table border=\"1\" class=\"dataframe\">\n",
       "  <thead>\n",
       "    <tr style=\"text-align: right;\">\n",
       "      <th></th>\n",
       "      <th>genre</th>\n",
       "      <th>na_sales</th>\n",
       "    </tr>\n",
       "  </thead>\n",
       "  <tbody>\n",
       "    <tr>\n",
       "      <th>0</th>\n",
       "      <td>Action</td>\n",
       "      <td>879.01</td>\n",
       "    </tr>\n",
       "    <tr>\n",
       "      <th>1</th>\n",
       "      <td>Sports</td>\n",
       "      <td>684.43</td>\n",
       "    </tr>\n",
       "    <tr>\n",
       "      <th>2</th>\n",
       "      <td>Shooter</td>\n",
       "      <td>592.24</td>\n",
       "    </tr>\n",
       "    <tr>\n",
       "      <th>3</th>\n",
       "      <td>Platform</td>\n",
       "      <td>445.50</td>\n",
       "    </tr>\n",
       "    <tr>\n",
       "      <th>4</th>\n",
       "      <td>Misc</td>\n",
       "      <td>407.27</td>\n",
       "    </tr>\n",
       "  </tbody>\n",
       "</table>\n",
       "</div>"
      ],
      "text/plain": [
       "      genre  na_sales\n",
       "0    Action    879.01\n",
       "1    Sports    684.43\n",
       "2   Shooter    592.24\n",
       "3  Platform    445.50\n",
       "4      Misc    407.27"
      ]
     },
     "execution_count": 23,
     "metadata": {},
     "output_type": "execute_result"
    }
   ],
   "source": [
    "# Top 5 de géneros en NA\n",
    "#agrupa por género y suma las ventas de la región\n",
    "na_genre_top5 = na_buyer.groupby(\"genre\")[\"na_sales\"].sum().sort_values(ascending = False).head(5).reset_index()\n",
    "na_genre_top5\n"
   ]
  },
  {
   "cell_type": "markdown",
   "metadata": {},
   "source": [
    "#### Principales géneros en EU"
   ]
  },
  {
   "cell_type": "code",
   "execution_count": 24,
   "metadata": {},
   "outputs": [
    {
     "data": {
      "text/html": [
       "<div>\n",
       "<style scoped>\n",
       "    .dataframe tbody tr th:only-of-type {\n",
       "        vertical-align: middle;\n",
       "    }\n",
       "\n",
       "    .dataframe tbody tr th {\n",
       "        vertical-align: top;\n",
       "    }\n",
       "\n",
       "    .dataframe thead th {\n",
       "        text-align: right;\n",
       "    }\n",
       "</style>\n",
       "<table border=\"1\" class=\"dataframe\">\n",
       "  <thead>\n",
       "    <tr style=\"text-align: right;\">\n",
       "      <th></th>\n",
       "      <th>genre</th>\n",
       "      <th>eu_sales</th>\n",
       "    </tr>\n",
       "  </thead>\n",
       "  <tbody>\n",
       "    <tr>\n",
       "      <th>0</th>\n",
       "      <td>Action</td>\n",
       "      <td>519.13</td>\n",
       "    </tr>\n",
       "    <tr>\n",
       "      <th>1</th>\n",
       "      <td>Sports</td>\n",
       "      <td>376.79</td>\n",
       "    </tr>\n",
       "    <tr>\n",
       "      <th>2</th>\n",
       "      <td>Shooter</td>\n",
       "      <td>317.34</td>\n",
       "    </tr>\n",
       "    <tr>\n",
       "      <th>3</th>\n",
       "      <td>Racing</td>\n",
       "      <td>236.51</td>\n",
       "    </tr>\n",
       "    <tr>\n",
       "      <th>4</th>\n",
       "      <td>Misc</td>\n",
       "      <td>212.74</td>\n",
       "    </tr>\n",
       "  </tbody>\n",
       "</table>\n",
       "</div>"
      ],
      "text/plain": [
       "     genre  eu_sales\n",
       "0   Action    519.13\n",
       "1   Sports    376.79\n",
       "2  Shooter    317.34\n",
       "3   Racing    236.51\n",
       "4     Misc    212.74"
      ]
     },
     "execution_count": 24,
     "metadata": {},
     "output_type": "execute_result"
    }
   ],
   "source": [
    "# Top 5 de géneros en EU\n",
    "#agrupa por género y suma las ventas de la región\n",
    "eu_genre_top5 = eu_buyer.groupby(\"genre\")[\"eu_sales\"].sum().sort_values(ascending = False).head(5).reset_index()\n",
    "eu_genre_top5\n"
   ]
  },
  {
   "cell_type": "markdown",
   "metadata": {},
   "source": [
    "#### Principales géneros en JP"
   ]
  },
  {
   "cell_type": "code",
   "execution_count": 25,
   "metadata": {},
   "outputs": [
    {
     "data": {
      "text/html": [
       "<div>\n",
       "<style scoped>\n",
       "    .dataframe tbody tr th:only-of-type {\n",
       "        vertical-align: middle;\n",
       "    }\n",
       "\n",
       "    .dataframe tbody tr th {\n",
       "        vertical-align: top;\n",
       "    }\n",
       "\n",
       "    .dataframe thead th {\n",
       "        text-align: right;\n",
       "    }\n",
       "</style>\n",
       "<table border=\"1\" class=\"dataframe\">\n",
       "  <thead>\n",
       "    <tr style=\"text-align: right;\">\n",
       "      <th></th>\n",
       "      <th>genre</th>\n",
       "      <th>jp_sales</th>\n",
       "    </tr>\n",
       "  </thead>\n",
       "  <tbody>\n",
       "    <tr>\n",
       "      <th>0</th>\n",
       "      <td>Role-Playing</td>\n",
       "      <td>355.41</td>\n",
       "    </tr>\n",
       "    <tr>\n",
       "      <th>1</th>\n",
       "      <td>Action</td>\n",
       "      <td>161.43</td>\n",
       "    </tr>\n",
       "    <tr>\n",
       "      <th>2</th>\n",
       "      <td>Sports</td>\n",
       "      <td>135.54</td>\n",
       "    </tr>\n",
       "    <tr>\n",
       "      <th>3</th>\n",
       "      <td>Platform</td>\n",
       "      <td>130.83</td>\n",
       "    </tr>\n",
       "    <tr>\n",
       "      <th>4</th>\n",
       "      <td>Misc</td>\n",
       "      <td>108.11</td>\n",
       "    </tr>\n",
       "  </tbody>\n",
       "</table>\n",
       "</div>"
      ],
      "text/plain": [
       "          genre  jp_sales\n",
       "0  Role-Playing    355.41\n",
       "1        Action    161.43\n",
       "2        Sports    135.54\n",
       "3      Platform    130.83\n",
       "4          Misc    108.11"
      ]
     },
     "execution_count": 25,
     "metadata": {},
     "output_type": "execute_result"
    }
   ],
   "source": [
    "# Top 5 de géneros en JP\n",
    "#agrupa por género y suma las ventas de la región\n",
    "jp_genre_top5 = jp_buyer.groupby(\"genre\")[\"jp_sales\"].sum().sort_values(ascending = False).head(5).reset_index()\n",
    "jp_genre_top5\n"
   ]
  },
  {
   "cell_type": "markdown",
   "metadata": {},
   "source": [
    "* En el top de todas las regiones los géneros más vendidos han sido \"Action\" y \"Sports\", aparentemente todos disfrutan de estos títulos en su plataforma preferida\n",
    "\n",
    "* El género de \"Action\", aparentemente es el género que más disfrutan en forma general y por supuesto el que más ingresos ha generado con total de 1.559 millones de dólares, aproximadamente 30% por arriba de los juegos de deportes\n",
    "\n",
    "* Y por último, la particularidad que nos muestra el top en JP es que a diferencia del resto de regiones donde el género \"Role-Playing\" ni aparece en el top, en JP es el top 1 en ventas de la región, es tan popular que el segundo puesto, \"Action\", está 55% por debajo en ventas"
   ]
  },
  {
   "cell_type": "markdown",
   "metadata": {},
   "source": [
    "### Clasificaciones ESRB por región"
   ]
  },
  {
   "cell_type": "markdown",
   "metadata": {},
   "source": [
    "#### Principales ventas por región según ESRB en NA"
   ]
  },
  {
   "cell_type": "code",
   "execution_count": 26,
   "metadata": {},
   "outputs": [
    {
     "data": {
      "text/html": [
       "<div>\n",
       "<style scoped>\n",
       "    .dataframe tbody tr th:only-of-type {\n",
       "        vertical-align: middle;\n",
       "    }\n",
       "\n",
       "    .dataframe tbody tr th {\n",
       "        vertical-align: top;\n",
       "    }\n",
       "\n",
       "    .dataframe thead th {\n",
       "        text-align: right;\n",
       "    }\n",
       "</style>\n",
       "<table border=\"1\" class=\"dataframe\">\n",
       "  <thead>\n",
       "    <tr style=\"text-align: right;\">\n",
       "      <th></th>\n",
       "      <th>rating</th>\n",
       "      <th>na_sales</th>\n",
       "    </tr>\n",
       "  </thead>\n",
       "  <tbody>\n",
       "    <tr>\n",
       "      <th>0</th>\n",
       "      <td>E</td>\n",
       "      <td>1292.99</td>\n",
       "    </tr>\n",
       "    <tr>\n",
       "      <th>1</th>\n",
       "      <td>unrated</td>\n",
       "      <td>1242.46</td>\n",
       "    </tr>\n",
       "    <tr>\n",
       "      <th>2</th>\n",
       "      <td>T</td>\n",
       "      <td>759.75</td>\n",
       "    </tr>\n",
       "    <tr>\n",
       "      <th>3</th>\n",
       "      <td>M</td>\n",
       "      <td>748.48</td>\n",
       "    </tr>\n",
       "    <tr>\n",
       "      <th>4</th>\n",
       "      <td>E10+</td>\n",
       "      <td>353.32</td>\n",
       "    </tr>\n",
       "  </tbody>\n",
       "</table>\n",
       "</div>"
      ],
      "text/plain": [
       "    rating  na_sales\n",
       "0        E   1292.99\n",
       "1  unrated   1242.46\n",
       "2        T    759.75\n",
       "3        M    748.48\n",
       "4     E10+    353.32"
      ]
     },
     "execution_count": 26,
     "metadata": {},
     "output_type": "execute_result"
    }
   ],
   "source": [
    "# Top 5 de géneros en NA\n",
    "#agrupa por rating y suma las ventas por región\n",
    "na_rating_top5 = na_buyer.groupby(\"rating\")[\"na_sales\"].sum().sort_values(ascending = False).head(5).reset_index()\n",
    "na_rating_top5"
   ]
  },
  {
   "cell_type": "markdown",
   "metadata": {},
   "source": [
    "#### Principales ventas por región según ESRB en EU"
   ]
  },
  {
   "cell_type": "code",
   "execution_count": 27,
   "metadata": {},
   "outputs": [
    {
     "data": {
      "text/html": [
       "<div>\n",
       "<style scoped>\n",
       "    .dataframe tbody tr th:only-of-type {\n",
       "        vertical-align: middle;\n",
       "    }\n",
       "\n",
       "    .dataframe tbody tr th {\n",
       "        vertical-align: top;\n",
       "    }\n",
       "\n",
       "    .dataframe thead th {\n",
       "        text-align: right;\n",
       "    }\n",
       "</style>\n",
       "<table border=\"1\" class=\"dataframe\">\n",
       "  <thead>\n",
       "    <tr style=\"text-align: right;\">\n",
       "      <th></th>\n",
       "      <th>rating</th>\n",
       "      <th>eu_sales</th>\n",
       "    </tr>\n",
       "  </thead>\n",
       "  <tbody>\n",
       "    <tr>\n",
       "      <th>0</th>\n",
       "      <td>E</td>\n",
       "      <td>710.25</td>\n",
       "    </tr>\n",
       "    <tr>\n",
       "      <th>1</th>\n",
       "      <td>unrated</td>\n",
       "      <td>613.83</td>\n",
       "    </tr>\n",
       "    <tr>\n",
       "      <th>2</th>\n",
       "      <td>M</td>\n",
       "      <td>483.97</td>\n",
       "    </tr>\n",
       "    <tr>\n",
       "      <th>3</th>\n",
       "      <td>T</td>\n",
       "      <td>427.03</td>\n",
       "    </tr>\n",
       "    <tr>\n",
       "      <th>4</th>\n",
       "      <td>E10+</td>\n",
       "      <td>188.52</td>\n",
       "    </tr>\n",
       "  </tbody>\n",
       "</table>\n",
       "</div>"
      ],
      "text/plain": [
       "    rating  eu_sales\n",
       "0        E    710.25\n",
       "1  unrated    613.83\n",
       "2        M    483.97\n",
       "3        T    427.03\n",
       "4     E10+    188.52"
      ]
     },
     "execution_count": 27,
     "metadata": {},
     "output_type": "execute_result"
    }
   ],
   "source": [
    "# Top 5 de géneros en EU\n",
    "#agrupa por ratinig y suma las ventas de la región\n",
    "eu_rating_top5 = eu_buyer.groupby(\"rating\")[\"eu_sales\"].sum().sort_values(ascending = False).head(5).reset_index()\n",
    "eu_rating_top5"
   ]
  },
  {
   "cell_type": "markdown",
   "metadata": {},
   "source": [
    "#### Principales ventas por región según ESRB en JP"
   ]
  },
  {
   "cell_type": "code",
   "execution_count": 28,
   "metadata": {},
   "outputs": [
    {
     "data": {
      "text/html": [
       "<div>\n",
       "<style scoped>\n",
       "    .dataframe tbody tr th:only-of-type {\n",
       "        vertical-align: middle;\n",
       "    }\n",
       "\n",
       "    .dataframe tbody tr th {\n",
       "        vertical-align: top;\n",
       "    }\n",
       "\n",
       "    .dataframe thead th {\n",
       "        text-align: right;\n",
       "    }\n",
       "</style>\n",
       "<table border=\"1\" class=\"dataframe\">\n",
       "  <thead>\n",
       "    <tr style=\"text-align: right;\">\n",
       "      <th></th>\n",
       "      <th>rating</th>\n",
       "      <th>jp_sales</th>\n",
       "    </tr>\n",
       "  </thead>\n",
       "  <tbody>\n",
       "    <tr>\n",
       "      <th>0</th>\n",
       "      <td>unrated</td>\n",
       "      <td>841.96</td>\n",
       "    </tr>\n",
       "    <tr>\n",
       "      <th>1</th>\n",
       "      <td>E</td>\n",
       "      <td>198.11</td>\n",
       "    </tr>\n",
       "    <tr>\n",
       "      <th>2</th>\n",
       "      <td>T</td>\n",
       "      <td>151.40</td>\n",
       "    </tr>\n",
       "    <tr>\n",
       "      <th>3</th>\n",
       "      <td>M</td>\n",
       "      <td>64.24</td>\n",
       "    </tr>\n",
       "    <tr>\n",
       "      <th>4</th>\n",
       "      <td>E10+</td>\n",
       "      <td>40.20</td>\n",
       "    </tr>\n",
       "  </tbody>\n",
       "</table>\n",
       "</div>"
      ],
      "text/plain": [
       "    rating  jp_sales\n",
       "0  unrated    841.96\n",
       "1        E    198.11\n",
       "2        T    151.40\n",
       "3        M     64.24\n",
       "4     E10+     40.20"
      ]
     },
     "execution_count": 28,
     "metadata": {},
     "output_type": "execute_result"
    }
   ],
   "source": [
    "# Top 5 de géneros en JP\n",
    "#agrupa por rating y suma las ventas por región\n",
    "jp_rating_top5 = jp_buyer.groupby(\"rating\")[\"jp_sales\"].sum().sort_values(ascending = False).head(5).reset_index()\n",
    "jp_rating_top5"
   ]
  },
  {
   "cell_type": "markdown",
   "metadata": {},
   "source": [
    "* Definitivamente los títulos que fueron ideados para todo público son los más vendidos en todas las regiones, aunque en JP existen muchos títulos sin rating que con consumidos, tanto así que lideran las ventas de la región\n",
    "\n",
    "* Adicional, en todas las regiones también hay presencia de títulos para adolescentes (T) y +17 (M), tanto así que, lideran el top 5 en ventas por rating, por lo que las casas productoras de video juegos deberán seguir enfocándose en estos ratings para nuevos lanzamientos"
   ]
  },
  {
   "cell_type": "markdown",
   "metadata": {},
   "source": [
    "<div class=\"alert alert-block alert-success\">\n",
    "<b>Comentario del revisor:</b> <a class=\"tocSkip\"></a>\n",
    "\n",
    "Excelente! Con este análisis por región ayuda a complementar el análisis general anterior y a hacer zoom a los resultados por cada una de las regiones.   \n",
    "\n",
    "</div>"
   ]
  },
  {
   "cell_type": "markdown",
   "metadata": {},
   "source": [
    "## Prueba de Hipótesis "
   ]
  },
  {
   "cell_type": "markdown",
   "metadata": {},
   "source": [
    "### Prueba de hipótesis 1: Las calificaciones promedio de los usuarios para las plataformas Xbox One y PC son las mismas.\n"
   ]
  },
  {
   "cell_type": "code",
   "execution_count": 81,
   "metadata": {},
   "outputs": [
    {
     "name": "stdout",
     "output_type": "stream",
     "text": [
      "No se puede rechazar la hipótesis sobre las varianzas\n",
      "\n",
      "pvalue es: 1.3896435533548819e-05\n",
      "\n",
      "Se rechaza la hipótesis nula\n"
     ]
    }
   ],
   "source": [
    "# Prueba de hipótesis: Las calificaciones promedio de los usuarios para las plataformas Xbox One y PC son las mismas.\n",
    "#filtra por tipo de plataforma y elimina las filas con valores faltantes y convierte texto a números\n",
    "h_xone = pd.to_numeric(df.query(\"platform == 'XOne'\")[\"user_score\"],errors = \"coerce\").dropna()\n",
    "h_pc = pd.to_numeric(df.query(\"platform == 'PC'\")[\"user_score\"], errors = \"coerce\").dropna()\n",
    "\n",
    "alpha = 0.05 #nivel de significancia\n",
    "\n",
    "#determina si las varianzas son iguales\n",
    "h_xone1 = h_xone.reset_index()\n",
    "h_pc1 = h_pc.reset_index()\n",
    "test = levene(h_xone1['user_score'], h_pc1['user_score'])\n",
    "if test.pvalue < alpha:\n",
    "    print(\"Las varianzas no son iguales\")\n",
    "else:\n",
    "    \n",
    "    print(\"No se puede rechazar la hipótesis sobre las varianzas\")\n",
    "    print()\n",
    "\n",
    "\n",
    "#ejecuta el ttest y guarda el resultado\n",
    "results = ttest_ind(h_xone,h_pc, equal_var = True)\n",
    "\n",
    "#evalúa pvalue contra alpha para rechazar o no la hipótesis\n",
    "if results.pvalue < alpha:\n",
    "    print(f\"pvalue es: {results.pvalue}\")\n",
    "    print()\n",
    "    print(\"Se rechaza la hipótesis nula\")\n",
    "else:\n",
    "    print(\"No se puede rechazar la hipótesis nula\")\n",
    "    \n"
   ]
  },
  {
   "cell_type": "markdown",
   "metadata": {},
   "source": [
    "### Prueba de hipótesis 2: Las calificaciones promedio de los usuarios para los géneros de Acción y Deporte son diferentes."
   ]
  },
  {
   "cell_type": "code",
   "execution_count": 84,
   "metadata": {},
   "outputs": [
    {
     "name": "stdout",
     "output_type": "stream",
     "text": [
      "Las varianzas no son iguales\n",
      "\n",
      "pvalue es: 0.11483818791498286\n",
      "\n",
      "No se puede rechazar la hipótesis nula\n"
     ]
    }
   ],
   "source": [
    "# Prueba de hipótesis: Las calificaciones promedio de los usuarios para los géneros de Acción y Deporte son diferentes.\n",
    "#filtra por tipo de plataforma y elimina las filas con valores faltantes y convierte texto a números\n",
    "h_action = pd.to_numeric(df.query(\"genre == 'Action'\")[\"user_score\"],errors = \"coerce\").dropna()\n",
    "h_sports = pd.to_numeric(df.query(\"genre == 'Sports'\")[\"user_score\"], errors = \"coerce\").dropna()\n",
    "\n",
    "alpha = 0.05 #nivel de significancia\n",
    "\n",
    "#determina si las varianzas son iguales\n",
    "h_action1 = h_action.reset_index()\n",
    "h_sports1 = h_sports.reset_index()\n",
    "test2 = levene(h_action1['user_score'], h_sports1['user_score'])\n",
    "if test2.pvalue < alpha:\n",
    "    print(\"Las varianzas no son iguales\")\n",
    "    print()\n",
    "else:\n",
    "    \n",
    "    print(\"No se puede rechazar la hipótesis sobre las varianzas\")\n",
    "    print()\n",
    "    \n",
    "#ejecuta el ttest y guarda el resultado\n",
    "results = ttest_ind(h_action,h_sports, equal_var = False)\n",
    "\n",
    "#evalúa pvalue contra alpha para rechazar o no la hipótesis\n",
    "if results.pvalue < alpha:\n",
    "    print(f\"pvalue es: {results.pvalue}\")\n",
    "    print()\n",
    "    print(\"Se rechaza la hipótesis nula\")\n",
    "else:\n",
    "    print(f\"pvalue es: {results.pvalue}\")\n",
    "    print()\n",
    "    print(\"No se puede rechazar la hipótesis nula\")"
   ]
  },
  {
   "cell_type": "markdown",
   "metadata": {},
   "source": [
    "* Para comprobar la hipótesis de que las plataformas Xone y PC tienen el mismo promedio de calificación por usuario se obtuvo las series con los valores de las calificaciones para cada caso y se asumió que las varianzas son iguales, así mismo el valor de alpha con el que vamos a comparar los resultados del ttest se colocó en 0.05\n",
    "\n",
    "* Del resultado se desprende que efectivamente los promedios de las calificaciones por usuario no son iguales entre si\n",
    "\n",
    "* Para el caso de la hipótesis de que las calificaciones de usuario en promedio son diferentes entre los géneros de Acción y Deportes, se utilizó similar criterio sólo que en este caso la H0 sería demostrar que son diferentes, y de los resultados no podemos aseverar de que sean distintos, posiblemente sus promedios estarán bastante cerca y se lo puede comprobar obteniendo el valor con los datos respectivos"
   ]
  },
  {
   "cell_type": "markdown",
   "metadata": {},
   "source": [
    " <div class=\"alert alert-block alert-warning\">\n",
    "<b>Comentario revisor</b> <a class=\"tocSkip\"></a>\n",
    "\n",
    "Excelente trabajo con las pruebas de hipótesis. Solamente, para estas pruebas te recomiendo hacer una prueba de  Levene  para mostrar si las varianzas son iguales y agregarlo dentro de la función. Actualmente lo colocar como equal_var=True. Para esto, primero debes calcular las varianzas para cada uno de las plataformas y en un segundo tiempo debes de hacer uso de la siguiente función: \n",
    "    \n",
    "    levene(xbox_one_data['user_score'], pc_data['user_score'])\n",
    "    \n",
    "Adoptaremos un nivel de significancia de 0.05; si el valor p resultante es mayor a 0.05, no podemos rechazar la hipótesis nula, y si es menor a 0.05, rechazamos la hipótesis nula, indicando que las varianzas no son iguales. \n",
    "    \n",
    "Solamente recuerda que la prueba de levene no es sustituto a la prueba de st.ttest_ind, más bien es complemento para saber que colocar dentro del elemento \"equal_var\". En este caso como rechazamos la hipótesis de varianzas iguales debemos de colocar False. Es por eso que para terminar la prueba debes de realizar la prueba de st.ttest_ind considernado el resultado de la prueba realizada de levene    \n",
    "</div>"
   ]
  },
  {
   "cell_type": "markdown",
   "metadata": {},
   "source": [
    "<div class=\"alert alert-block alert-info\">\n",
    "<b>Siguiendo las recomendaciones del revisor, se implementó un análisis previo de Levene para determinar si las varianzas son iguales o no entre las dos poblaciones del caso, ya que esto serviría de input para el análisis de ttest.</b> <a class=\"tocSkip\"></a>\n",
    "</div>"
   ]
  },
  {
   "cell_type": "markdown",
   "metadata": {},
   "source": [
    "<div class=\"alert alert-block alert-success\">\n",
    "<b>Comentario del revisor</b> <a class=\"tocSkip\"></a>\n",
    "\n",
    "Muy buen trabajo con los ajustes!\n",
    "</div>"
   ]
  },
  {
   "cell_type": "markdown",
   "metadata": {},
   "source": [
    "## Conclusión General\n",
    "\n"
   ]
  },
  {
   "cell_type": "markdown",
   "metadata": {},
   "source": [
    "* De entre las múltiples plataformas de video juegos que existen en el mercado, la PS2 ha sido la ganadora por ser la que mayores ingresos ha generado, cerca de 1.200 millones de dólares en ventas no es para nada despreciable\n",
    "\n",
    "* Se pudo observar que las plataformas nuevas aparecen cada 5 o 6 años y que tardan aproximadamente 10 años en desaparecer por lo que los fans de as consolas de juego podrán disfrutar de sus títulos favoritos por bastante tiempo hasta que nuevas plataformas aparezcan\n",
    "\n",
    "* La PS4 y X360 podrán ser una gran apuesta ya que se encuentran en el periodo de crecimiento para generar nuevos juegos para los fans de estas consolas de video\n",
    "\n",
    "* Las calificaciones tanto de usuarios como de la crítica influeyen directamente sobre los ingreso que generan las plataformas, por lo que se deberá prestar especial cuidado a estos datos para medir la temperatura de los nuevos lanzamientos\n",
    "\n",
    "* NFS Most Wanted ha sido el juego que ha aparecido para más plataformas desde su aparición por lo que los fans posiblemente los estén esperando para las nuevas plataformas o a las que aún no haya llegado\n",
    "\n",
    "* Por otro lado, los géneros que más han gustado de forma global son los de Acción y Deportes, por lo que se deberían poner los ojos sobre este tipo de géneros para generar aún más ingresos\n",
    "\n",
    "* Aunque en la región de JP, los Role-Playing han liderado por lo que deberá tener un tratamiento especial\n",
    "\n",
    "* Los títulos orientados a todo público son los que más ingresos han generado a lo largo de los años por lo que nuevos títulos con esta clasificación podrían ser una buena apuesta para futuros lanzamientos\n",
    "\n",
    "* Los promedios de ingresos entre los géneros de Acción y Deporte podrían ser iguales por lo que en un análisis más profundo podríamos determinar si esto es verdad para crear una estrategia para potenciar juegos de este género"
   ]
  },
  {
   "cell_type": "markdown",
   "metadata": {},
   "source": [
    "<div class=\"alert alert-block alert-warning\">\n",
    "<b>Comentario revisor</b> <a class=\"tocSkip\"></a>\n",
    "\n",
    "En general creo que hiciste un muy buen trabajo con el proyecto, pudiste limpiar y trabajar las bases de datos de beuna manera. Además, el análisis explorario de datos fue completo al mostrar resultados relevantes que pueden ser de mucha utilidad para la toma de decisiones y desarrollaste las pruebas de hipótesis de una buena manera. No obstante, recuerda que siempre podemos mejorar y te menciono algunos puntos que debes considerar:\n",
    "\n",
    "* Verificar que cuando llenamos variables con valores nulos los estamos comletando \n",
    "\n",
    "*  Considerar eliminar registros atipicos que puedan sesgar nuestros resultados. \n",
    "    \n",
    "*  Considerar desarrollar un análisis para comprobar los supuestos de la prueba de hipótesis (varianzas iguales)\n",
    "    \n",
    "</div>"
   ]
  },
  {
   "cell_type": "markdown",
   "metadata": {},
   "source": [
    "<div class=\"alert alert-block alert-success\">\n",
    "<b>Comentario del revisor</b> <a class=\"tocSkip\"></a>\n",
    "\n",
    "Muy buen trabajo con los ajustes! Que sigas disfrutando los siguientes cursos!\n",
    "</div>"
   ]
  }
 ],
 "metadata": {
  "ExecuteTimeLog": [
   {
    "duration": 817,
    "start_time": "2024-05-27T03:40:04.097Z"
   },
   {
    "duration": 95,
    "start_time": "2024-05-27T03:40:13.440Z"
   },
   {
    "duration": 492,
    "start_time": "2024-05-27T11:17:03.349Z"
   },
   {
    "duration": 58,
    "start_time": "2024-05-27T11:17:09.954Z"
   },
   {
    "duration": 5,
    "start_time": "2024-05-27T11:18:29.475Z"
   },
   {
    "duration": 24,
    "start_time": "2024-05-27T11:18:35.893Z"
   },
   {
    "duration": 13,
    "start_time": "2024-05-27T11:25:26.111Z"
   },
   {
    "duration": 357,
    "start_time": "2024-05-27T11:25:58.378Z"
   },
   {
    "duration": 37,
    "start_time": "2024-05-27T11:26:40.506Z"
   },
   {
    "duration": 50,
    "start_time": "2024-05-27T11:27:04.262Z"
   },
   {
    "duration": 41,
    "start_time": "2024-05-27T11:28:31.730Z"
   },
   {
    "duration": 36,
    "start_time": "2024-05-27T11:28:35.839Z"
   },
   {
    "duration": 37,
    "start_time": "2024-05-27T11:28:50.682Z"
   },
   {
    "duration": 53,
    "start_time": "2024-05-27T11:29:22.413Z"
   },
   {
    "duration": 21,
    "start_time": "2024-05-27T11:30:29.154Z"
   },
   {
    "duration": 45,
    "start_time": "2024-05-27T11:31:14.402Z"
   },
   {
    "duration": 43,
    "start_time": "2024-05-27T11:32:09.213Z"
   },
   {
    "duration": 19,
    "start_time": "2024-05-27T11:33:26.413Z"
   },
   {
    "duration": 33,
    "start_time": "2024-05-27T11:49:02.971Z"
   },
   {
    "duration": 0,
    "start_time": "2024-05-27T11:50:14.322Z"
   },
   {
    "duration": 171,
    "start_time": "2024-05-27T11:50:14.882Z"
   },
   {
    "duration": 508,
    "start_time": "2024-05-27T11:51:36.106Z"
   },
   {
    "duration": 47,
    "start_time": "2024-05-27T11:51:36.618Z"
   },
   {
    "duration": 1461,
    "start_time": "2024-05-27T11:51:36.668Z"
   },
   {
    "duration": 580,
    "start_time": "2024-05-27T11:51:56.503Z"
   },
   {
    "duration": 53,
    "start_time": "2024-05-27T11:51:57.087Z"
   },
   {
    "duration": 64,
    "start_time": "2024-05-27T11:51:57.145Z"
   },
   {
    "duration": 1452,
    "start_time": "2024-05-27T11:52:56.783Z"
   },
   {
    "duration": 113,
    "start_time": "2024-05-27T11:55:40.389Z"
   },
   {
    "duration": 34,
    "start_time": "2024-05-27T11:57:13.061Z"
   },
   {
    "duration": 20,
    "start_time": "2024-05-27T11:57:54.990Z"
   },
   {
    "duration": 19,
    "start_time": "2024-05-27T12:02:10.628Z"
   },
   {
    "duration": 20,
    "start_time": "2024-05-27T12:02:42.185Z"
   },
   {
    "duration": 24,
    "start_time": "2024-05-27T12:03:46.000Z"
   },
   {
    "duration": 616,
    "start_time": "2024-05-27T14:38:23.391Z"
   },
   {
    "duration": 51,
    "start_time": "2024-05-27T14:38:24.013Z"
   },
   {
    "duration": 47,
    "start_time": "2024-05-27T14:38:24.067Z"
   },
   {
    "duration": 30,
    "start_time": "2024-05-27T14:38:24.118Z"
   },
   {
    "duration": 24,
    "start_time": "2024-05-27T16:00:52.147Z"
   },
   {
    "duration": 22,
    "start_time": "2024-05-27T16:01:11.125Z"
   },
   {
    "duration": 23,
    "start_time": "2024-05-27T16:01:34.867Z"
   },
   {
    "duration": 22,
    "start_time": "2024-05-27T16:02:20.891Z"
   },
   {
    "duration": 352,
    "start_time": "2024-05-27T16:02:54.659Z"
   },
   {
    "duration": 55,
    "start_time": "2024-05-27T16:03:33.910Z"
   },
   {
    "duration": 852,
    "start_time": "2024-05-27T16:03:42.516Z"
   },
   {
    "duration": 57,
    "start_time": "2024-05-27T16:04:01.757Z"
   },
   {
    "duration": 46,
    "start_time": "2024-05-27T16:04:01.818Z"
   },
   {
    "duration": 20,
    "start_time": "2024-05-27T16:04:01.867Z"
   },
   {
    "duration": 41,
    "start_time": "2024-05-27T16:04:01.915Z"
   },
   {
    "duration": 38,
    "start_time": "2024-05-27T16:04:26.329Z"
   },
   {
    "duration": 23,
    "start_time": "2024-05-27T16:04:56.761Z"
   },
   {
    "duration": 36,
    "start_time": "2024-05-27T16:05:50.660Z"
   },
   {
    "duration": 24,
    "start_time": "2024-05-27T16:06:47.240Z"
   },
   {
    "duration": 31,
    "start_time": "2024-05-27T16:07:00.259Z"
   },
   {
    "duration": 32,
    "start_time": "2024-05-27T16:07:12.916Z"
   },
   {
    "duration": 22,
    "start_time": "2024-05-27T16:38:11.570Z"
   },
   {
    "duration": 21,
    "start_time": "2024-05-27T16:38:21.125Z"
   },
   {
    "duration": 65,
    "start_time": "2024-05-27T16:39:12.822Z"
   },
   {
    "duration": 54,
    "start_time": "2024-05-27T16:39:12.891Z"
   },
   {
    "duration": 26,
    "start_time": "2024-05-27T16:39:12.949Z"
   },
   {
    "duration": 38,
    "start_time": "2024-05-27T16:39:12.996Z"
   },
   {
    "duration": 9,
    "start_time": "2024-05-27T16:39:34.947Z"
   },
   {
    "duration": 20,
    "start_time": "2024-05-27T16:40:04.263Z"
   },
   {
    "duration": 22,
    "start_time": "2024-05-27T16:40:31.309Z"
   },
   {
    "duration": 19,
    "start_time": "2024-05-27T16:41:27.215Z"
   },
   {
    "duration": 21,
    "start_time": "2024-05-27T16:41:47.835Z"
   },
   {
    "duration": 25,
    "start_time": "2024-05-27T16:42:25.141Z"
   },
   {
    "duration": 24,
    "start_time": "2024-05-27T16:43:07.185Z"
   },
   {
    "duration": 79,
    "start_time": "2024-05-27T16:44:03.347Z"
   },
   {
    "duration": 672,
    "start_time": "2024-05-27T16:45:34.693Z"
   },
   {
    "duration": 27,
    "start_time": "2024-05-27T16:48:41.502Z"
   },
   {
    "duration": 32,
    "start_time": "2024-05-27T16:48:57.878Z"
   },
   {
    "duration": 21,
    "start_time": "2024-05-27T16:49:23.078Z"
   },
   {
    "duration": 21,
    "start_time": "2024-05-27T16:49:56.287Z"
   },
   {
    "duration": 24,
    "start_time": "2024-05-27T16:50:27.640Z"
   },
   {
    "duration": 12,
    "start_time": "2024-05-27T16:50:32.913Z"
   },
   {
    "duration": 8,
    "start_time": "2024-05-27T16:50:50.678Z"
   },
   {
    "duration": 22,
    "start_time": "2024-05-27T16:50:57.100Z"
   },
   {
    "duration": 13,
    "start_time": "2024-05-27T16:51:30.841Z"
   },
   {
    "duration": 317,
    "start_time": "2024-05-27T20:19:06.773Z"
   },
   {
    "duration": 23,
    "start_time": "2024-05-27T20:19:20.629Z"
   },
   {
    "duration": 554,
    "start_time": "2024-05-27T20:19:25.492Z"
   },
   {
    "duration": 44,
    "start_time": "2024-05-27T20:19:26.050Z"
   },
   {
    "duration": 20,
    "start_time": "2024-05-27T20:19:26.108Z"
   },
   {
    "duration": 25,
    "start_time": "2024-05-27T20:19:26.131Z"
   },
   {
    "duration": 54,
    "start_time": "2024-05-28T01:31:11.827Z"
   },
   {
    "duration": 43,
    "start_time": "2024-05-28T01:31:11.884Z"
   },
   {
    "duration": 22,
    "start_time": "2024-05-28T01:31:11.929Z"
   },
   {
    "duration": 62,
    "start_time": "2024-05-28T01:31:11.954Z"
   },
   {
    "duration": 4,
    "start_time": "2024-05-28T01:44:32.287Z"
   },
   {
    "duration": 19,
    "start_time": "2024-05-28T01:44:36.863Z"
   },
   {
    "duration": 19,
    "start_time": "2024-05-28T01:45:56.434Z"
   },
   {
    "duration": 6,
    "start_time": "2024-05-28T01:46:05.092Z"
   },
   {
    "duration": 21,
    "start_time": "2024-05-28T01:46:12.899Z"
   },
   {
    "duration": 8,
    "start_time": "2024-05-28T01:50:56.368Z"
   },
   {
    "duration": 6,
    "start_time": "2024-05-28T01:51:45.931Z"
   },
   {
    "duration": 85,
    "start_time": "2024-05-28T01:51:53.702Z"
   },
   {
    "duration": 14,
    "start_time": "2024-05-28T01:52:42.849Z"
   },
   {
    "duration": 21,
    "start_time": "2024-05-28T01:52:56.997Z"
   },
   {
    "duration": 18,
    "start_time": "2024-05-28T01:58:11.235Z"
   },
   {
    "duration": 24,
    "start_time": "2024-05-28T01:59:59.257Z"
   },
   {
    "duration": 19,
    "start_time": "2024-05-28T02:00:39.086Z"
   },
   {
    "duration": 20,
    "start_time": "2024-05-28T02:00:49.799Z"
   },
   {
    "duration": 17,
    "start_time": "2024-05-28T02:02:58.353Z"
   },
   {
    "duration": 11,
    "start_time": "2024-05-28T02:07:56.882Z"
   },
   {
    "duration": 66,
    "start_time": "2024-05-28T02:08:05.949Z"
   },
   {
    "duration": 18,
    "start_time": "2024-05-28T02:08:11.834Z"
   },
   {
    "duration": 23,
    "start_time": "2024-05-28T02:08:28.151Z"
   },
   {
    "duration": 23,
    "start_time": "2024-05-28T02:09:12.706Z"
   },
   {
    "duration": 29,
    "start_time": "2024-05-28T02:09:22.648Z"
   },
   {
    "duration": 26,
    "start_time": "2024-05-28T02:09:30.045Z"
   },
   {
    "duration": 16,
    "start_time": "2024-05-28T02:09:55.320Z"
   },
   {
    "duration": 30,
    "start_time": "2024-05-28T02:10:11.655Z"
   },
   {
    "duration": 29,
    "start_time": "2024-05-28T02:10:25.194Z"
   },
   {
    "duration": 30,
    "start_time": "2024-05-28T02:10:45.871Z"
   },
   {
    "duration": 32,
    "start_time": "2024-05-28T02:10:57.659Z"
   },
   {
    "duration": 12,
    "start_time": "2024-05-28T02:11:01.672Z"
   },
   {
    "duration": 17,
    "start_time": "2024-05-28T02:11:16.431Z"
   },
   {
    "duration": 65,
    "start_time": "2024-05-28T03:30:51.371Z"
   },
   {
    "duration": 45,
    "start_time": "2024-05-28T03:30:51.440Z"
   },
   {
    "duration": 46,
    "start_time": "2024-05-28T03:30:51.488Z"
   },
   {
    "duration": 23,
    "start_time": "2024-05-28T03:30:51.537Z"
   },
   {
    "duration": 53,
    "start_time": "2024-05-28T03:30:51.567Z"
   },
   {
    "duration": 27,
    "start_time": "2024-05-28T03:30:51.622Z"
   },
   {
    "duration": 17,
    "start_time": "2024-05-28T03:30:51.652Z"
   },
   {
    "duration": 25,
    "start_time": "2024-05-28T03:33:09.324Z"
   },
   {
    "duration": 4170,
    "start_time": "2024-05-28T03:36:50.361Z"
   },
   {
    "duration": 853,
    "start_time": "2024-05-28T03:38:17.370Z"
   },
   {
    "duration": 94,
    "start_time": "2024-05-28T03:38:56.974Z"
   },
   {
    "duration": 97,
    "start_time": "2024-05-28T03:39:57.106Z"
   },
   {
    "duration": 98,
    "start_time": "2024-05-28T03:40:08.053Z"
   },
   {
    "duration": 52,
    "start_time": "2024-05-28T03:40:15.959Z"
   },
   {
    "duration": 51,
    "start_time": "2024-05-28T03:40:16.014Z"
   },
   {
    "duration": 47,
    "start_time": "2024-05-28T03:40:16.068Z"
   },
   {
    "duration": 35,
    "start_time": "2024-05-28T03:40:16.125Z"
   },
   {
    "duration": 24,
    "start_time": "2024-05-28T03:40:16.163Z"
   },
   {
    "duration": 46,
    "start_time": "2024-05-28T03:40:16.190Z"
   },
   {
    "duration": 36,
    "start_time": "2024-05-28T03:40:16.239Z"
   },
   {
    "duration": 1307,
    "start_time": "2024-05-28T03:40:28.043Z"
   },
   {
    "duration": 66,
    "start_time": "2024-05-28T03:42:28.790Z"
   },
   {
    "duration": 53,
    "start_time": "2024-05-28T03:42:28.860Z"
   },
   {
    "duration": 31,
    "start_time": "2024-05-28T03:42:28.926Z"
   },
   {
    "duration": 27,
    "start_time": "2024-05-28T03:42:28.962Z"
   },
   {
    "duration": 33,
    "start_time": "2024-05-28T03:42:29.012Z"
   },
   {
    "duration": 18,
    "start_time": "2024-05-28T03:42:29.048Z"
   },
   {
    "duration": 385,
    "start_time": "2024-05-28T03:42:29.069Z"
   },
   {
    "duration": 26,
    "start_time": "2024-05-28T03:43:10.983Z"
   },
   {
    "duration": 850,
    "start_time": "2024-05-28T03:43:34.440Z"
   },
   {
    "duration": 73,
    "start_time": "2024-05-28T03:43:35.293Z"
   },
   {
    "duration": 18,
    "start_time": "2024-05-28T03:43:35.371Z"
   },
   {
    "duration": 57,
    "start_time": "2024-05-28T03:43:35.392Z"
   },
   {
    "duration": 25,
    "start_time": "2024-05-28T03:43:35.452Z"
   },
   {
    "duration": 52,
    "start_time": "2024-05-28T03:43:35.480Z"
   },
   {
    "duration": 1624,
    "start_time": "2024-05-28T03:43:35.536Z"
   },
   {
    "duration": 18,
    "start_time": "2024-05-28T03:44:40.498Z"
   },
   {
    "duration": 805,
    "start_time": "2024-05-28T03:44:57.545Z"
   },
   {
    "duration": 45,
    "start_time": "2024-05-28T03:44:58.354Z"
   },
   {
    "duration": 33,
    "start_time": "2024-05-28T03:44:58.403Z"
   },
   {
    "duration": 23,
    "start_time": "2024-05-28T03:44:58.440Z"
   },
   {
    "duration": 74,
    "start_time": "2024-05-28T03:44:58.466Z"
   },
   {
    "duration": 19,
    "start_time": "2024-05-28T03:44:58.544Z"
   },
   {
    "duration": 894,
    "start_time": "2024-05-28T03:44:58.566Z"
   },
   {
    "duration": 1034,
    "start_time": "2024-05-28T03:46:53.708Z"
   },
   {
    "duration": 975,
    "start_time": "2024-05-28T03:47:07.758Z"
   },
   {
    "duration": 30,
    "start_time": "2024-05-28T03:50:05.589Z"
   },
   {
    "duration": 62,
    "start_time": "2024-05-28T03:51:56.877Z"
   },
   {
    "duration": 80,
    "start_time": "2024-05-28T03:51:56.943Z"
   },
   {
    "duration": 24,
    "start_time": "2024-05-28T03:51:57.026Z"
   },
   {
    "duration": 25,
    "start_time": "2024-05-28T03:51:57.059Z"
   },
   {
    "duration": 25,
    "start_time": "2024-05-28T03:51:57.113Z"
   },
   {
    "duration": 21,
    "start_time": "2024-05-28T03:51:57.142Z"
   },
   {
    "duration": 997,
    "start_time": "2024-05-28T03:51:57.169Z"
   },
   {
    "duration": 826,
    "start_time": "2024-05-28T03:54:57.433Z"
   },
   {
    "duration": 59,
    "start_time": "2024-05-28T03:54:58.264Z"
   },
   {
    "duration": 21,
    "start_time": "2024-05-28T03:54:58.326Z"
   },
   {
    "duration": 25,
    "start_time": "2024-05-28T03:54:58.352Z"
   },
   {
    "duration": 26,
    "start_time": "2024-05-28T03:54:58.417Z"
   },
   {
    "duration": 19,
    "start_time": "2024-05-28T03:54:58.446Z"
   },
   {
    "duration": 2397,
    "start_time": "2024-05-28T03:54:58.469Z"
   },
   {
    "duration": 23,
    "start_time": "2024-05-28T03:59:06.061Z"
   },
   {
    "duration": 30,
    "start_time": "2024-05-28T03:59:44.718Z"
   },
   {
    "duration": 13,
    "start_time": "2024-05-28T03:59:52.043Z"
   },
   {
    "duration": 22,
    "start_time": "2024-05-28T04:00:35.307Z"
   },
   {
    "duration": 19,
    "start_time": "2024-05-28T04:00:51.119Z"
   },
   {
    "duration": 21,
    "start_time": "2024-05-28T04:00:57.121Z"
   },
   {
    "duration": 22,
    "start_time": "2024-05-28T04:01:11.986Z"
   },
   {
    "duration": 156,
    "start_time": "2024-05-28T04:01:19.229Z"
   },
   {
    "duration": 31,
    "start_time": "2024-05-28T04:01:28.474Z"
   },
   {
    "duration": 27,
    "start_time": "2024-05-28T04:01:33.426Z"
   },
   {
    "duration": 28,
    "start_time": "2024-05-28T04:01:39.314Z"
   },
   {
    "duration": 10,
    "start_time": "2024-05-28T04:07:47.834Z"
   },
   {
    "duration": 285,
    "start_time": "2024-05-28T04:08:00.694Z"
   },
   {
    "duration": 15,
    "start_time": "2024-05-28T04:08:30.203Z"
   },
   {
    "duration": 17,
    "start_time": "2024-05-28T04:08:49.555Z"
   },
   {
    "duration": 18,
    "start_time": "2024-05-28T04:09:46.328Z"
   },
   {
    "duration": 24,
    "start_time": "2024-05-28T04:10:18.958Z"
   },
   {
    "duration": 14,
    "start_time": "2024-05-28T04:10:34.967Z"
   },
   {
    "duration": 27,
    "start_time": "2024-05-28T04:10:41.022Z"
   },
   {
    "duration": 28,
    "start_time": "2024-05-28T04:11:44.791Z"
   },
   {
    "duration": 28,
    "start_time": "2024-05-28T04:11:59.574Z"
   },
   {
    "duration": 23,
    "start_time": "2024-05-28T04:13:15.669Z"
   },
   {
    "duration": 524,
    "start_time": "2024-05-28T04:14:39.413Z"
   },
   {
    "duration": 33,
    "start_time": "2024-05-28T04:14:53.868Z"
   },
   {
    "duration": 44,
    "start_time": "2024-05-28T04:15:05.344Z"
   },
   {
    "duration": 19,
    "start_time": "2024-05-28T04:16:36.783Z"
   },
   {
    "duration": 8,
    "start_time": "2024-05-28T04:16:42.558Z"
   },
   {
    "duration": 24,
    "start_time": "2024-05-28T04:16:46.870Z"
   },
   {
    "duration": 33,
    "start_time": "2024-05-28T04:17:02.221Z"
   },
   {
    "duration": 27,
    "start_time": "2024-05-28T04:17:57.281Z"
   },
   {
    "duration": 34,
    "start_time": "2024-05-28T04:18:13.582Z"
   },
   {
    "duration": 47,
    "start_time": "2024-05-28T04:18:25.032Z"
   },
   {
    "duration": 45,
    "start_time": "2024-05-28T04:18:44.907Z"
   },
   {
    "duration": 20,
    "start_time": "2024-05-28T04:19:16.286Z"
   },
   {
    "duration": 44,
    "start_time": "2024-05-28T04:20:19.138Z"
   },
   {
    "duration": 63,
    "start_time": "2024-05-28T04:20:22.919Z"
   },
   {
    "duration": 49,
    "start_time": "2024-05-28T04:20:28.108Z"
   },
   {
    "duration": 18,
    "start_time": "2024-05-28T04:21:10.906Z"
   },
   {
    "duration": 21,
    "start_time": "2024-05-28T04:21:17.262Z"
   },
   {
    "duration": 20,
    "start_time": "2024-05-28T04:21:18.459Z"
   },
   {
    "duration": 18,
    "start_time": "2024-05-28T04:21:22.808Z"
   },
   {
    "duration": 23,
    "start_time": "2024-05-28T04:21:26.970Z"
   },
   {
    "duration": 32,
    "start_time": "2024-05-28T04:21:39.574Z"
   },
   {
    "duration": 32,
    "start_time": "2024-05-28T04:21:54.811Z"
   },
   {
    "duration": 36,
    "start_time": "2024-05-28T04:22:03.228Z"
   },
   {
    "duration": 35,
    "start_time": "2024-05-28T04:33:39.048Z"
   },
   {
    "duration": 39,
    "start_time": "2024-05-28T04:34:26.814Z"
   },
   {
    "duration": 22,
    "start_time": "2024-05-28T04:34:35.285Z"
   },
   {
    "duration": 31,
    "start_time": "2024-05-28T04:35:09.563Z"
   },
   {
    "duration": 914,
    "start_time": "2024-05-28T04:36:15.948Z"
   },
   {
    "duration": 19,
    "start_time": "2024-05-28T04:37:19.111Z"
   },
   {
    "duration": 22,
    "start_time": "2024-05-28T04:37:24.640Z"
   },
   {
    "duration": 266,
    "start_time": "2024-05-28T04:38:07.670Z"
   },
   {
    "duration": 263,
    "start_time": "2024-05-28T04:38:18.216Z"
   },
   {
    "duration": 265,
    "start_time": "2024-05-28T04:38:23.346Z"
   },
   {
    "duration": 9,
    "start_time": "2024-05-28T04:38:28.613Z"
   },
   {
    "duration": 7,
    "start_time": "2024-05-28T04:38:38.629Z"
   },
   {
    "duration": 39,
    "start_time": "2024-05-28T04:38:43.926Z"
   },
   {
    "duration": 37,
    "start_time": "2024-05-28T04:39:37.773Z"
   },
   {
    "duration": 29,
    "start_time": "2024-05-28T04:39:49.626Z"
   },
   {
    "duration": 25,
    "start_time": "2024-05-28T04:40:24.954Z"
   },
   {
    "duration": 27,
    "start_time": "2024-05-28T04:40:46.170Z"
   },
   {
    "duration": 31,
    "start_time": "2024-05-28T04:41:23.872Z"
   },
   {
    "duration": 28,
    "start_time": "2024-05-28T04:42:00.733Z"
   },
   {
    "duration": 35,
    "start_time": "2024-05-28T04:42:15.766Z"
   },
   {
    "duration": 25,
    "start_time": "2024-05-28T04:42:36.963Z"
   },
   {
    "duration": 27,
    "start_time": "2024-05-28T04:42:46.532Z"
   },
   {
    "duration": 33,
    "start_time": "2024-05-28T04:42:54.230Z"
   },
   {
    "duration": 291,
    "start_time": "2024-05-28T04:43:26.969Z"
   },
   {
    "duration": 8,
    "start_time": "2024-05-28T04:44:19.196Z"
   },
   {
    "duration": 50,
    "start_time": "2024-05-28T04:44:34.722Z"
   },
   {
    "duration": 31,
    "start_time": "2024-05-28T04:44:42.454Z"
   },
   {
    "duration": 32,
    "start_time": "2024-05-28T04:45:07.909Z"
   },
   {
    "duration": 21,
    "start_time": "2024-05-28T04:45:21.504Z"
   },
   {
    "duration": 39,
    "start_time": "2024-05-28T04:46:24.626Z"
   },
   {
    "duration": 34,
    "start_time": "2024-05-28T04:46:43.228Z"
   },
   {
    "duration": 46,
    "start_time": "2024-05-28T04:47:23.813Z"
   },
   {
    "duration": 34,
    "start_time": "2024-05-28T04:47:41.471Z"
   },
   {
    "duration": 30,
    "start_time": "2024-05-28T04:47:47.208Z"
   },
   {
    "duration": 8,
    "start_time": "2024-05-28T04:47:56.500Z"
   },
   {
    "duration": 34,
    "start_time": "2024-05-28T04:48:00.071Z"
   },
   {
    "duration": 54,
    "start_time": "2024-05-28T04:48:07.998Z"
   },
   {
    "duration": 33,
    "start_time": "2024-05-28T04:48:13.859Z"
   },
   {
    "duration": 34,
    "start_time": "2024-05-28T04:48:22.265Z"
   },
   {
    "duration": 35,
    "start_time": "2024-05-28T04:48:26.510Z"
   },
   {
    "duration": 4298,
    "start_time": "2024-05-28T14:38:45.267Z"
   },
   {
    "duration": 59,
    "start_time": "2024-05-28T14:38:49.570Z"
   },
   {
    "duration": 18,
    "start_time": "2024-05-28T14:38:49.632Z"
   },
   {
    "duration": 22,
    "start_time": "2024-05-28T14:38:49.652Z"
   },
   {
    "duration": 22,
    "start_time": "2024-05-28T14:38:49.711Z"
   },
   {
    "duration": 19,
    "start_time": "2024-05-28T14:38:49.737Z"
   },
   {
    "duration": 70,
    "start_time": "2024-05-28T14:38:49.758Z"
   },
   {
    "duration": 38,
    "start_time": "2024-05-28T14:38:50.406Z"
   },
   {
    "duration": 39,
    "start_time": "2024-05-28T14:39:36.264Z"
   },
   {
    "duration": 40,
    "start_time": "2024-05-28T14:40:20.714Z"
   },
   {
    "duration": 39,
    "start_time": "2024-05-28T14:40:40.045Z"
   },
   {
    "duration": 48,
    "start_time": "2024-05-28T14:40:49.829Z"
   },
   {
    "duration": 2427,
    "start_time": "2024-05-28T16:19:52.511Z"
   },
   {
    "duration": 4841,
    "start_time": "2024-05-28T16:20:38.289Z"
   },
   {
    "duration": 3646,
    "start_time": "2024-05-28T16:21:49.923Z"
   },
   {
    "duration": 1858,
    "start_time": "2024-05-28T16:23:09.815Z"
   },
   {
    "duration": 822,
    "start_time": "2024-05-28T16:23:58.715Z"
   },
   {
    "duration": 45,
    "start_time": "2024-05-28T16:23:59.541Z"
   },
   {
    "duration": 39,
    "start_time": "2024-05-28T16:23:59.589Z"
   },
   {
    "duration": 23,
    "start_time": "2024-05-28T16:23:59.630Z"
   },
   {
    "duration": 57,
    "start_time": "2024-05-28T16:23:59.657Z"
   },
   {
    "duration": 19,
    "start_time": "2024-05-28T16:23:59.717Z"
   },
   {
    "duration": 76,
    "start_time": "2024-05-28T16:23:59.739Z"
   },
   {
    "duration": 1928,
    "start_time": "2024-05-28T16:23:59.817Z"
   },
   {
    "duration": 35,
    "start_time": "2024-05-28T16:53:05.100Z"
   },
   {
    "duration": 1909,
    "start_time": "2024-05-28T16:53:28.638Z"
   },
   {
    "duration": 328,
    "start_time": "2024-05-28T19:46:36.181Z"
   },
   {
    "duration": 28,
    "start_time": "2024-05-28T19:46:41.274Z"
   },
   {
    "duration": 4580,
    "start_time": "2024-05-28T19:46:49.006Z"
   },
   {
    "duration": 53,
    "start_time": "2024-05-28T19:46:53.590Z"
   },
   {
    "duration": 21,
    "start_time": "2024-05-28T19:46:53.647Z"
   },
   {
    "duration": 50,
    "start_time": "2024-05-28T19:46:53.672Z"
   },
   {
    "duration": 24,
    "start_time": "2024-05-28T19:46:53.725Z"
   },
   {
    "duration": 19,
    "start_time": "2024-05-28T19:46:53.752Z"
   },
   {
    "duration": 69,
    "start_time": "2024-05-28T19:46:53.774Z"
   },
   {
    "duration": 2022,
    "start_time": "2024-05-28T19:46:53.847Z"
   },
   {
    "duration": 2797,
    "start_time": "2024-05-28T19:47:11.016Z"
   },
   {
    "duration": 1938,
    "start_time": "2024-05-28T19:47:24.015Z"
   },
   {
    "duration": 1902,
    "start_time": "2024-05-28T19:47:46.567Z"
   },
   {
    "duration": 1857,
    "start_time": "2024-05-28T19:47:58.761Z"
   },
   {
    "duration": 30,
    "start_time": "2024-05-28T20:07:24.680Z"
   },
   {
    "duration": 468,
    "start_time": "2024-05-28T20:13:25.424Z"
   },
   {
    "duration": 67,
    "start_time": "2024-05-28T20:13:27.820Z"
   },
   {
    "duration": 1319,
    "start_time": "2024-05-28T20:19:11.511Z"
   },
   {
    "duration": 70,
    "start_time": "2024-05-28T20:19:52.336Z"
   },
   {
    "duration": 138,
    "start_time": "2024-05-28T20:20:45.505Z"
   },
   {
    "duration": 1987,
    "start_time": "2024-05-28T20:21:10.696Z"
   },
   {
    "duration": 1942,
    "start_time": "2024-05-28T20:21:28.489Z"
   },
   {
    "duration": 151,
    "start_time": "2024-05-28T20:22:07.230Z"
   },
   {
    "duration": 772,
    "start_time": "2024-05-28T20:22:18.046Z"
   },
   {
    "duration": 46,
    "start_time": "2024-05-28T20:22:18.823Z"
   },
   {
    "duration": 44,
    "start_time": "2024-05-28T20:22:18.873Z"
   },
   {
    "duration": 25,
    "start_time": "2024-05-28T20:22:18.921Z"
   },
   {
    "duration": 27,
    "start_time": "2024-05-28T20:22:18.950Z"
   },
   {
    "duration": 21,
    "start_time": "2024-05-28T20:22:19.013Z"
   },
   {
    "duration": 30,
    "start_time": "2024-05-28T20:22:19.037Z"
   },
   {
    "duration": 1645,
    "start_time": "2024-05-28T20:22:19.071Z"
   },
   {
    "duration": 2017,
    "start_time": "2024-05-28T20:22:28.940Z"
   },
   {
    "duration": 30,
    "start_time": "2024-05-28T20:32:03.050Z"
   },
   {
    "duration": 31,
    "start_time": "2024-05-28T20:32:12.610Z"
   },
   {
    "duration": 67,
    "start_time": "2024-05-28T20:37:44.067Z"
   },
   {
    "duration": 33,
    "start_time": "2024-05-28T21:22:01.237Z"
   },
   {
    "duration": 673,
    "start_time": "2024-05-28T21:22:38.858Z"
   },
   {
    "duration": 708,
    "start_time": "2024-05-28T21:24:10.608Z"
   },
   {
    "duration": 850,
    "start_time": "2024-05-28T21:24:20.539Z"
   },
   {
    "duration": 715,
    "start_time": "2024-05-28T21:27:58.191Z"
   },
   {
    "duration": 678,
    "start_time": "2024-05-28T21:28:06.023Z"
   },
   {
    "duration": 790,
    "start_time": "2024-05-28T21:28:15.291Z"
   },
   {
    "duration": 662,
    "start_time": "2024-05-28T21:28:27.166Z"
   },
   {
    "duration": 700,
    "start_time": "2024-05-28T21:28:48.392Z"
   },
   {
    "duration": 851,
    "start_time": "2024-05-28T21:29:03.646Z"
   },
   {
    "duration": 679,
    "start_time": "2024-05-28T21:29:19.594Z"
   },
   {
    "duration": 788,
    "start_time": "2024-05-29T10:55:16.562Z"
   },
   {
    "duration": 704,
    "start_time": "2024-05-29T10:55:33.652Z"
   },
   {
    "duration": 679,
    "start_time": "2024-05-29T10:55:52.036Z"
   },
   {
    "duration": 801,
    "start_time": "2024-05-29T10:56:54.967Z"
   },
   {
    "duration": 591,
    "start_time": "2024-05-29T10:57:15.527Z"
   },
   {
    "duration": 696,
    "start_time": "2024-05-29T10:57:26.177Z"
   },
   {
    "duration": 810,
    "start_time": "2024-05-29T10:57:40.081Z"
   },
   {
    "duration": 697,
    "start_time": "2024-05-29T10:57:53.038Z"
   },
   {
    "duration": 11,
    "start_time": "2024-05-29T11:07:59.326Z"
   },
   {
    "duration": 24,
    "start_time": "2024-05-29T11:08:56.590Z"
   },
   {
    "duration": 119,
    "start_time": "2024-05-29T11:09:07.987Z"
   },
   {
    "duration": 31,
    "start_time": "2024-05-29T11:09:22.852Z"
   },
   {
    "duration": 702,
    "start_time": "2024-05-29T11:10:12.337Z"
   },
   {
    "duration": 35,
    "start_time": "2024-05-29T11:10:19.379Z"
   },
   {
    "duration": 36,
    "start_time": "2024-05-29T11:10:51.773Z"
   },
   {
    "duration": 39,
    "start_time": "2024-05-29T11:11:57.941Z"
   },
   {
    "duration": 41,
    "start_time": "2024-05-29T11:12:30.939Z"
   },
   {
    "duration": 27,
    "start_time": "2024-05-29T11:12:59.856Z"
   },
   {
    "duration": 30,
    "start_time": "2024-05-29T11:13:23.619Z"
   },
   {
    "duration": 31,
    "start_time": "2024-05-29T11:14:04.560Z"
   },
   {
    "duration": 26,
    "start_time": "2024-05-29T11:14:37.427Z"
   },
   {
    "duration": 29,
    "start_time": "2024-05-29T11:15:00.355Z"
   },
   {
    "duration": 26,
    "start_time": "2024-05-29T11:15:18.869Z"
   },
   {
    "duration": 27,
    "start_time": "2024-05-29T11:15:44.205Z"
   },
   {
    "duration": 22,
    "start_time": "2024-05-29T11:15:59.252Z"
   },
   {
    "duration": 23,
    "start_time": "2024-05-29T11:16:14.437Z"
   },
   {
    "duration": 24,
    "start_time": "2024-05-29T11:16:36.525Z"
   },
   {
    "duration": 27,
    "start_time": "2024-05-29T11:31:04.104Z"
   },
   {
    "duration": 24,
    "start_time": "2024-05-29T11:31:28.889Z"
   },
   {
    "duration": 26,
    "start_time": "2024-05-29T11:33:38.717Z"
   },
   {
    "duration": 5,
    "start_time": "2024-05-29T11:34:28.161Z"
   },
   {
    "duration": 20,
    "start_time": "2024-05-29T11:34:37.067Z"
   },
   {
    "duration": 20,
    "start_time": "2024-05-29T11:34:49.945Z"
   },
   {
    "duration": 35,
    "start_time": "2024-05-29T11:35:00.651Z"
   },
   {
    "duration": 21,
    "start_time": "2024-05-29T11:35:09.976Z"
   },
   {
    "duration": 22,
    "start_time": "2024-05-29T11:35:24.124Z"
   },
   {
    "duration": 21,
    "start_time": "2024-05-29T11:35:28.622Z"
   },
   {
    "duration": 26,
    "start_time": "2024-05-29T11:35:39.255Z"
   },
   {
    "duration": 32,
    "start_time": "2024-05-29T11:38:20.617Z"
   },
   {
    "duration": 27,
    "start_time": "2024-05-29T11:38:36.819Z"
   },
   {
    "duration": 773,
    "start_time": "2024-05-29T11:39:16.067Z"
   },
   {
    "duration": 14,
    "start_time": "2024-05-29T11:39:37.977Z"
   },
   {
    "duration": 25,
    "start_time": "2024-05-29T11:39:50.050Z"
   },
   {
    "duration": 26,
    "start_time": "2024-05-29T11:40:17.787Z"
   },
   {
    "duration": 68,
    "start_time": "2024-05-29T11:41:21.306Z"
   },
   {
    "duration": 19,
    "start_time": "2024-05-29T11:41:51.658Z"
   },
   {
    "duration": 66,
    "start_time": "2024-05-29T11:42:14.774Z"
   },
   {
    "duration": 16,
    "start_time": "2024-05-29T11:43:32.811Z"
   },
   {
    "duration": 205,
    "start_time": "2024-05-29T11:43:47.770Z"
   },
   {
    "duration": 18,
    "start_time": "2024-05-29T11:44:00.363Z"
   },
   {
    "duration": 67,
    "start_time": "2024-05-29T11:44:09.375Z"
   },
   {
    "duration": 1967,
    "start_time": "2024-05-29T11:44:21.282Z"
   },
   {
    "duration": 32,
    "start_time": "2024-05-29T11:54:21.042Z"
   },
   {
    "duration": 1964,
    "start_time": "2024-05-29T11:56:31.118Z"
   },
   {
    "duration": 22,
    "start_time": "2024-05-29T12:15:03.381Z"
   },
   {
    "duration": 906,
    "start_time": "2024-05-29T12:17:03.425Z"
   },
   {
    "duration": 25,
    "start_time": "2024-05-29T12:20:31.179Z"
   },
   {
    "duration": 317,
    "start_time": "2024-05-30T10:44:37.577Z"
   },
   {
    "duration": 4434,
    "start_time": "2024-05-30T10:44:52.649Z"
   },
   {
    "duration": 52,
    "start_time": "2024-05-30T10:44:57.090Z"
   },
   {
    "duration": 18,
    "start_time": "2024-05-30T10:44:57.146Z"
   },
   {
    "duration": 55,
    "start_time": "2024-05-30T10:44:57.169Z"
   },
   {
    "duration": 26,
    "start_time": "2024-05-30T10:44:57.227Z"
   },
   {
    "duration": 21,
    "start_time": "2024-05-30T10:44:57.256Z"
   },
   {
    "duration": 72,
    "start_time": "2024-05-30T10:44:57.280Z"
   },
   {
    "duration": 2043,
    "start_time": "2024-05-30T10:44:57.356Z"
   },
   {
    "duration": 70,
    "start_time": "2024-05-30T10:44:59.402Z"
   },
   {
    "duration": 749,
    "start_time": "2024-05-30T10:44:59.477Z"
   },
   {
    "duration": 25,
    "start_time": "2024-05-30T10:45:00.229Z"
   },
   {
    "duration": 2496,
    "start_time": "2024-05-30T10:45:00.257Z"
   },
   {
    "duration": 35,
    "start_time": "2024-05-30T10:46:53.745Z"
   },
   {
    "duration": 24,
    "start_time": "2024-05-30T10:47:00.808Z"
   },
   {
    "duration": 28,
    "start_time": "2024-05-30T10:48:48.201Z"
   },
   {
    "duration": 25,
    "start_time": "2024-05-30T10:49:04.413Z"
   },
   {
    "duration": 31,
    "start_time": "2024-05-30T10:49:53.470Z"
   },
   {
    "duration": 1288,
    "start_time": "2024-05-30T10:51:40.874Z"
   },
   {
    "duration": 30,
    "start_time": "2024-05-30T10:54:27.937Z"
   },
   {
    "duration": 36,
    "start_time": "2024-05-30T10:54:43.451Z"
   },
   {
    "duration": 42,
    "start_time": "2024-05-30T10:55:30.487Z"
   },
   {
    "duration": 382,
    "start_time": "2024-05-30T10:59:26.669Z"
   },
   {
    "duration": 28,
    "start_time": "2024-05-30T10:59:40.822Z"
   },
   {
    "duration": 26,
    "start_time": "2024-05-30T11:00:33.536Z"
   },
   {
    "duration": 27,
    "start_time": "2024-05-30T11:03:37.391Z"
   },
   {
    "duration": 120,
    "start_time": "2024-05-30T11:04:28.070Z"
   },
   {
    "duration": 26,
    "start_time": "2024-05-30T11:05:49.104Z"
   },
   {
    "duration": 177,
    "start_time": "2024-05-30T11:06:17.756Z"
   },
   {
    "duration": 24,
    "start_time": "2024-05-30T11:07:46.166Z"
   },
   {
    "duration": 28,
    "start_time": "2024-05-30T11:07:58.334Z"
   },
   {
    "duration": 525,
    "start_time": "2024-05-30T11:08:08.260Z"
   },
   {
    "duration": 4496,
    "start_time": "2024-05-31T00:09:31.664Z"
   },
   {
    "duration": 44,
    "start_time": "2024-05-31T00:09:36.165Z"
   },
   {
    "duration": 21,
    "start_time": "2024-05-31T00:09:36.213Z"
   },
   {
    "duration": 58,
    "start_time": "2024-05-31T00:09:36.238Z"
   },
   {
    "duration": 25,
    "start_time": "2024-05-31T00:09:36.300Z"
   },
   {
    "duration": 20,
    "start_time": "2024-05-31T00:09:36.328Z"
   },
   {
    "duration": 70,
    "start_time": "2024-05-31T00:09:36.351Z"
   },
   {
    "duration": 2011,
    "start_time": "2024-05-31T00:09:36.424Z"
   },
   {
    "duration": 82,
    "start_time": "2024-05-31T00:09:38.438Z"
   },
   {
    "duration": 723,
    "start_time": "2024-05-31T00:09:38.525Z"
   },
   {
    "duration": 51,
    "start_time": "2024-05-31T00:09:39.251Z"
   },
   {
    "duration": 529,
    "start_time": "2024-05-31T00:09:39.305Z"
   },
   {
    "duration": 307,
    "start_time": "2024-05-31T04:54:20.035Z"
   },
   {
    "duration": 31,
    "start_time": "2024-05-31T04:57:34.029Z"
   },
   {
    "duration": 4331,
    "start_time": "2024-05-31T04:57:41.014Z"
   },
   {
    "duration": 61,
    "start_time": "2024-05-31T04:57:45.349Z"
   },
   {
    "duration": 17,
    "start_time": "2024-05-31T04:57:45.413Z"
   },
   {
    "duration": 22,
    "start_time": "2024-05-31T04:57:45.434Z"
   },
   {
    "duration": 66,
    "start_time": "2024-05-31T04:57:45.458Z"
   },
   {
    "duration": 18,
    "start_time": "2024-05-31T04:57:45.527Z"
   },
   {
    "duration": 59,
    "start_time": "2024-05-31T04:57:45.548Z"
   },
   {
    "duration": 1960,
    "start_time": "2024-05-31T04:57:45.611Z"
   },
   {
    "duration": 69,
    "start_time": "2024-05-31T04:57:47.574Z"
   },
   {
    "duration": 726,
    "start_time": "2024-05-31T04:57:47.649Z"
   },
   {
    "duration": 41,
    "start_time": "2024-05-31T04:57:48.378Z"
   },
   {
    "duration": 627,
    "start_time": "2024-05-31T04:57:48.423Z"
   },
   {
    "duration": 18,
    "start_time": "2024-05-31T04:57:49.053Z"
   },
   {
    "duration": 30,
    "start_time": "2024-05-31T05:11:21.791Z"
   },
   {
    "duration": 15,
    "start_time": "2024-05-31T05:11:55.236Z"
   },
   {
    "duration": 75,
    "start_time": "2024-05-31T05:12:06.711Z"
   },
   {
    "duration": 16,
    "start_time": "2024-05-31T05:12:17.253Z"
   },
   {
    "duration": 7,
    "start_time": "2024-05-31T05:16:48.341Z"
   },
   {
    "duration": 5,
    "start_time": "2024-05-31T05:16:58.373Z"
   },
   {
    "duration": 1610,
    "start_time": "2024-05-31T05:17:11.377Z"
   },
   {
    "duration": 5,
    "start_time": "2024-05-31T05:17:26.022Z"
   },
   {
    "duration": 23,
    "start_time": "2024-05-31T05:22:28.089Z"
   },
   {
    "duration": 22,
    "start_time": "2024-05-31T05:24:40.811Z"
   },
   {
    "duration": 34,
    "start_time": "2024-05-31T05:24:57.457Z"
   },
   {
    "duration": 24,
    "start_time": "2024-05-31T05:25:38.651Z"
   },
   {
    "duration": 24,
    "start_time": "2024-05-31T05:25:51.828Z"
   },
   {
    "duration": 23,
    "start_time": "2024-05-31T05:26:19.763Z"
   },
   {
    "duration": 46,
    "start_time": "2024-05-31T05:26:53.245Z"
   },
   {
    "duration": 8,
    "start_time": "2024-05-31T05:27:28.774Z"
   },
   {
    "duration": 5,
    "start_time": "2024-05-31T05:27:37.732Z"
   },
   {
    "duration": 30,
    "start_time": "2024-05-31T05:27:50.967Z"
   },
   {
    "duration": 31,
    "start_time": "2024-05-31T05:28:56.677Z"
   },
   {
    "duration": 29,
    "start_time": "2024-05-31T05:30:16.517Z"
   },
   {
    "duration": 16,
    "start_time": "2024-05-31T05:30:53.216Z"
   },
   {
    "duration": 12,
    "start_time": "2024-05-31T05:31:22.486Z"
   },
   {
    "duration": 14,
    "start_time": "2024-05-31T05:31:27.295Z"
   },
   {
    "duration": 761,
    "start_time": "2024-05-31T05:41:42.142Z"
   },
   {
    "duration": 45,
    "start_time": "2024-05-31T05:41:42.906Z"
   },
   {
    "duration": 19,
    "start_time": "2024-05-31T05:41:42.953Z"
   },
   {
    "duration": 50,
    "start_time": "2024-05-31T05:41:42.976Z"
   },
   {
    "duration": 22,
    "start_time": "2024-05-31T05:41:43.029Z"
   },
   {
    "duration": 17,
    "start_time": "2024-05-31T05:41:43.055Z"
   },
   {
    "duration": 30,
    "start_time": "2024-05-31T05:41:43.110Z"
   },
   {
    "duration": 1907,
    "start_time": "2024-05-31T05:41:43.143Z"
   },
   {
    "duration": 67,
    "start_time": "2024-05-31T05:41:45.054Z"
   },
   {
    "duration": 782,
    "start_time": "2024-05-31T05:41:45.126Z"
   },
   {
    "duration": 26,
    "start_time": "2024-05-31T05:41:45.912Z"
   },
   {
    "duration": 506,
    "start_time": "2024-05-31T05:41:45.942Z"
   },
   {
    "duration": 8,
    "start_time": "2024-05-31T05:41:46.451Z"
   },
   {
    "duration": 20,
    "start_time": "2024-05-31T05:42:24.412Z"
   },
   {
    "duration": 23,
    "start_time": "2024-05-31T05:42:33.985Z"
   },
   {
    "duration": 4475,
    "start_time": "2024-06-01T03:46:11.840Z"
   },
   {
    "duration": 45,
    "start_time": "2024-06-01T03:46:16.320Z"
   },
   {
    "duration": 17,
    "start_time": "2024-06-01T03:46:16.368Z"
   },
   {
    "duration": 46,
    "start_time": "2024-06-01T03:46:16.390Z"
   },
   {
    "duration": 23,
    "start_time": "2024-06-01T03:46:16.439Z"
   },
   {
    "duration": 19,
    "start_time": "2024-06-01T03:46:16.465Z"
   },
   {
    "duration": 67,
    "start_time": "2024-06-01T03:46:16.486Z"
   },
   {
    "duration": 1957,
    "start_time": "2024-06-01T03:46:16.557Z"
   },
   {
    "duration": 69,
    "start_time": "2024-06-01T03:46:18.517Z"
   },
   {
    "duration": 709,
    "start_time": "2024-06-01T03:46:18.592Z"
   },
   {
    "duration": 34,
    "start_time": "2024-06-01T03:46:19.304Z"
   },
   {
    "duration": 531,
    "start_time": "2024-06-01T03:46:19.341Z"
   },
   {
    "duration": 24,
    "start_time": "2024-06-01T03:46:19.875Z"
   },
   {
    "duration": 61,
    "start_time": "2024-06-01T04:07:24.396Z"
   },
   {
    "duration": 71,
    "start_time": "2024-06-01T04:07:24.462Z"
   },
   {
    "duration": 18,
    "start_time": "2024-06-01T04:07:24.536Z"
   },
   {
    "duration": 31,
    "start_time": "2024-06-01T04:07:24.560Z"
   },
   {
    "duration": 198,
    "start_time": "2024-06-01T04:07:24.594Z"
   },
   {
    "duration": 46,
    "start_time": "2024-06-01T04:07:24.796Z"
   },
   {
    "duration": 31,
    "start_time": "2024-06-01T04:07:24.846Z"
   },
   {
    "duration": 2085,
    "start_time": "2024-06-01T04:07:24.880Z"
   },
   {
    "duration": 92,
    "start_time": "2024-06-01T04:07:26.968Z"
   },
   {
    "duration": 770,
    "start_time": "2024-06-01T04:07:27.066Z"
   },
   {
    "duration": 31,
    "start_time": "2024-06-01T04:07:27.839Z"
   },
   {
    "duration": 627,
    "start_time": "2024-06-01T04:07:27.874Z"
   },
   {
    "duration": 44,
    "start_time": "2024-06-01T04:07:28.504Z"
   },
   {
    "duration": 723,
    "start_time": "2024-06-01T04:16:18.874Z"
   },
   {
    "duration": 6,
    "start_time": "2024-06-01T04:20:25.161Z"
   },
   {
    "duration": 4,
    "start_time": "2024-06-01T04:22:09.196Z"
   },
   {
    "duration": 30,
    "start_time": "2024-06-01T04:25:52.676Z"
   },
   {
    "duration": 321,
    "start_time": "2024-06-01T04:27:10.571Z"
   },
   {
    "duration": 724,
    "start_time": "2024-06-01T04:39:33.733Z"
   },
   {
    "duration": 3,
    "start_time": "2024-06-01T04:53:19.023Z"
   },
   {
    "duration": 276,
    "start_time": "2024-06-01T04:54:21.731Z"
   },
   {
    "duration": 351,
    "start_time": "2024-06-01T05:00:20.431Z"
   },
   {
    "duration": 19,
    "start_time": "2024-06-01T05:10:24.835Z"
   },
   {
    "duration": 14,
    "start_time": "2024-06-01T05:11:24.953Z"
   },
   {
    "duration": 18,
    "start_time": "2024-06-01T05:11:51.751Z"
   },
   {
    "duration": 15,
    "start_time": "2024-06-01T05:11:59.364Z"
   },
   {
    "duration": 17,
    "start_time": "2024-06-01T05:12:47.039Z"
   },
   {
    "duration": 2274,
    "start_time": "2024-06-01T05:15:44.470Z"
   },
   {
    "duration": 23,
    "start_time": "2024-06-01T05:16:25.187Z"
   },
   {
    "duration": 28,
    "start_time": "2024-06-01T05:16:33.648Z"
   },
   {
    "duration": 27,
    "start_time": "2024-06-01T05:16:58.781Z"
   },
   {
    "duration": 29,
    "start_time": "2024-06-01T05:19:41.743Z"
   },
   {
    "duration": 29,
    "start_time": "2024-06-01T05:24:25.162Z"
   },
   {
    "duration": 32,
    "start_time": "2024-06-01T05:24:26.595Z"
   },
   {
    "duration": 30,
    "start_time": "2024-06-01T05:24:32.157Z"
   },
   {
    "duration": 2159,
    "start_time": "2024-06-01T05:25:13.552Z"
   },
   {
    "duration": 1937,
    "start_time": "2024-06-01T05:25:16.159Z"
   },
   {
    "duration": 8,
    "start_time": "2024-06-01T05:25:19.529Z"
   },
   {
    "duration": 51,
    "start_time": "2024-06-01T05:25:33.383Z"
   },
   {
    "duration": 6,
    "start_time": "2024-06-01T05:25:39.573Z"
   },
   {
    "duration": 26,
    "start_time": "2024-06-01T05:25:43.107Z"
   },
   {
    "duration": 49,
    "start_time": "2024-06-01T05:26:09.094Z"
   },
   {
    "duration": 44,
    "start_time": "2024-06-01T05:27:04.071Z"
   },
   {
    "duration": 651,
    "start_time": "2024-06-01T05:27:47.742Z"
   },
   {
    "duration": 108,
    "start_time": "2024-06-01T05:28:24.146Z"
   },
   {
    "duration": 48,
    "start_time": "2024-06-01T05:28:34.197Z"
   },
   {
    "duration": 53,
    "start_time": "2024-06-01T05:28:41.850Z"
   },
   {
    "duration": 127,
    "start_time": "2024-06-01T05:28:55.290Z"
   },
   {
    "duration": 101,
    "start_time": "2024-06-01T05:29:05.486Z"
   },
   {
    "duration": 99,
    "start_time": "2024-06-01T05:29:17.595Z"
   },
   {
    "duration": 49,
    "start_time": "2024-06-01T05:29:28.903Z"
   },
   {
    "duration": 109,
    "start_time": "2024-06-01T05:29:53.562Z"
   },
   {
    "duration": 50,
    "start_time": "2024-06-01T05:30:02.988Z"
   },
   {
    "duration": 35,
    "start_time": "2024-06-01T05:30:39.379Z"
   },
   {
    "duration": 33,
    "start_time": "2024-06-01T05:30:55.168Z"
   },
   {
    "duration": 67,
    "start_time": "2024-06-01T05:31:32.221Z"
   },
   {
    "duration": 679,
    "start_time": "2024-06-01T05:32:23.956Z"
   },
   {
    "duration": 126,
    "start_time": "2024-06-01T05:32:38.355Z"
   },
   {
    "duration": 105,
    "start_time": "2024-06-01T05:32:50.801Z"
   },
   {
    "duration": 47,
    "start_time": "2024-06-01T05:32:57.899Z"
   },
   {
    "duration": 221,
    "start_time": "2024-06-01T05:38:12.948Z"
   },
   {
    "duration": 319,
    "start_time": "2024-06-01T05:39:20.505Z"
   },
   {
    "duration": 433,
    "start_time": "2024-06-01T05:40:08.648Z"
   },
   {
    "duration": 388,
    "start_time": "2024-06-01T05:40:55.197Z"
   },
   {
    "duration": 211,
    "start_time": "2024-06-01T05:41:21.431Z"
   },
   {
    "duration": 385,
    "start_time": "2024-06-01T05:41:59.875Z"
   },
   {
    "duration": 322,
    "start_time": "2024-06-01T05:43:05.263Z"
   },
   {
    "duration": 326,
    "start_time": "2024-06-01T05:43:30.033Z"
   },
   {
    "duration": 28,
    "start_time": "2024-06-01T05:46:10.433Z"
   },
   {
    "duration": 179,
    "start_time": "2024-06-01T05:46:19.291Z"
   },
   {
    "duration": 828,
    "start_time": "2024-06-01T05:46:56.123Z"
   },
   {
    "duration": 39,
    "start_time": "2024-06-01T05:47:55.448Z"
   },
   {
    "duration": 387,
    "start_time": "2024-06-01T05:58:29.537Z"
   },
   {
    "duration": 401,
    "start_time": "2024-06-01T05:58:51.192Z"
   },
   {
    "duration": 420,
    "start_time": "2024-06-01T06:00:30.709Z"
   },
   {
    "duration": 409,
    "start_time": "2024-06-01T06:00:39.408Z"
   },
   {
    "duration": 414,
    "start_time": "2024-06-01T06:05:39.590Z"
   },
   {
    "duration": 4,
    "start_time": "2024-06-03T11:45:58.621Z"
   },
   {
    "duration": 3,
    "start_time": "2024-06-03T11:46:00.838Z"
   },
   {
    "duration": 3,
    "start_time": "2024-06-03T11:46:03.469Z"
   },
   {
    "duration": 3,
    "start_time": "2024-06-03T11:46:04.844Z"
   },
   {
    "duration": 3,
    "start_time": "2024-06-03T11:46:06.159Z"
   },
   {
    "duration": 304,
    "start_time": "2024-06-03T11:46:50.595Z"
   },
   {
    "duration": 21,
    "start_time": "2024-06-03T11:46:53.567Z"
   },
   {
    "duration": 4324,
    "start_time": "2024-06-03T11:46:58.686Z"
   },
   {
    "duration": 46,
    "start_time": "2024-06-03T11:47:03.014Z"
   },
   {
    "duration": 18,
    "start_time": "2024-06-03T11:47:03.063Z"
   },
   {
    "duration": 53,
    "start_time": "2024-06-03T11:47:03.085Z"
   },
   {
    "duration": 27,
    "start_time": "2024-06-03T11:47:03.142Z"
   },
   {
    "duration": 19,
    "start_time": "2024-06-03T11:47:03.173Z"
   },
   {
    "duration": 31,
    "start_time": "2024-06-03T11:47:03.232Z"
   },
   {
    "duration": 30,
    "start_time": "2024-06-03T11:47:03.266Z"
   },
   {
    "duration": 407,
    "start_time": "2024-06-03T11:47:03.332Z"
   },
   {
    "duration": 274,
    "start_time": "2024-06-03T11:47:03.744Z"
   },
   {
    "duration": 742,
    "start_time": "2024-06-03T11:47:04.021Z"
   },
   {
    "duration": 26,
    "start_time": "2024-06-03T11:47:04.766Z"
   },
   {
    "duration": 540,
    "start_time": "2024-06-03T11:47:04.795Z"
   },
   {
    "duration": 19,
    "start_time": "2024-06-03T11:47:05.338Z"
   },
   {
    "duration": 79,
    "start_time": "2024-06-03T11:47:05.362Z"
   },
   {
    "duration": 430,
    "start_time": "2024-06-03T11:47:05.443Z"
   },
   {
    "duration": 30,
    "start_time": "2024-06-03T11:47:05.876Z"
   },
   {
    "duration": 76,
    "start_time": "2024-06-03T11:48:21.428Z"
   },
   {
    "duration": 9,
    "start_time": "2024-06-03T11:48:32.506Z"
   },
   {
    "duration": 724,
    "start_time": "2024-06-03T11:48:38.014Z"
   },
   {
    "duration": 4,
    "start_time": "2024-06-03T11:49:18.362Z"
   },
   {
    "duration": 8,
    "start_time": "2024-06-03T11:49:23.890Z"
   },
   {
    "duration": 6,
    "start_time": "2024-06-03T11:50:55.231Z"
   },
   {
    "duration": 17,
    "start_time": "2024-06-03T11:51:01.379Z"
   },
   {
    "duration": 19,
    "start_time": "2024-06-03T11:51:20.425Z"
   },
   {
    "duration": 12,
    "start_time": "2024-06-03T11:51:38.957Z"
   },
   {
    "duration": 17,
    "start_time": "2024-06-03T11:51:46.577Z"
   },
   {
    "duration": 20,
    "start_time": "2024-06-03T11:53:12.870Z"
   },
   {
    "duration": 19,
    "start_time": "2024-06-03T11:54:09.378Z"
   },
   {
    "duration": 16,
    "start_time": "2024-06-03T11:54:17.678Z"
   },
   {
    "duration": 8,
    "start_time": "2024-06-03T11:55:19.630Z"
   },
   {
    "duration": 12,
    "start_time": "2024-06-03T11:55:40.948Z"
   },
   {
    "duration": 13,
    "start_time": "2024-06-03T11:55:57.621Z"
   },
   {
    "duration": 87,
    "start_time": "2024-06-03T11:57:47.293Z"
   },
   {
    "duration": 14,
    "start_time": "2024-06-03T11:58:06.031Z"
   },
   {
    "duration": 14,
    "start_time": "2024-06-03T11:58:18.216Z"
   },
   {
    "duration": 8,
    "start_time": "2024-06-03T11:58:39.682Z"
   },
   {
    "duration": 12,
    "start_time": "2024-06-03T11:58:46.366Z"
   },
   {
    "duration": 17,
    "start_time": "2024-06-03T11:58:56.834Z"
   },
   {
    "duration": 25,
    "start_time": "2024-06-03T11:59:42.801Z"
   },
   {
    "duration": 350,
    "start_time": "2024-06-03T11:59:51.666Z"
   },
   {
    "duration": 19,
    "start_time": "2024-06-03T12:00:09.937Z"
   },
   {
    "duration": 328,
    "start_time": "2024-06-03T12:00:56.379Z"
   },
   {
    "duration": 21,
    "start_time": "2024-06-03T12:01:21.105Z"
   },
   {
    "duration": 4667,
    "start_time": "2024-06-03T15:34:58.221Z"
   },
   {
    "duration": 47,
    "start_time": "2024-06-03T15:35:02.895Z"
   },
   {
    "duration": 20,
    "start_time": "2024-06-03T15:35:02.945Z"
   },
   {
    "duration": 53,
    "start_time": "2024-06-03T15:35:02.971Z"
   },
   {
    "duration": 36,
    "start_time": "2024-06-03T15:35:03.028Z"
   },
   {
    "duration": 22,
    "start_time": "2024-06-03T15:35:03.068Z"
   },
   {
    "duration": 40,
    "start_time": "2024-06-03T15:35:03.123Z"
   },
   {
    "duration": 66,
    "start_time": "2024-06-03T15:35:03.167Z"
   },
   {
    "duration": 431,
    "start_time": "2024-06-03T15:35:03.237Z"
   },
   {
    "duration": 305,
    "start_time": "2024-06-03T15:35:03.673Z"
   },
   {
    "duration": 846,
    "start_time": "2024-06-03T15:35:03.982Z"
   },
   {
    "duration": 27,
    "start_time": "2024-06-03T15:35:04.832Z"
   },
   {
    "duration": 541,
    "start_time": "2024-06-03T15:35:04.863Z"
   },
   {
    "duration": 27,
    "start_time": "2024-06-03T15:35:05.407Z"
   },
   {
    "duration": 50,
    "start_time": "2024-06-03T15:35:05.437Z"
   },
   {
    "duration": 479,
    "start_time": "2024-06-03T15:35:05.490Z"
   },
   {
    "duration": 18,
    "start_time": "2024-06-03T15:35:05.973Z"
   },
   {
    "duration": 43,
    "start_time": "2024-06-03T15:35:05.994Z"
   },
   {
    "duration": 19,
    "start_time": "2024-06-03T15:35:06.040Z"
   },
   {
    "duration": 22,
    "start_time": "2024-06-03T16:55:13.246Z"
   },
   {
    "duration": 19,
    "start_time": "2024-06-03T16:55:46.490Z"
   },
   {
    "duration": 21,
    "start_time": "2024-06-03T16:56:14.834Z"
   },
   {
    "duration": 24,
    "start_time": "2024-06-03T17:09:58.614Z"
   },
   {
    "duration": 23,
    "start_time": "2024-06-03T17:16:04.372Z"
   },
   {
    "duration": 21,
    "start_time": "2024-06-03T17:16:57.267Z"
   },
   {
    "duration": 21,
    "start_time": "2024-06-03T17:17:53.587Z"
   },
   {
    "duration": 26,
    "start_time": "2024-06-03T17:18:13.747Z"
   },
   {
    "duration": 32,
    "start_time": "2024-06-03T17:23:20.792Z"
   },
   {
    "duration": 164,
    "start_time": "2024-06-03T17:32:42.018Z"
   },
   {
    "duration": 31,
    "start_time": "2024-06-03T17:33:05.808Z"
   },
   {
    "duration": 33,
    "start_time": "2024-06-03T17:33:45.212Z"
   },
   {
    "duration": 25,
    "start_time": "2024-06-03T17:34:14.834Z"
   },
   {
    "duration": 212,
    "start_time": "2024-06-03T17:37:46.360Z"
   },
   {
    "duration": 193,
    "start_time": "2024-06-03T17:38:18.323Z"
   },
   {
    "duration": 12,
    "start_time": "2024-06-03T17:39:06.323Z"
   },
   {
    "duration": 220,
    "start_time": "2024-06-03T17:39:40.628Z"
   },
   {
    "duration": 8,
    "start_time": "2024-06-03T17:40:28.337Z"
   },
   {
    "duration": 12,
    "start_time": "2024-06-03T17:40:42.541Z"
   },
   {
    "duration": 216,
    "start_time": "2024-06-03T17:40:59.505Z"
   },
   {
    "duration": 302,
    "start_time": "2024-06-03T17:41:05.620Z"
   },
   {
    "duration": 237,
    "start_time": "2024-06-03T17:46:59.714Z"
   },
   {
    "duration": 18,
    "start_time": "2024-06-03T17:48:30.568Z"
   },
   {
    "duration": 1166,
    "start_time": "2024-06-03T18:04:42.680Z"
   },
   {
    "duration": 20,
    "start_time": "2024-06-03T18:04:59.949Z"
   },
   {
    "duration": 29,
    "start_time": "2024-06-03T18:06:36.287Z"
   },
   {
    "duration": 38,
    "start_time": "2024-06-03T18:07:31.342Z"
   },
   {
    "duration": 8,
    "start_time": "2024-06-03T18:07:52.534Z"
   },
   {
    "duration": 8,
    "start_time": "2024-06-03T18:08:06.713Z"
   },
   {
    "duration": 8,
    "start_time": "2024-06-03T18:08:32.370Z"
   },
   {
    "duration": 27,
    "start_time": "2024-06-03T18:09:31.495Z"
   },
   {
    "duration": 23,
    "start_time": "2024-06-03T18:09:39.748Z"
   },
   {
    "duration": 120,
    "start_time": "2024-06-03T18:11:33.066Z"
   },
   {
    "duration": 123,
    "start_time": "2024-06-03T20:42:40.399Z"
   },
   {
    "duration": 11,
    "start_time": "2024-06-03T20:44:35.713Z"
   },
   {
    "duration": 19,
    "start_time": "2024-06-03T20:44:42.831Z"
   },
   {
    "duration": 18,
    "start_time": "2024-06-03T20:45:27.597Z"
   },
   {
    "duration": 211,
    "start_time": "2024-06-03T20:45:48.928Z"
   },
   {
    "duration": 260,
    "start_time": "2024-06-03T20:49:21.072Z"
   },
   {
    "duration": 213,
    "start_time": "2024-06-03T20:50:50.706Z"
   },
   {
    "duration": 227,
    "start_time": "2024-06-03T20:51:04.905Z"
   },
   {
    "duration": 355,
    "start_time": "2024-06-03T20:51:33.963Z"
   },
   {
    "duration": 214,
    "start_time": "2024-06-03T20:54:47.083Z"
   },
   {
    "duration": 18,
    "start_time": "2024-06-03T21:41:50.997Z"
   },
   {
    "duration": 286,
    "start_time": "2024-06-03T21:43:09.084Z"
   },
   {
    "duration": 9,
    "start_time": "2024-06-03T21:43:25.858Z"
   },
   {
    "duration": 20,
    "start_time": "2024-06-03T21:43:36.132Z"
   },
   {
    "duration": 221,
    "start_time": "2024-06-03T21:44:00.850Z"
   },
   {
    "duration": 17,
    "start_time": "2024-06-03T21:44:26.588Z"
   },
   {
    "duration": 15,
    "start_time": "2024-06-03T21:45:13.605Z"
   },
   {
    "duration": 16,
    "start_time": "2024-06-03T21:45:49.942Z"
   },
   {
    "duration": 275,
    "start_time": "2024-06-03T22:17:35.407Z"
   },
   {
    "duration": 245,
    "start_time": "2024-06-03T22:17:41.208Z"
   },
   {
    "duration": 211,
    "start_time": "2024-06-03T22:17:52.499Z"
   },
   {
    "duration": 17,
    "start_time": "2024-06-03T22:19:26.180Z"
   },
   {
    "duration": 18,
    "start_time": "2024-06-03T22:21:56.665Z"
   },
   {
    "duration": 16,
    "start_time": "2024-06-03T22:22:05.089Z"
   },
   {
    "duration": 22,
    "start_time": "2024-06-03T22:22:19.657Z"
   },
   {
    "duration": 53,
    "start_time": "2024-06-04T02:05:33.052Z"
   },
   {
    "duration": 54,
    "start_time": "2024-06-04T02:05:33.109Z"
   },
   {
    "duration": 58,
    "start_time": "2024-06-04T02:05:33.166Z"
   },
   {
    "duration": 23,
    "start_time": "2024-06-04T02:05:33.228Z"
   },
   {
    "duration": 27,
    "start_time": "2024-06-04T02:05:33.254Z"
   },
   {
    "duration": 21,
    "start_time": "2024-06-04T02:05:33.324Z"
   },
   {
    "duration": 32,
    "start_time": "2024-06-04T02:05:33.348Z"
   },
   {
    "duration": 31,
    "start_time": "2024-06-04T02:05:33.424Z"
   },
   {
    "duration": 410,
    "start_time": "2024-06-04T02:05:33.459Z"
   },
   {
    "duration": 425,
    "start_time": "2024-06-04T02:05:33.876Z"
   },
   {
    "duration": 783,
    "start_time": "2024-06-04T02:05:34.304Z"
   },
   {
    "duration": 48,
    "start_time": "2024-06-04T02:05:35.090Z"
   },
   {
    "duration": 542,
    "start_time": "2024-06-04T02:05:35.141Z"
   },
   {
    "duration": 37,
    "start_time": "2024-06-04T02:05:35.686Z"
   },
   {
    "duration": 49,
    "start_time": "2024-06-04T02:05:35.727Z"
   },
   {
    "duration": 480,
    "start_time": "2024-06-04T02:05:35.779Z"
   },
   {
    "duration": 227,
    "start_time": "2024-06-04T02:05:36.262Z"
   },
   {
    "duration": 244,
    "start_time": "2024-06-04T02:05:36.492Z"
   },
   {
    "duration": 229,
    "start_time": "2024-06-04T02:05:36.739Z"
   },
   {
    "duration": 16,
    "start_time": "2024-06-04T02:05:36.972Z"
   },
   {
    "duration": 15,
    "start_time": "2024-06-04T02:05:37.023Z"
   },
   {
    "duration": 16,
    "start_time": "2024-06-04T02:05:37.041Z"
   },
   {
    "duration": 14,
    "start_time": "2024-06-04T02:05:37.060Z"
   },
   {
    "duration": 15,
    "start_time": "2024-06-04T02:05:37.124Z"
   },
   {
    "duration": 16,
    "start_time": "2024-06-04T02:05:37.143Z"
   },
   {
    "duration": 3,
    "start_time": "2024-06-04T03:50:06.070Z"
   },
   {
    "duration": 3,
    "start_time": "2024-06-04T03:50:08.008Z"
   },
   {
    "duration": 3,
    "start_time": "2024-06-04T03:50:09.480Z"
   },
   {
    "duration": 3,
    "start_time": "2024-06-04T03:50:11.040Z"
   },
   {
    "duration": 3,
    "start_time": "2024-06-04T03:50:15.971Z"
   },
   {
    "duration": 4,
    "start_time": "2024-06-04T03:50:18.184Z"
   },
   {
    "duration": 4,
    "start_time": "2024-06-04T03:50:25.943Z"
   },
   {
    "duration": 3,
    "start_time": "2024-06-04T03:50:29.899Z"
   },
   {
    "duration": 3,
    "start_time": "2024-06-04T03:50:32.441Z"
   },
   {
    "duration": 70,
    "start_time": "2024-06-04T03:50:39.609Z"
   },
   {
    "duration": 79,
    "start_time": "2024-06-04T03:50:39.684Z"
   },
   {
    "duration": 21,
    "start_time": "2024-06-04T03:50:39.767Z"
   },
   {
    "duration": 54,
    "start_time": "2024-06-04T03:50:39.792Z"
   },
   {
    "duration": 25,
    "start_time": "2024-06-04T03:50:39.852Z"
   },
   {
    "duration": 63,
    "start_time": "2024-06-04T03:50:39.881Z"
   },
   {
    "duration": 31,
    "start_time": "2024-06-04T03:50:39.947Z"
   },
   {
    "duration": 69,
    "start_time": "2024-06-04T03:50:39.980Z"
   },
   {
    "duration": 371,
    "start_time": "2024-06-04T03:50:40.052Z"
   },
   {
    "duration": 287,
    "start_time": "2024-06-04T03:50:40.427Z"
   },
   {
    "duration": 887,
    "start_time": "2024-06-04T03:50:40.716Z"
   },
   {
    "duration": 40,
    "start_time": "2024-06-04T03:50:41.606Z"
   },
   {
    "duration": 530,
    "start_time": "2024-06-04T03:50:41.650Z"
   },
   {
    "duration": 16,
    "start_time": "2024-06-04T03:50:42.187Z"
   },
   {
    "duration": 42,
    "start_time": "2024-06-04T03:50:42.223Z"
   },
   {
    "duration": 467,
    "start_time": "2024-06-04T03:50:42.268Z"
   },
   {
    "duration": 227,
    "start_time": "2024-06-04T03:50:42.737Z"
   },
   {
    "duration": 230,
    "start_time": "2024-06-04T03:50:42.968Z"
   },
   {
    "duration": 225,
    "start_time": "2024-06-04T03:50:43.201Z"
   },
   {
    "duration": 17,
    "start_time": "2024-06-04T03:50:43.429Z"
   },
   {
    "duration": 17,
    "start_time": "2024-06-04T03:50:43.449Z"
   },
   {
    "duration": 55,
    "start_time": "2024-06-04T03:50:43.469Z"
   },
   {
    "duration": 16,
    "start_time": "2024-06-04T03:50:43.528Z"
   },
   {
    "duration": 16,
    "start_time": "2024-06-04T03:50:43.547Z"
   },
   {
    "duration": 67,
    "start_time": "2024-06-04T03:50:43.566Z"
   },
   {
    "duration": 3,
    "start_time": "2024-06-04T03:50:43.637Z"
   },
   {
    "duration": 3,
    "start_time": "2024-06-04T03:50:48.492Z"
   },
   {
    "duration": 31,
    "start_time": "2024-06-04T03:54:23.412Z"
   },
   {
    "duration": 7,
    "start_time": "2024-06-04T03:54:42.304Z"
   },
   {
    "duration": 10,
    "start_time": "2024-06-04T03:55:05.303Z"
   },
   {
    "duration": 8,
    "start_time": "2024-06-04T03:55:12.131Z"
   },
   {
    "duration": 331,
    "start_time": "2024-06-04T03:56:15.113Z"
   },
   {
    "duration": 30,
    "start_time": "2024-06-04T03:57:07.434Z"
   },
   {
    "duration": 103,
    "start_time": "2024-06-04T03:58:19.598Z"
   },
   {
    "duration": 8,
    "start_time": "2024-06-04T03:58:40.671Z"
   },
   {
    "duration": 95,
    "start_time": "2024-06-04T03:59:12.029Z"
   },
   {
    "duration": 97,
    "start_time": "2024-06-04T04:01:41.607Z"
   },
   {
    "duration": 101,
    "start_time": "2024-06-04T04:01:57.169Z"
   },
   {
    "duration": 102,
    "start_time": "2024-06-04T04:02:02.084Z"
   },
   {
    "duration": 899,
    "start_time": "2024-06-04T04:02:33.406Z"
   },
   {
    "duration": 58,
    "start_time": "2024-06-04T04:02:34.310Z"
   },
   {
    "duration": 55,
    "start_time": "2024-06-04T04:02:34.373Z"
   },
   {
    "duration": 27,
    "start_time": "2024-06-04T04:02:34.433Z"
   },
   {
    "duration": 66,
    "start_time": "2024-06-04T04:02:34.464Z"
   },
   {
    "duration": 21,
    "start_time": "2024-06-04T04:02:34.534Z"
   },
   {
    "duration": 73,
    "start_time": "2024-06-04T04:02:34.559Z"
   },
   {
    "duration": 35,
    "start_time": "2024-06-04T04:02:34.637Z"
   },
   {
    "duration": 438,
    "start_time": "2024-06-04T04:02:34.676Z"
   },
   {
    "duration": 310,
    "start_time": "2024-06-04T04:02:35.121Z"
   },
   {
    "duration": 789,
    "start_time": "2024-06-04T04:02:35.434Z"
   },
   {
    "duration": 37,
    "start_time": "2024-06-04T04:02:36.226Z"
   },
   {
    "duration": 556,
    "start_time": "2024-06-04T04:02:36.267Z"
   },
   {
    "duration": 20,
    "start_time": "2024-06-04T04:02:36.827Z"
   },
   {
    "duration": 87,
    "start_time": "2024-06-04T04:02:36.850Z"
   },
   {
    "duration": 521,
    "start_time": "2024-06-04T04:02:36.941Z"
   },
   {
    "duration": 265,
    "start_time": "2024-06-04T04:02:37.467Z"
   },
   {
    "duration": 331,
    "start_time": "2024-06-04T04:02:37.735Z"
   },
   {
    "duration": 240,
    "start_time": "2024-06-04T04:02:38.070Z"
   },
   {
    "duration": 17,
    "start_time": "2024-06-04T04:02:38.322Z"
   },
   {
    "duration": 18,
    "start_time": "2024-06-04T04:02:38.343Z"
   },
   {
    "duration": 64,
    "start_time": "2024-06-04T04:02:38.364Z"
   },
   {
    "duration": 21,
    "start_time": "2024-06-04T04:02:38.432Z"
   },
   {
    "duration": 66,
    "start_time": "2024-06-04T04:02:38.458Z"
   },
   {
    "duration": 18,
    "start_time": "2024-06-04T04:02:38.528Z"
   },
   {
    "duration": 1143,
    "start_time": "2024-06-04T04:02:38.550Z"
   },
   {
    "duration": 96,
    "start_time": "2024-06-04T04:03:46.402Z"
   },
   {
    "duration": 4,
    "start_time": "2024-06-04T04:04:36.509Z"
   },
   {
    "duration": 250,
    "start_time": "2024-06-04T04:05:00.897Z"
   },
   {
    "duration": 5,
    "start_time": "2024-06-04T04:05:07.455Z"
   },
   {
    "duration": 7,
    "start_time": "2024-06-04T04:05:15.263Z"
   },
   {
    "duration": 13,
    "start_time": "2024-06-04T04:05:19.784Z"
   },
   {
    "duration": 23,
    "start_time": "2024-06-04T04:05:47.880Z"
   },
   {
    "duration": 10,
    "start_time": "2024-06-04T04:06:47.283Z"
   },
   {
    "duration": 28,
    "start_time": "2024-06-04T04:07:31.692Z"
   },
   {
    "duration": 1162,
    "start_time": "2024-06-04T04:08:55.895Z"
   },
   {
    "duration": 16,
    "start_time": "2024-06-04T04:09:16.517Z"
   },
   {
    "duration": 11,
    "start_time": "2024-06-04T04:12:01.510Z"
   },
   {
    "duration": 15,
    "start_time": "2024-06-04T04:12:20.669Z"
   },
   {
    "duration": 11,
    "start_time": "2024-06-04T04:12:36.954Z"
   },
   {
    "duration": 9,
    "start_time": "2024-06-04T04:13:16.139Z"
   },
   {
    "duration": 14,
    "start_time": "2024-06-04T04:13:43.204Z"
   },
   {
    "duration": 18,
    "start_time": "2024-06-04T04:13:50.136Z"
   },
   {
    "duration": 16,
    "start_time": "2024-06-04T04:14:02.101Z"
   },
   {
    "duration": 29,
    "start_time": "2024-06-04T04:14:17.704Z"
   },
   {
    "duration": 24,
    "start_time": "2024-06-04T04:14:29.836Z"
   },
   {
    "duration": 33,
    "start_time": "2024-06-04T04:19:43.332Z"
   },
   {
    "duration": 673,
    "start_time": "2024-06-04T04:21:51.189Z"
   },
   {
    "duration": 761,
    "start_time": "2024-06-04T04:22:43.745Z"
   },
   {
    "duration": 262,
    "start_time": "2024-06-04T04:25:15.120Z"
   },
   {
    "duration": 260,
    "start_time": "2024-06-04T04:36:43.094Z"
   },
   {
    "duration": 254,
    "start_time": "2024-06-04T04:36:51.837Z"
   },
   {
    "duration": 267,
    "start_time": "2024-06-04T04:37:17.237Z"
   },
   {
    "duration": 30,
    "start_time": "2024-06-04T04:37:43.504Z"
   },
   {
    "duration": 55,
    "start_time": "2024-06-04T04:38:03.538Z"
   },
   {
    "duration": 56,
    "start_time": "2024-06-04T04:38:03.597Z"
   },
   {
    "duration": 19,
    "start_time": "2024-06-04T04:38:03.656Z"
   },
   {
    "duration": 58,
    "start_time": "2024-06-04T04:38:03.678Z"
   },
   {
    "duration": 24,
    "start_time": "2024-06-04T04:38:03.740Z"
   },
   {
    "duration": 59,
    "start_time": "2024-06-04T04:38:03.769Z"
   },
   {
    "duration": 33,
    "start_time": "2024-06-04T04:38:03.831Z"
   },
   {
    "duration": 71,
    "start_time": "2024-06-04T04:38:03.867Z"
   },
   {
    "duration": 353,
    "start_time": "2024-06-04T04:38:03.940Z"
   },
   {
    "duration": 280,
    "start_time": "2024-06-04T04:38:04.296Z"
   },
   {
    "duration": 728,
    "start_time": "2024-06-04T04:38:04.579Z"
   },
   {
    "duration": 33,
    "start_time": "2024-06-04T04:38:05.310Z"
   },
   {
    "duration": 669,
    "start_time": "2024-06-04T04:38:05.347Z"
   },
   {
    "duration": 18,
    "start_time": "2024-06-04T04:38:06.027Z"
   },
   {
    "duration": 82,
    "start_time": "2024-06-04T04:38:06.049Z"
   },
   {
    "duration": 457,
    "start_time": "2024-06-04T04:38:06.134Z"
   },
   {
    "duration": 237,
    "start_time": "2024-06-04T04:38:06.594Z"
   },
   {
    "duration": 236,
    "start_time": "2024-06-04T04:38:06.835Z"
   },
   {
    "duration": 230,
    "start_time": "2024-06-04T04:38:07.074Z"
   },
   {
    "duration": 30,
    "start_time": "2024-06-04T04:38:07.307Z"
   },
   {
    "duration": 15,
    "start_time": "2024-06-04T04:38:07.342Z"
   },
   {
    "duration": 17,
    "start_time": "2024-06-04T04:38:07.361Z"
   },
   {
    "duration": 15,
    "start_time": "2024-06-04T04:38:07.424Z"
   },
   {
    "duration": 15,
    "start_time": "2024-06-04T04:38:07.443Z"
   },
   {
    "duration": 15,
    "start_time": "2024-06-04T04:38:07.461Z"
   },
   {
    "duration": 74,
    "start_time": "2024-06-04T04:38:07.479Z"
   },
   {
    "duration": 655,
    "start_time": "2024-06-04T04:38:11.459Z"
   },
   {
    "duration": 9,
    "start_time": "2024-06-04T04:38:34.064Z"
   },
   {
    "duration": 15,
    "start_time": "2024-06-04T04:38:39.766Z"
   },
   {
    "duration": 98,
    "start_time": "2024-06-04T04:44:42.646Z"
   },
   {
    "duration": 32,
    "start_time": "2024-06-04T04:45:36.008Z"
   },
   {
    "duration": 33,
    "start_time": "2024-06-04T04:45:45.693Z"
   },
   {
    "duration": 55,
    "start_time": "2024-06-04T04:46:28.910Z"
   },
   {
    "duration": 59,
    "start_time": "2024-06-04T04:46:33.058Z"
   },
   {
    "duration": 47,
    "start_time": "2024-06-04T04:46:33.120Z"
   },
   {
    "duration": 18,
    "start_time": "2024-06-04T04:46:33.172Z"
   },
   {
    "duration": 25,
    "start_time": "2024-06-04T04:46:33.225Z"
   },
   {
    "duration": 23,
    "start_time": "2024-06-04T04:46:33.253Z"
   },
   {
    "duration": 59,
    "start_time": "2024-06-04T04:46:33.280Z"
   },
   {
    "duration": 32,
    "start_time": "2024-06-04T04:46:33.343Z"
   },
   {
    "duration": 71,
    "start_time": "2024-06-04T04:46:33.378Z"
   },
   {
    "duration": 394,
    "start_time": "2024-06-04T04:46:33.452Z"
   },
   {
    "duration": 280,
    "start_time": "2024-06-04T04:46:33.852Z"
   },
   {
    "duration": 935,
    "start_time": "2024-06-04T04:46:34.135Z"
   },
   {
    "duration": 51,
    "start_time": "2024-06-04T04:46:35.073Z"
   },
   {
    "duration": 563,
    "start_time": "2024-06-04T04:46:35.127Z"
   },
   {
    "duration": 30,
    "start_time": "2024-06-04T04:46:35.694Z"
   },
   {
    "duration": 44,
    "start_time": "2024-06-04T04:46:35.727Z"
   },
   {
    "duration": 460,
    "start_time": "2024-06-04T04:46:35.774Z"
   },
   {
    "duration": 233,
    "start_time": "2024-06-04T04:46:36.237Z"
   },
   {
    "duration": 236,
    "start_time": "2024-06-04T04:46:36.473Z"
   },
   {
    "duration": 225,
    "start_time": "2024-06-04T04:46:36.724Z"
   },
   {
    "duration": 16,
    "start_time": "2024-06-04T04:46:36.952Z"
   },
   {
    "duration": 53,
    "start_time": "2024-06-04T04:46:36.971Z"
   },
   {
    "duration": 17,
    "start_time": "2024-06-04T04:46:37.027Z"
   },
   {
    "duration": 17,
    "start_time": "2024-06-04T04:46:37.047Z"
   },
   {
    "duration": 60,
    "start_time": "2024-06-04T04:46:37.067Z"
   },
   {
    "duration": 16,
    "start_time": "2024-06-04T04:46:37.131Z"
   },
   {
    "duration": 33,
    "start_time": "2024-06-04T04:46:37.150Z"
   },
   {
    "duration": 56,
    "start_time": "2024-06-04T04:47:17.236Z"
   },
   {
    "duration": 56,
    "start_time": "2024-06-04T04:47:19.971Z"
   },
   {
    "duration": 46,
    "start_time": "2024-06-04T04:47:20.031Z"
   },
   {
    "duration": 55,
    "start_time": "2024-06-04T04:47:20.080Z"
   },
   {
    "duration": 24,
    "start_time": "2024-06-04T04:47:20.140Z"
   },
   {
    "duration": 67,
    "start_time": "2024-06-04T04:47:20.168Z"
   },
   {
    "duration": 20,
    "start_time": "2024-06-04T04:47:20.238Z"
   },
   {
    "duration": 72,
    "start_time": "2024-06-04T04:47:20.262Z"
   },
   {
    "duration": 35,
    "start_time": "2024-06-04T04:47:20.337Z"
   },
   {
    "duration": 404,
    "start_time": "2024-06-04T04:47:20.375Z"
   },
   {
    "duration": 287,
    "start_time": "2024-06-04T04:47:20.785Z"
   },
   {
    "duration": 747,
    "start_time": "2024-06-04T04:47:21.076Z"
   },
   {
    "duration": 26,
    "start_time": "2024-06-04T04:47:21.827Z"
   },
   {
    "duration": 533,
    "start_time": "2024-06-04T04:47:21.856Z"
   },
   {
    "duration": 35,
    "start_time": "2024-06-04T04:47:22.393Z"
   },
   {
    "duration": 41,
    "start_time": "2024-06-04T04:47:22.432Z"
   },
   {
    "duration": 478,
    "start_time": "2024-06-04T04:47:22.478Z"
   },
   {
    "duration": 247,
    "start_time": "2024-06-04T04:47:22.959Z"
   },
   {
    "duration": 228,
    "start_time": "2024-06-04T04:47:23.222Z"
   },
   {
    "duration": 246,
    "start_time": "2024-06-04T04:47:23.454Z"
   },
   {
    "duration": 34,
    "start_time": "2024-06-04T04:47:23.703Z"
   },
   {
    "duration": 19,
    "start_time": "2024-06-04T04:47:23.741Z"
   },
   {
    "duration": 64,
    "start_time": "2024-06-04T04:47:23.763Z"
   },
   {
    "duration": 19,
    "start_time": "2024-06-04T04:47:23.831Z"
   },
   {
    "duration": 18,
    "start_time": "2024-06-04T04:47:23.853Z"
   },
   {
    "duration": 63,
    "start_time": "2024-06-04T04:47:23.875Z"
   },
   {
    "duration": 35,
    "start_time": "2024-06-04T04:47:23.941Z"
   },
   {
    "duration": 96,
    "start_time": "2024-06-04T04:47:51.795Z"
   },
   {
    "duration": 17,
    "start_time": "2024-06-04T04:52:23.386Z"
   },
   {
    "duration": 33,
    "start_time": "2024-06-04T04:53:51.654Z"
   },
   {
    "duration": 16,
    "start_time": "2024-06-04T04:53:58.080Z"
   },
   {
    "duration": 8,
    "start_time": "2024-06-04T04:55:37.104Z"
   },
   {
    "duration": 17,
    "start_time": "2024-06-04T04:55:56.670Z"
   },
   {
    "duration": 20,
    "start_time": "2024-06-04T04:56:08.726Z"
   },
   {
    "duration": 18,
    "start_time": "2024-06-04T04:56:13.582Z"
   },
   {
    "duration": 18,
    "start_time": "2024-06-04T04:57:29.333Z"
   },
   {
    "duration": 40,
    "start_time": "2024-06-04T05:00:08.091Z"
   },
   {
    "duration": 17,
    "start_time": "2024-06-04T05:01:33.226Z"
   },
   {
    "duration": 16,
    "start_time": "2024-06-04T05:02:33.668Z"
   },
   {
    "duration": 17,
    "start_time": "2024-06-04T05:02:50.604Z"
   },
   {
    "duration": 8,
    "start_time": "2024-06-04T05:03:38.539Z"
   },
   {
    "duration": 5,
    "start_time": "2024-06-04T05:03:42.433Z"
   },
   {
    "duration": 11,
    "start_time": "2024-06-04T05:09:21.858Z"
   },
   {
    "duration": 12,
    "start_time": "2024-06-04T05:09:33.918Z"
   },
   {
    "duration": 7,
    "start_time": "2024-06-04T05:13:05.777Z"
   },
   {
    "duration": 14,
    "start_time": "2024-06-04T05:14:01.474Z"
   },
   {
    "duration": 16,
    "start_time": "2024-06-04T05:14:39.847Z"
   },
   {
    "duration": 7,
    "start_time": "2024-06-04T05:15:13.660Z"
   },
   {
    "duration": 22,
    "start_time": "2024-06-04T05:15:38.518Z"
   },
   {
    "duration": 7,
    "start_time": "2024-06-04T05:15:44.632Z"
   },
   {
    "duration": 4980,
    "start_time": "2024-06-04T17:02:26.039Z"
   },
   {
    "duration": 46,
    "start_time": "2024-06-04T17:02:31.022Z"
   },
   {
    "duration": 43,
    "start_time": "2024-06-04T17:02:31.071Z"
   },
   {
    "duration": 22,
    "start_time": "2024-06-04T17:02:31.119Z"
   },
   {
    "duration": 56,
    "start_time": "2024-06-04T17:02:31.145Z"
   },
   {
    "duration": 19,
    "start_time": "2024-06-04T17:02:31.204Z"
   },
   {
    "duration": 33,
    "start_time": "2024-06-04T17:02:31.226Z"
   },
   {
    "duration": 64,
    "start_time": "2024-06-04T17:02:31.262Z"
   },
   {
    "duration": 409,
    "start_time": "2024-06-04T17:02:31.329Z"
   },
   {
    "duration": 257,
    "start_time": "2024-06-04T17:02:31.744Z"
   },
   {
    "duration": 735,
    "start_time": "2024-06-04T17:02:32.004Z"
   },
   {
    "duration": 34,
    "start_time": "2024-06-04T17:02:32.743Z"
   },
   {
    "duration": 579,
    "start_time": "2024-06-04T17:02:32.780Z"
   },
   {
    "duration": 18,
    "start_time": "2024-06-04T17:02:33.362Z"
   },
   {
    "duration": 39,
    "start_time": "2024-06-04T17:02:33.403Z"
   },
   {
    "duration": 521,
    "start_time": "2024-06-04T17:02:33.445Z"
   },
   {
    "duration": 224,
    "start_time": "2024-06-04T17:02:33.969Z"
   },
   {
    "duration": 222,
    "start_time": "2024-06-04T17:02:34.195Z"
   },
   {
    "duration": 227,
    "start_time": "2024-06-04T17:02:34.420Z"
   },
   {
    "duration": 17,
    "start_time": "2024-06-04T17:02:34.650Z"
   },
   {
    "duration": 42,
    "start_time": "2024-06-04T17:02:34.669Z"
   },
   {
    "duration": 15,
    "start_time": "2024-06-04T17:02:34.713Z"
   },
   {
    "duration": 15,
    "start_time": "2024-06-04T17:02:34.731Z"
   },
   {
    "duration": 53,
    "start_time": "2024-06-04T17:02:34.749Z"
   },
   {
    "duration": 15,
    "start_time": "2024-06-04T17:02:34.805Z"
   },
   {
    "duration": 18,
    "start_time": "2024-06-04T17:02:34.823Z"
   },
   {
    "duration": 19,
    "start_time": "2024-06-04T17:02:34.844Z"
   },
   {
    "duration": 48,
    "start_time": "2024-06-04T17:22:08.783Z"
   },
   {
    "duration": 18,
    "start_time": "2024-06-04T17:22:59.578Z"
   },
   {
    "duration": 23,
    "start_time": "2024-06-04T17:24:50.171Z"
   },
   {
    "duration": 22,
    "start_time": "2024-06-04T17:27:00.560Z"
   },
   {
    "duration": 11,
    "start_time": "2024-06-04T17:29:55.324Z"
   },
   {
    "duration": 343,
    "start_time": "2024-06-04T17:38:53.105Z"
   },
   {
    "duration": 9,
    "start_time": "2024-06-04T17:42:44.494Z"
   },
   {
    "duration": 7,
    "start_time": "2024-06-04T17:42:57.575Z"
   },
   {
    "duration": 416,
    "start_time": "2024-06-04T17:43:14.338Z"
   },
   {
    "duration": 923,
    "start_time": "2024-06-04T17:43:42.730Z"
   },
   {
    "duration": 277,
    "start_time": "2024-06-04T17:44:02.864Z"
   },
   {
    "duration": 817,
    "start_time": "2024-06-04T17:45:58.640Z"
   },
   {
    "duration": 685,
    "start_time": "2024-06-04T17:46:40.353Z"
   },
   {
    "duration": 25,
    "start_time": "2024-06-04T17:52:30.444Z"
   },
   {
    "duration": 26,
    "start_time": "2024-06-04T17:52:35.587Z"
   },
   {
    "duration": 489,
    "start_time": "2024-06-04T17:52:46.770Z"
   },
   {
    "duration": 18,
    "start_time": "2024-06-04T17:52:59.903Z"
   },
   {
    "duration": 17,
    "start_time": "2024-06-04T17:53:52.085Z"
   },
   {
    "duration": 441,
    "start_time": "2024-06-04T17:55:43.781Z"
   },
   {
    "duration": 4905,
    "start_time": "2024-06-04T19:44:54.072Z"
   },
   {
    "duration": 45,
    "start_time": "2024-06-04T19:44:58.981Z"
   },
   {
    "duration": 19,
    "start_time": "2024-06-04T19:44:59.029Z"
   },
   {
    "duration": 22,
    "start_time": "2024-06-04T19:44:59.051Z"
   },
   {
    "duration": 23,
    "start_time": "2024-06-04T19:44:59.104Z"
   },
   {
    "duration": 18,
    "start_time": "2024-06-04T19:44:59.130Z"
   },
   {
    "duration": 65,
    "start_time": "2024-06-04T19:44:59.151Z"
   },
   {
    "duration": 410,
    "start_time": "2024-06-04T19:44:59.220Z"
   },
   {
    "duration": 252,
    "start_time": "2024-06-04T19:44:59.634Z"
   },
   {
    "duration": 720,
    "start_time": "2024-06-04T19:44:59.901Z"
   },
   {
    "duration": 24,
    "start_time": "2024-06-04T19:45:00.624Z"
   },
   {
    "duration": 518,
    "start_time": "2024-06-04T19:45:00.651Z"
   },
   {
    "duration": 31,
    "start_time": "2024-06-04T19:45:01.172Z"
   },
   {
    "duration": 39,
    "start_time": "2024-06-04T19:45:01.210Z"
   },
   {
    "duration": 533,
    "start_time": "2024-06-04T19:45:01.252Z"
   },
   {
    "duration": 244,
    "start_time": "2024-06-04T19:45:01.788Z"
   },
   {
    "duration": 219,
    "start_time": "2024-06-04T19:45:02.035Z"
   },
   {
    "duration": 226,
    "start_time": "2024-06-04T19:45:02.257Z"
   },
   {
    "duration": 24,
    "start_time": "2024-06-04T19:45:02.486Z"
   },
   {
    "duration": 15,
    "start_time": "2024-06-04T19:45:02.513Z"
   },
   {
    "duration": 16,
    "start_time": "2024-06-04T19:45:02.530Z"
   },
   {
    "duration": 55,
    "start_time": "2024-06-04T19:45:02.549Z"
   },
   {
    "duration": 16,
    "start_time": "2024-06-04T19:45:02.606Z"
   },
   {
    "duration": 15,
    "start_time": "2024-06-04T19:45:02.625Z"
   },
   {
    "duration": 19,
    "start_time": "2024-06-04T19:45:02.643Z"
   },
   {
    "duration": 22,
    "start_time": "2024-06-04T19:45:02.702Z"
   },
   {
    "duration": 38,
    "start_time": "2024-06-04T19:51:55.712Z"
   },
   {
    "duration": 42,
    "start_time": "2024-06-04T19:52:03.953Z"
   },
   {
    "duration": 54,
    "start_time": "2024-06-04T19:52:27.002Z"
   },
   {
    "duration": 39,
    "start_time": "2024-06-04T19:55:41.196Z"
   },
   {
    "duration": 39,
    "start_time": "2024-06-04T19:55:54.198Z"
   },
   {
    "duration": 39,
    "start_time": "2024-06-04T19:57:29.577Z"
   },
   {
    "duration": 42,
    "start_time": "2024-06-04T19:58:19.638Z"
   },
   {
    "duration": 899,
    "start_time": "2024-06-04T19:58:56.248Z"
   },
   {
    "duration": 42,
    "start_time": "2024-06-04T19:59:25.237Z"
   },
   {
    "duration": 9,
    "start_time": "2024-06-04T19:59:40.800Z"
   },
   {
    "duration": 42,
    "start_time": "2024-06-04T19:59:49.223Z"
   },
   {
    "duration": 32,
    "start_time": "2024-06-04T20:06:07.271Z"
   },
   {
    "duration": 31,
    "start_time": "2024-06-04T20:06:30.107Z"
   },
   {
    "duration": 48,
    "start_time": "2024-06-04T20:06:42.864Z"
   },
   {
    "duration": 29,
    "start_time": "2024-06-04T20:08:53.049Z"
   },
   {
    "duration": 427,
    "start_time": "2024-06-04T20:09:00.312Z"
   },
   {
    "duration": 33,
    "start_time": "2024-06-04T20:09:07.320Z"
   },
   {
    "duration": 38,
    "start_time": "2024-06-04T20:09:30.546Z"
   },
   {
    "duration": 34,
    "start_time": "2024-06-04T20:09:59.026Z"
   },
   {
    "duration": 229,
    "start_time": "2024-06-04T20:12:25.405Z"
   },
   {
    "duration": 238,
    "start_time": "2024-06-04T20:13:34.398Z"
   },
   {
    "duration": 239,
    "start_time": "2024-06-04T20:22:56.453Z"
   },
   {
    "duration": 207,
    "start_time": "2024-06-04T21:19:29.989Z"
   },
   {
    "duration": 213,
    "start_time": "2024-06-04T21:20:37.659Z"
   },
   {
    "duration": 213,
    "start_time": "2024-06-04T21:20:41.498Z"
   },
   {
    "duration": 305,
    "start_time": "2024-06-04T21:22:17.600Z"
   },
   {
    "duration": 207,
    "start_time": "2024-06-04T21:23:08.732Z"
   },
   {
    "duration": 212,
    "start_time": "2024-06-04T21:23:23.404Z"
   },
   {
    "duration": 211,
    "start_time": "2024-06-04T21:24:03.180Z"
   },
   {
    "duration": 229,
    "start_time": "2024-06-04T21:24:23.993Z"
   },
   {
    "duration": 16,
    "start_time": "2024-06-04T21:27:24.922Z"
   },
   {
    "duration": 17,
    "start_time": "2024-06-04T21:28:25.556Z"
   },
   {
    "duration": 16,
    "start_time": "2024-06-04T21:34:26.990Z"
   },
   {
    "duration": 29,
    "start_time": "2024-06-04T21:34:55.979Z"
   },
   {
    "duration": 14,
    "start_time": "2024-06-04T21:35:30.308Z"
   },
   {
    "duration": 19,
    "start_time": "2024-06-04T21:46:19.600Z"
   },
   {
    "duration": 3,
    "start_time": "2024-06-04T21:46:42.050Z"
   },
   {
    "duration": 53,
    "start_time": "2024-06-04T22:20:19.797Z"
   },
   {
    "duration": 61,
    "start_time": "2024-06-04T22:20:19.853Z"
   },
   {
    "duration": 19,
    "start_time": "2024-06-04T22:20:19.917Z"
   },
   {
    "duration": 21,
    "start_time": "2024-06-04T22:20:19.941Z"
   },
   {
    "duration": 22,
    "start_time": "2024-06-04T22:20:20.001Z"
   },
   {
    "duration": 18,
    "start_time": "2024-06-04T22:20:20.026Z"
   },
   {
    "duration": 68,
    "start_time": "2024-06-04T22:20:20.047Z"
   },
   {
    "duration": 350,
    "start_time": "2024-06-04T22:20:20.118Z"
   },
   {
    "duration": 278,
    "start_time": "2024-06-04T22:20:20.471Z"
   },
   {
    "duration": 705,
    "start_time": "2024-06-04T22:20:20.756Z"
   },
   {
    "duration": 39,
    "start_time": "2024-06-04T22:20:21.464Z"
   },
   {
    "duration": 527,
    "start_time": "2024-06-04T22:20:21.506Z"
   },
   {
    "duration": 18,
    "start_time": "2024-06-04T22:20:22.036Z"
   },
   {
    "duration": 266,
    "start_time": "2024-06-04T22:20:22.057Z"
   },
   {
    "duration": 531,
    "start_time": "2024-06-04T22:20:22.326Z"
   },
   {
    "duration": 231,
    "start_time": "2024-06-04T22:20:22.860Z"
   },
   {
    "duration": 226,
    "start_time": "2024-06-04T22:20:23.103Z"
   },
   {
    "duration": 225,
    "start_time": "2024-06-04T22:20:23.332Z"
   },
   {
    "duration": 40,
    "start_time": "2024-06-04T22:20:23.561Z"
   },
   {
    "duration": 18,
    "start_time": "2024-06-04T22:20:23.603Z"
   },
   {
    "duration": 15,
    "start_time": "2024-06-04T22:20:23.624Z"
   },
   {
    "duration": 15,
    "start_time": "2024-06-04T22:20:23.642Z"
   },
   {
    "duration": 53,
    "start_time": "2024-06-04T22:20:23.660Z"
   },
   {
    "duration": 15,
    "start_time": "2024-06-04T22:20:23.716Z"
   },
   {
    "duration": 17,
    "start_time": "2024-06-04T22:20:23.734Z"
   },
   {
    "duration": 57,
    "start_time": "2024-06-04T22:20:23.755Z"
   },
   {
    "duration": 5158,
    "start_time": "2024-06-06T04:19:56.344Z"
   },
   {
    "duration": 78,
    "start_time": "2024-06-06T04:20:04.844Z"
   },
   {
    "duration": 3,
    "start_time": "2024-06-06T04:20:29.237Z"
   },
   {
    "duration": 1288,
    "start_time": "2024-06-06T04:23:28.870Z"
   },
   {
    "duration": 4,
    "start_time": "2024-06-06T04:23:54.614Z"
   },
   {
    "duration": 56,
    "start_time": "2024-06-06T04:23:54.622Z"
   },
   {
    "duration": 77,
    "start_time": "2024-06-06T04:23:54.682Z"
   },
   {
    "duration": 19,
    "start_time": "2024-06-06T04:23:54.762Z"
   },
   {
    "duration": 52,
    "start_time": "2024-06-06T04:23:54.786Z"
   },
   {
    "duration": 29,
    "start_time": "2024-06-06T04:23:54.842Z"
   },
   {
    "duration": 48,
    "start_time": "2024-06-06T04:23:54.875Z"
   },
   {
    "duration": 34,
    "start_time": "2024-06-06T04:23:54.926Z"
   },
   {
    "duration": 413,
    "start_time": "2024-06-06T04:23:54.963Z"
   },
   {
    "duration": 270,
    "start_time": "2024-06-06T04:23:55.379Z"
   },
   {
    "duration": 716,
    "start_time": "2024-06-06T04:23:55.655Z"
   },
   {
    "duration": 25,
    "start_time": "2024-06-06T04:23:56.375Z"
   },
   {
    "duration": 647,
    "start_time": "2024-06-06T04:23:56.424Z"
   },
   {
    "duration": 18,
    "start_time": "2024-06-06T04:23:57.074Z"
   },
   {
    "duration": 280,
    "start_time": "2024-06-06T04:23:57.095Z"
   },
   {
    "duration": 432,
    "start_time": "2024-06-06T04:23:57.379Z"
   },
   {
    "duration": 233,
    "start_time": "2024-06-06T04:23:57.822Z"
   },
   {
    "duration": 236,
    "start_time": "2024-06-06T04:23:58.058Z"
   },
   {
    "duration": 227,
    "start_time": "2024-06-06T04:23:58.298Z"
   },
   {
    "duration": 15,
    "start_time": "2024-06-06T04:23:58.528Z"
   },
   {
    "duration": 15,
    "start_time": "2024-06-06T04:23:58.546Z"
   },
   {
    "duration": 16,
    "start_time": "2024-06-06T04:23:58.564Z"
   },
   {
    "duration": 14,
    "start_time": "2024-06-06T04:23:58.623Z"
   },
   {
    "duration": 15,
    "start_time": "2024-06-06T04:23:58.641Z"
   },
   {
    "duration": 15,
    "start_time": "2024-06-06T04:23:58.658Z"
   },
   {
    "duration": 56,
    "start_time": "2024-06-06T04:23:58.676Z"
   },
   {
    "duration": 19,
    "start_time": "2024-06-06T04:23:58.735Z"
   },
   {
    "duration": 45,
    "start_time": "2024-06-06T04:44:08.840Z"
   },
   {
    "duration": 32,
    "start_time": "2024-06-06T04:46:47.026Z"
   },
   {
    "duration": 18,
    "start_time": "2024-06-06T04:47:23.054Z"
   },
   {
    "duration": 34,
    "start_time": "2024-06-06T04:47:42.468Z"
   },
   {
    "duration": 912,
    "start_time": "2024-06-06T04:48:40.842Z"
   },
   {
    "duration": 33,
    "start_time": "2024-06-06T04:50:37.419Z"
   },
   {
    "duration": 934,
    "start_time": "2024-06-06T04:55:49.971Z"
   },
   {
    "duration": 362,
    "start_time": "2024-06-06T11:57:26.127Z"
   },
   {
    "duration": 5060,
    "start_time": "2024-06-06T11:57:32.445Z"
   },
   {
    "duration": 96,
    "start_time": "2024-06-06T11:57:37.510Z"
   },
   {
    "duration": 50,
    "start_time": "2024-06-06T11:57:37.610Z"
   },
   {
    "duration": 18,
    "start_time": "2024-06-06T11:57:37.663Z"
   },
   {
    "duration": 22,
    "start_time": "2024-06-06T11:57:37.685Z"
   },
   {
    "duration": 22,
    "start_time": "2024-06-06T11:57:37.734Z"
   },
   {
    "duration": 20,
    "start_time": "2024-06-06T11:57:37.759Z"
   },
   {
    "duration": 58,
    "start_time": "2024-06-06T11:57:37.783Z"
   },
   {
    "duration": 415,
    "start_time": "2024-06-06T11:57:37.843Z"
   },
   {
    "duration": 257,
    "start_time": "2024-06-06T11:57:38.264Z"
   },
   {
    "duration": 542,
    "start_time": "2024-06-06T11:57:38.524Z"
   },
   {
    "duration": 0,
    "start_time": "2024-06-06T11:57:39.069Z"
   },
   {
    "duration": 0,
    "start_time": "2024-06-06T11:57:39.071Z"
   },
   {
    "duration": 0,
    "start_time": "2024-06-06T11:57:39.074Z"
   },
   {
    "duration": 0,
    "start_time": "2024-06-06T11:57:39.077Z"
   },
   {
    "duration": 0,
    "start_time": "2024-06-06T11:57:39.080Z"
   },
   {
    "duration": 0,
    "start_time": "2024-06-06T11:57:39.082Z"
   },
   {
    "duration": 0,
    "start_time": "2024-06-06T11:57:39.085Z"
   },
   {
    "duration": 0,
    "start_time": "2024-06-06T11:57:39.087Z"
   },
   {
    "duration": 0,
    "start_time": "2024-06-06T11:57:39.089Z"
   },
   {
    "duration": 0,
    "start_time": "2024-06-06T11:57:39.092Z"
   },
   {
    "duration": 0,
    "start_time": "2024-06-06T11:57:39.134Z"
   },
   {
    "duration": 0,
    "start_time": "2024-06-06T11:57:39.136Z"
   },
   {
    "duration": 0,
    "start_time": "2024-06-06T11:57:39.137Z"
   },
   {
    "duration": 0,
    "start_time": "2024-06-06T11:57:39.139Z"
   },
   {
    "duration": 0,
    "start_time": "2024-06-06T11:57:39.141Z"
   },
   {
    "duration": 0,
    "start_time": "2024-06-06T11:57:39.142Z"
   },
   {
    "duration": 0,
    "start_time": "2024-06-06T11:57:39.144Z"
   },
   {
    "duration": 76,
    "start_time": "2024-06-06T11:58:09.884Z"
   },
   {
    "duration": 42,
    "start_time": "2024-06-06T11:58:31.806Z"
   },
   {
    "duration": 4767,
    "start_time": "2024-06-06T11:59:31.824Z"
   },
   {
    "duration": 34,
    "start_time": "2024-06-06T12:00:29.804Z"
   },
   {
    "duration": 28,
    "start_time": "2024-06-06T12:00:45.898Z"
   },
   {
    "duration": 20252,
    "start_time": "2024-06-06T12:01:10.918Z"
   },
   {
    "duration": 24788,
    "start_time": "2024-06-06T12:01:31.673Z"
   },
   {
    "duration": 258,
    "start_time": "2024-06-06T12:06:01.093Z"
   },
   {
    "duration": 360,
    "start_time": "2024-06-06T14:48:16.386Z"
   },
   {
    "duration": 5158,
    "start_time": "2024-06-06T14:48:24.232Z"
   },
   {
    "duration": 82,
    "start_time": "2024-06-06T14:48:29.394Z"
   },
   {
    "duration": 68,
    "start_time": "2024-06-06T14:48:29.480Z"
   },
   {
    "duration": 21,
    "start_time": "2024-06-06T14:48:29.552Z"
   },
   {
    "duration": 55,
    "start_time": "2024-06-06T14:48:29.578Z"
   },
   {
    "duration": 28,
    "start_time": "2024-06-06T14:48:29.637Z"
   },
   {
    "duration": 60,
    "start_time": "2024-06-06T14:48:29.668Z"
   },
   {
    "duration": 44,
    "start_time": "2024-06-06T14:48:29.732Z"
   },
   {
    "duration": 445,
    "start_time": "2024-06-06T14:48:29.779Z"
   },
   {
    "duration": 318,
    "start_time": "2024-06-06T14:48:30.228Z"
   },
   {
    "duration": 347,
    "start_time": "2024-06-06T14:48:30.550Z"
   },
   {
    "duration": 818,
    "start_time": "2024-06-06T14:48:30.901Z"
   },
   {
    "duration": 28,
    "start_time": "2024-06-06T14:48:31.724Z"
   },
   {
    "duration": 549,
    "start_time": "2024-06-06T14:48:31.759Z"
   },
   {
    "duration": 29,
    "start_time": "2024-06-06T14:48:32.311Z"
   },
   {
    "duration": 283,
    "start_time": "2024-06-06T14:48:32.343Z"
   },
   {
    "duration": 476,
    "start_time": "2024-06-06T14:48:32.629Z"
   },
   {
    "duration": 235,
    "start_time": "2024-06-06T14:48:33.109Z"
   },
   {
    "duration": 242,
    "start_time": "2024-06-06T14:48:33.348Z"
   },
   {
    "duration": 364,
    "start_time": "2024-06-06T14:48:33.593Z"
   },
   {
    "duration": 15,
    "start_time": "2024-06-06T14:48:33.960Z"
   },
   {
    "duration": 15,
    "start_time": "2024-06-06T14:48:33.981Z"
   },
   {
    "duration": 16,
    "start_time": "2024-06-06T14:48:34.025Z"
   },
   {
    "duration": 17,
    "start_time": "2024-06-06T14:48:34.043Z"
   },
   {
    "duration": 15,
    "start_time": "2024-06-06T14:48:34.063Z"
   },
   {
    "duration": 53,
    "start_time": "2024-06-06T14:48:34.081Z"
   },
   {
    "duration": 18,
    "start_time": "2024-06-06T14:48:34.136Z"
   },
   {
    "duration": 19,
    "start_time": "2024-06-06T14:48:34.157Z"
   },
   {
    "duration": 419,
    "start_time": "2024-06-06T14:49:14.231Z"
   },
   {
    "duration": 9,
    "start_time": "2024-06-06T14:49:42.487Z"
   },
   {
    "duration": 66,
    "start_time": "2024-06-06T14:50:16.468Z"
   },
   {
    "duration": 195,
    "start_time": "2024-06-06T14:50:51.361Z"
   },
   {
    "duration": 234,
    "start_time": "2024-06-06T14:57:36.064Z"
   },
   {
    "duration": 245,
    "start_time": "2024-06-06T14:57:50.709Z"
   },
   {
    "duration": 9,
    "start_time": "2024-06-06T15:06:15.445Z"
   },
   {
    "duration": 982,
    "start_time": "2024-06-06T15:06:42.808Z"
   },
   {
    "duration": 1147,
    "start_time": "2024-06-06T15:07:00.056Z"
   },
   {
    "duration": 1067,
    "start_time": "2024-06-06T15:07:12.077Z"
   },
   {
    "duration": 998,
    "start_time": "2024-06-06T15:07:22.870Z"
   },
   {
    "duration": 1017,
    "start_time": "2024-06-06T15:08:19.450Z"
   },
   {
    "duration": 1059,
    "start_time": "2024-06-06T15:08:31.578Z"
   },
   {
    "duration": 1194,
    "start_time": "2024-06-06T15:08:49.707Z"
   },
   {
    "duration": 1016,
    "start_time": "2024-06-06T15:09:01.095Z"
   },
   {
    "duration": 990,
    "start_time": "2024-06-06T15:10:27.782Z"
   },
   {
    "duration": 1042,
    "start_time": "2024-06-06T15:15:57.581Z"
   },
   {
    "duration": 8,
    "start_time": "2024-06-06T16:35:23.725Z"
   },
   {
    "duration": 8,
    "start_time": "2024-06-06T16:35:46.095Z"
   },
   {
    "duration": 10,
    "start_time": "2024-06-06T16:36:21.019Z"
   },
   {
    "duration": 7,
    "start_time": "2024-06-06T16:36:26.268Z"
   },
   {
    "duration": 8,
    "start_time": "2024-06-06T16:36:55.420Z"
   },
   {
    "duration": 340,
    "start_time": "2024-06-07T02:32:31.267Z"
   },
   {
    "duration": 4874,
    "start_time": "2024-06-07T02:32:40.242Z"
   },
   {
    "duration": 73,
    "start_time": "2024-06-07T02:32:45.121Z"
   },
   {
    "duration": 53,
    "start_time": "2024-06-07T02:32:45.196Z"
   },
   {
    "duration": 17,
    "start_time": "2024-06-07T02:32:45.254Z"
   },
   {
    "duration": 21,
    "start_time": "2024-06-07T02:32:45.274Z"
   },
   {
    "duration": 258,
    "start_time": "2024-06-07T02:32:45.299Z"
   },
   {
    "duration": 25,
    "start_time": "2024-06-07T02:32:45.560Z"
   },
   {
    "duration": 47,
    "start_time": "2024-06-07T02:32:45.587Z"
   },
   {
    "duration": 31,
    "start_time": "2024-06-07T02:32:45.637Z"
   },
   {
    "duration": 383,
    "start_time": "2024-06-07T02:32:45.674Z"
   },
   {
    "duration": 257,
    "start_time": "2024-06-07T02:32:46.060Z"
   },
   {
    "duration": 1096,
    "start_time": "2024-06-07T02:32:46.320Z"
   },
   {
    "duration": 717,
    "start_time": "2024-06-07T02:32:47.420Z"
   },
   {
    "duration": 24,
    "start_time": "2024-06-07T02:32:48.139Z"
   },
   {
    "duration": 885,
    "start_time": "2024-06-07T02:32:48.166Z"
   },
   {
    "duration": 22,
    "start_time": "2024-06-07T02:32:49.055Z"
   },
   {
    "duration": 434,
    "start_time": "2024-06-07T02:32:49.134Z"
   },
   {
    "duration": 434,
    "start_time": "2024-06-07T02:32:49.572Z"
   },
   {
    "duration": 229,
    "start_time": "2024-06-07T02:32:50.010Z"
   },
   {
    "duration": 216,
    "start_time": "2024-06-07T02:32:50.243Z"
   },
   {
    "duration": 314,
    "start_time": "2024-06-07T02:32:50.463Z"
   },
   {
    "duration": 15,
    "start_time": "2024-06-07T02:32:50.780Z"
   },
   {
    "duration": 37,
    "start_time": "2024-06-07T02:32:50.798Z"
   },
   {
    "duration": 14,
    "start_time": "2024-06-07T02:32:50.840Z"
   },
   {
    "duration": 15,
    "start_time": "2024-06-07T02:32:50.858Z"
   },
   {
    "duration": 14,
    "start_time": "2024-06-07T02:32:50.876Z"
   },
   {
    "duration": 51,
    "start_time": "2024-06-07T02:32:50.893Z"
   },
   {
    "duration": 16,
    "start_time": "2024-06-07T02:32:50.950Z"
   },
   {
    "duration": 19,
    "start_time": "2024-06-07T02:32:50.968Z"
   },
   {
    "duration": 325,
    "start_time": "2024-06-07T02:33:36.390Z"
   },
   {
    "duration": 8,
    "start_time": "2024-06-07T02:34:45.551Z"
   },
   {
    "duration": 10,
    "start_time": "2024-06-07T02:35:02.470Z"
   },
   {
    "duration": 1171,
    "start_time": "2024-06-07T02:35:49.891Z"
   },
   {
    "duration": 8,
    "start_time": "2024-06-07T02:40:09.903Z"
   },
   {
    "duration": 21,
    "start_time": "2024-06-07T02:40:19.616Z"
   },
   {
    "duration": 12,
    "start_time": "2024-06-07T02:40:48.107Z"
   },
   {
    "duration": 196,
    "start_time": "2024-06-07T02:41:33.468Z"
   },
   {
    "duration": 187,
    "start_time": "2024-06-07T02:42:03.125Z"
   },
   {
    "duration": 12,
    "start_time": "2024-06-07T02:42:18.525Z"
   },
   {
    "duration": 231,
    "start_time": "2024-06-07T02:42:29.831Z"
   },
   {
    "duration": 202,
    "start_time": "2024-06-07T03:38:35.655Z"
   },
   {
    "duration": 386,
    "start_time": "2024-06-07T03:41:39.730Z"
   },
   {
    "duration": 437,
    "start_time": "2024-06-07T03:42:59.402Z"
   },
   {
    "duration": 440,
    "start_time": "2024-06-07T03:43:22.461Z"
   },
   {
    "duration": 711,
    "start_time": "2024-06-07T03:53:32.656Z"
   },
   {
    "duration": 9,
    "start_time": "2024-06-07T03:54:31.188Z"
   },
   {
    "duration": 16,
    "start_time": "2024-06-07T03:54:40.468Z"
   },
   {
    "duration": 39,
    "start_time": "2024-06-07T03:58:33.098Z"
   },
   {
    "duration": 16,
    "start_time": "2024-06-07T03:59:27.770Z"
   },
   {
    "duration": 23,
    "start_time": "2024-06-07T03:59:32.808Z"
   },
   {
    "duration": 24,
    "start_time": "2024-06-07T03:59:44.346Z"
   },
   {
    "duration": 83,
    "start_time": "2024-06-07T03:59:52.075Z"
   },
   {
    "duration": 24,
    "start_time": "2024-06-07T04:00:43.480Z"
   },
   {
    "duration": 4,
    "start_time": "2024-06-07T04:01:26.301Z"
   },
   {
    "duration": 46,
    "start_time": "2024-06-07T04:01:38.312Z"
   },
   {
    "duration": 4,
    "start_time": "2024-06-07T04:02:17.128Z"
   },
   {
    "duration": 31,
    "start_time": "2024-06-07T04:03:00.667Z"
   },
   {
    "duration": 80,
    "start_time": "2024-06-07T04:03:04.406Z"
   },
   {
    "duration": 83,
    "start_time": "2024-06-07T04:03:58.241Z"
   },
   {
    "duration": 21,
    "start_time": "2024-06-07T04:06:08.632Z"
   },
   {
    "duration": 8,
    "start_time": "2024-06-07T04:06:13.973Z"
   },
   {
    "duration": 18,
    "start_time": "2024-06-07T04:06:38.749Z"
   },
   {
    "duration": 81,
    "start_time": "2024-06-07T04:07:19.304Z"
   },
   {
    "duration": 30,
    "start_time": "2024-06-07T04:08:07.783Z"
   },
   {
    "duration": 23,
    "start_time": "2024-06-07T04:08:10.417Z"
   },
   {
    "duration": 6,
    "start_time": "2024-06-07T04:08:18.760Z"
   },
   {
    "duration": 8,
    "start_time": "2024-06-07T04:08:29.049Z"
   },
   {
    "duration": 243,
    "start_time": "2024-06-07T04:09:04.777Z"
   },
   {
    "duration": 49,
    "start_time": "2024-06-07T04:09:14.736Z"
   },
   {
    "duration": 8,
    "start_time": "2024-06-07T04:09:34.907Z"
   },
   {
    "duration": 42,
    "start_time": "2024-06-07T04:09:54.899Z"
   },
   {
    "duration": 14,
    "start_time": "2024-06-07T04:10:22.280Z"
   },
   {
    "duration": 11,
    "start_time": "2024-06-07T04:15:15.294Z"
   },
   {
    "duration": 8,
    "start_time": "2024-06-07T04:15:27.346Z"
   },
   {
    "duration": 8,
    "start_time": "2024-06-07T04:15:33.829Z"
   },
   {
    "duration": 9,
    "start_time": "2024-06-07T04:15:44.508Z"
   },
   {
    "duration": 8,
    "start_time": "2024-06-07T04:15:53.716Z"
   },
   {
    "duration": 19,
    "start_time": "2024-06-07T04:15:58.512Z"
   },
   {
    "duration": 21,
    "start_time": "2024-06-07T04:16:11.791Z"
   },
   {
    "duration": 21,
    "start_time": "2024-06-07T04:16:27.525Z"
   },
   {
    "duration": 23,
    "start_time": "2024-06-07T04:18:26.330Z"
   },
   {
    "duration": 25,
    "start_time": "2024-06-07T04:18:37.429Z"
   },
   {
    "duration": 22,
    "start_time": "2024-06-07T04:18:43.097Z"
   }
  ],
  "kernelspec": {
   "display_name": "Python 3 (ipykernel)",
   "language": "python",
   "name": "python3"
  },
  "language_info": {
   "codemirror_mode": {
    "name": "ipython",
    "version": 3
   },
   "file_extension": ".py",
   "mimetype": "text/x-python",
   "name": "python",
   "nbconvert_exporter": "python",
   "pygments_lexer": "ipython3",
   "version": "3.9.19"
  },
  "toc": {
   "base_numbering": 1,
   "nav_menu": {},
   "number_sections": true,
   "sideBar": true,
   "skip_h1_title": true,
   "title_cell": "Table of Contents",
   "title_sidebar": "Contents",
   "toc_cell": false,
   "toc_position": {
    "height": "calc(100% - 180px)",
    "left": "10px",
    "top": "150px",
    "width": "165px"
   },
   "toc_section_display": true,
   "toc_window_display": true
  }
 },
 "nbformat": 4,
 "nbformat_minor": 2
}
